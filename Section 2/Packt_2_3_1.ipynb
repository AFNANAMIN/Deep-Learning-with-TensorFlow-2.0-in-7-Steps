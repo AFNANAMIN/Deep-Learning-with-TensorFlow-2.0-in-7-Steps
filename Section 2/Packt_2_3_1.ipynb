{
  "nbformat": 4,
  "nbformat_minor": 0,
  "metadata": {
    "colab": {
      "name": "Packt_2.3_1.ipynb",
      "version": "0.3.2",
      "provenance": [],
      "collapsed_sections": []
    },
    "kernelspec": {
      "name": "python3",
      "display_name": "Python 3"
    }
  },
  "cells": [
    {
      "metadata": {
        "id": "FFcfoWv9slzW",
        "colab_type": "text"
      },
      "cell_type": "markdown",
      "source": [
        "# Getting Started with TensorFlow 2.0 in 7 Days\n",
        "## 2.3 Revisiting Activation Functions"
      ]
    },
    {
      "metadata": {
        "id": "ZbCi06hErswK",
        "colab_type": "code",
        "outputId": "6f76225f-97e3-444c-f38c-74df119614f0",
        "colab": {
          "base_uri": "https://localhost:8080/",
          "height": 360
        }
      },
      "cell_type": "code",
      "source": [
        "!pip install tf-nightly-2.0-preview"
      ],
      "execution_count": 5,
      "outputs": [
        {
          "output_type": "stream",
          "text": [
            "Requirement already satisfied: tf-nightly-2.0-preview in /usr/local/lib/python3.6/dist-packages (2.0.0.dev20190302)\n",
            "Requirement already satisfied: absl-py>=0.7.0 in /usr/local/lib/python3.6/dist-packages (from tf-nightly-2.0-preview) (0.7.0)\n",
            "Requirement already satisfied: grpcio>=1.8.6 in /usr/local/lib/python3.6/dist-packages (from tf-nightly-2.0-preview) (1.15.0)\n",
            "Requirement already satisfied: wheel>=0.26 in /usr/local/lib/python3.6/dist-packages (from tf-nightly-2.0-preview) (0.33.1)\n",
            "Requirement already satisfied: termcolor>=1.1.0 in /usr/local/lib/python3.6/dist-packages (from tf-nightly-2.0-preview) (1.1.0)\n",
            "Requirement already satisfied: numpy<2.0,>=1.14.5 in /usr/local/lib/python3.6/dist-packages (from tf-nightly-2.0-preview) (1.14.6)\n",
            "Requirement already satisfied: keras-applications>=1.0.6 in /usr/local/lib/python3.6/dist-packages (from tf-nightly-2.0-preview) (1.0.7)\n",
            "Requirement already satisfied: tb-nightly<1.15.0a0,>=1.14.0a0 in /usr/local/lib/python3.6/dist-packages (from tf-nightly-2.0-preview) (1.14.0a20190302)\n",
            "Requirement already satisfied: six>=1.10.0 in /usr/local/lib/python3.6/dist-packages (from tf-nightly-2.0-preview) (1.11.0)\n",
            "Requirement already satisfied: tensorflow-estimator-2.0-preview in /usr/local/lib/python3.6/dist-packages (from tf-nightly-2.0-preview) (1.14.0.dev2019030200)\n",
            "Requirement already satisfied: gast>=0.2.0 in /usr/local/lib/python3.6/dist-packages (from tf-nightly-2.0-preview) (0.2.2)\n",
            "Requirement already satisfied: keras-preprocessing>=1.0.5 in /usr/local/lib/python3.6/dist-packages (from tf-nightly-2.0-preview) (1.0.9)\n",
            "Requirement already satisfied: protobuf>=3.6.1 in /usr/local/lib/python3.6/dist-packages (from tf-nightly-2.0-preview) (3.6.1)\n",
            "Requirement already satisfied: astor>=0.6.0 in /usr/local/lib/python3.6/dist-packages (from tf-nightly-2.0-preview) (0.7.1)\n",
            "Requirement already satisfied: google-pasta>=0.1.2 in /usr/local/lib/python3.6/dist-packages (from tf-nightly-2.0-preview) (0.1.4)\n",
            "Requirement already satisfied: h5py in /usr/local/lib/python3.6/dist-packages (from keras-applications>=1.0.6->tf-nightly-2.0-preview) (2.8.0)\n",
            "Requirement already satisfied: markdown>=2.6.8 in /usr/local/lib/python3.6/dist-packages (from tb-nightly<1.15.0a0,>=1.14.0a0->tf-nightly-2.0-preview) (3.0.1)\n",
            "Requirement already satisfied: werkzeug>=0.11.15 in /usr/local/lib/python3.6/dist-packages (from tb-nightly<1.15.0a0,>=1.14.0a0->tf-nightly-2.0-preview) (0.14.1)\n",
            "Requirement already satisfied: setuptools in /usr/local/lib/python3.6/dist-packages (from protobuf>=3.6.1->tf-nightly-2.0-preview) (40.8.0)\n"
          ],
          "name": "stdout"
        }
      ]
    },
    {
      "metadata": {
        "id": "rHPWRho1suka",
        "colab_type": "code",
        "colab": {}
      },
      "cell_type": "code",
      "source": [
        "import tensorflow as tf\n",
        "from tensorflow import keras\n",
        "import numpy as np\n",
        "import matplotlib.pyplot as plt\n",
        "\n",
        "%matplotlib inline"
      ],
      "execution_count": 0,
      "outputs": []
    },
    {
      "metadata": {
        "id": "BSPefX7qtA8g",
        "colab_type": "code",
        "colab": {}
      },
      "cell_type": "code",
      "source": [
        "fashion_mnist = keras.datasets.fashion_mnist\n",
        "(train_images, train_labels), (test_images, test_labels) = fashion_mnist.load_data()\n",
        "class_names = ['T-shirt/top', 'Trouser', 'Pullover', 'Dress', 'Coat', \n",
        "               'Sandal', 'Shirt', 'Sneaker', 'Bag', 'Ankle boot']\n",
        "train_images = train_images / 255.0\n",
        "test_images = test_images / 255.0"
      ],
      "execution_count": 0,
      "outputs": []
    },
    {
      "metadata": {
        "id": "S8OUlTe_tOOv",
        "colab_type": "text"
      },
      "cell_type": "markdown",
      "source": [
        "## Sigmoid"
      ]
    },
    {
      "metadata": {
        "id": "pMLpd9AatFaB",
        "colab_type": "code",
        "outputId": "f3e732a8-8335-4406-cb3e-0ecd3f07e35d",
        "colab": {
          "base_uri": "https://localhost:8080/",
          "height": 204
        }
      },
      "cell_type": "code",
      "source": [
        "model_1 = keras.Sequential([\n",
        "    keras.layers.Flatten(input_shape=(28, 28)),\n",
        "    keras.layers.Dense(2000, activation='sigmoid'),\n",
        "    keras.layers.Dense(2000, activation='sigmoid'),\n",
        "    keras.layers.Dense(10, activation='softmax')\n",
        "])\n",
        "model_1.compile(optimizer='adam', loss='sparse_categorical_crossentropy', metrics=['accuracy'])\n",
        "model_1.fit(train_images, train_labels, epochs=5)"
      ],
      "execution_count": 8,
      "outputs": [
        {
          "output_type": "stream",
          "text": [
            "Epoch 1/5\n",
            "60000/60000 [==============================] - 114s 2ms/sample - loss: 0.5516 - accuracy: 0.8038\n",
            "Epoch 2/5\n",
            "60000/60000 [==============================] - 112s 2ms/sample - loss: 0.3723 - accuracy: 0.8620\n",
            "Epoch 3/5\n",
            "60000/60000 [==============================] - 112s 2ms/sample - loss: 0.3300 - accuracy: 0.8785\n",
            "Epoch 4/5\n",
            "60000/60000 [==============================] - 112s 2ms/sample - loss: 0.3011 - accuracy: 0.8868\n",
            "Epoch 5/5\n",
            "60000/60000 [==============================] - 112s 2ms/sample - loss: 0.2779 - accuracy: 0.8942\n"
          ],
          "name": "stdout"
        },
        {
          "output_type": "execute_result",
          "data": {
            "text/plain": [
              "<tensorflow.python.keras.callbacks.History at 0x7f956bc877b8>"
            ]
          },
          "metadata": {
            "tags": []
          },
          "execution_count": 8
        }
      ]
    },
    {
      "metadata": {
        "id": "v0O_DUBivNSs",
        "colab_type": "text"
      },
      "cell_type": "markdown",
      "source": [
        "## TanH"
      ]
    },
    {
      "metadata": {
        "id": "OZNOBouAtWsz",
        "colab_type": "code",
        "outputId": "35987906-3ae3-4d22-9ca8-3b60887abada",
        "colab": {
          "base_uri": "https://localhost:8080/",
          "height": 204
        }
      },
      "cell_type": "code",
      "source": [
        "model_2 = keras.Sequential([\n",
        "    keras.layers.Flatten(input_shape=(28, 28)),\n",
        "    keras.layers.Dense(2000, activation='tanh'),\n",
        "    keras.layers.Dense(2000, activation='tanh'),\n",
        "    keras.layers.Dense(10, activation='softmax')\n",
        "])\n",
        "model_2.compile(optimizer='adam', loss='sparse_categorical_crossentropy', metrics=['accuracy'])\n",
        "model_2.fit(train_images, train_labels, epochs=5)"
      ],
      "execution_count": 9,
      "outputs": [
        {
          "output_type": "stream",
          "text": [
            "Epoch 1/5\n",
            "60000/60000 [==============================] - 114s 2ms/sample - loss: 0.6158 - accuracy: 0.7974\n",
            "Epoch 2/5\n",
            "60000/60000 [==============================] - 114s 2ms/sample - loss: 0.4998 - accuracy: 0.8318\n",
            "Epoch 3/5\n",
            "60000/60000 [==============================] - 113s 2ms/sample - loss: 0.4683 - accuracy: 0.8431\n",
            "Epoch 4/5\n",
            "60000/60000 [==============================] - 114s 2ms/sample - loss: 0.4696 - accuracy: 0.8435\n",
            "Epoch 5/5\n",
            "60000/60000 [==============================] - 113s 2ms/sample - loss: 0.4485 - accuracy: 0.8491\n"
          ],
          "name": "stdout"
        },
        {
          "output_type": "execute_result",
          "data": {
            "text/plain": [
              "<tensorflow.python.keras.callbacks.History at 0x7f9561d01e10>"
            ]
          },
          "metadata": {
            "tags": []
          },
          "execution_count": 9
        }
      ]
    },
    {
      "metadata": {
        "id": "eJVjEtTvwINe",
        "colab_type": "text"
      },
      "cell_type": "markdown",
      "source": [
        "## ReLU"
      ]
    },
    {
      "metadata": {
        "id": "lTxCUWV6vTUP",
        "colab_type": "code",
        "outputId": "86edeed9-1c30-4acb-c327-452b7cf6f926",
        "colab": {
          "base_uri": "https://localhost:8080/",
          "height": 204
        }
      },
      "cell_type": "code",
      "source": [
        "model_3 = keras.Sequential([\n",
        "    keras.layers.Flatten(input_shape=(28, 28)),\n",
        "    keras.layers.Dense(2000, activation='relu'),\n",
        "    keras.layers.Dense(2000, activation='relu'),\n",
        "    keras.layers.Dense(10, activation='softmax')\n",
        "])\n",
        "model_3.compile(optimizer='adam', loss='sparse_categorical_crossentropy', metrics=['accuracy'])\n",
        "model_3.fit(train_images, train_labels, epochs=5)"
      ],
      "execution_count": 11,
      "outputs": [
        {
          "output_type": "stream",
          "text": [
            "Epoch 1/5\n",
            "60000/60000 [==============================] - 121s 2ms/sample - loss: 0.4714 - accuracy: 0.8293\n",
            "Epoch 2/5\n",
            "60000/60000 [==============================] - 124s 2ms/sample - loss: 0.3594 - accuracy: 0.8677\n",
            "Epoch 3/5\n",
            "60000/60000 [==============================] - 125s 2ms/sample - loss: 0.3212 - accuracy: 0.8800\n",
            "Epoch 4/5\n",
            "60000/60000 [==============================] - 124s 2ms/sample - loss: 0.2985 - accuracy: 0.8883\n",
            "Epoch 5/5\n",
            "60000/60000 [==============================] - 125s 2ms/sample - loss: 0.2803 - accuracy: 0.8954\n"
          ],
          "name": "stdout"
        },
        {
          "output_type": "execute_result",
          "data": {
            "text/plain": [
              "<tensorflow.python.keras.callbacks.History at 0x7f9563148cc0>"
            ]
          },
          "metadata": {
            "tags": []
          },
          "execution_count": 11
        }
      ]
    },
    {
      "metadata": {
        "id": "XPRNg3JawMZF",
        "colab_type": "code",
        "colab": {}
      },
      "cell_type": "code",
      "source": [
        ""
      ],
      "execution_count": 0,
      "outputs": []
    }
  ]
}