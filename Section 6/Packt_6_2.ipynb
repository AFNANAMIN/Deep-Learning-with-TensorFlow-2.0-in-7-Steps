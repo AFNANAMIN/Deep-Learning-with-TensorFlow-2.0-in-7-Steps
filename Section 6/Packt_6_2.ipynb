{
  "nbformat": 4,
  "nbformat_minor": 0,
  "metadata": {
    "colab": {
      "name": "Packt_6_2.ipynb",
      "version": "0.3.2",
      "provenance": []
    },
    "kernelspec": {
      "name": "python3",
      "display_name": "Python 3"
    },
    "accelerator": "GPU"
  },
  "cells": [
    {
      "cell_type": "markdown",
      "metadata": {
        "id": "V1OT8iMqXYcH",
        "colab_type": "text"
      },
      "source": [
        "#VGGNet"
      ]
    },
    {
      "cell_type": "code",
      "metadata": {
        "id": "HaAkSq8wXVQo",
        "colab_type": "code",
        "colab": {
          "base_uri": "https://localhost:8080/",
          "height": 367
        },
        "outputId": "dc5777ae-c847-4cfc-8b4b-3ca5dd656f94"
      },
      "source": [
        "!pip install tensorflow-gpu==2.0.0-alpha0"
      ],
      "execution_count": 1,
      "outputs": [
        {
          "output_type": "stream",
          "text": [
            "Requirement already satisfied: tensorflow-gpu==2.0.0-alpha0 in /usr/local/lib/python3.6/dist-packages (2.0.0a0)\n",
            "Requirement already satisfied: termcolor>=1.1.0 in /usr/local/lib/python3.6/dist-packages (from tensorflow-gpu==2.0.0-alpha0) (1.1.0)\n",
            "Requirement already satisfied: grpcio>=1.8.6 in /usr/local/lib/python3.6/dist-packages (from tensorflow-gpu==2.0.0-alpha0) (1.15.0)\n",
            "Requirement already satisfied: keras-applications>=1.0.6 in /usr/local/lib/python3.6/dist-packages (from tensorflow-gpu==2.0.0-alpha0) (1.0.7)\n",
            "Requirement already satisfied: wheel>=0.26 in /usr/local/lib/python3.6/dist-packages (from tensorflow-gpu==2.0.0-alpha0) (0.33.4)\n",
            "Requirement already satisfied: keras-preprocessing>=1.0.5 in /usr/local/lib/python3.6/dist-packages (from tensorflow-gpu==2.0.0-alpha0) (1.0.9)\n",
            "Requirement already satisfied: numpy<2.0,>=1.14.5 in /usr/local/lib/python3.6/dist-packages (from tensorflow-gpu==2.0.0-alpha0) (1.16.3)\n",
            "Requirement already satisfied: protobuf>=3.6.1 in /usr/local/lib/python3.6/dist-packages (from tensorflow-gpu==2.0.0-alpha0) (3.7.1)\n",
            "Requirement already satisfied: six>=1.10.0 in /usr/local/lib/python3.6/dist-packages (from tensorflow-gpu==2.0.0-alpha0) (1.12.0)\n",
            "Requirement already satisfied: tf-estimator-nightly<1.14.0.dev2019030116,>=1.14.0.dev2019030115 in /usr/local/lib/python3.6/dist-packages (from tensorflow-gpu==2.0.0-alpha0) (1.14.0.dev2019030115)\n",
            "Requirement already satisfied: astor>=0.6.0 in /usr/local/lib/python3.6/dist-packages (from tensorflow-gpu==2.0.0-alpha0) (0.7.1)\n",
            "Requirement already satisfied: gast>=0.2.0 in /usr/local/lib/python3.6/dist-packages (from tensorflow-gpu==2.0.0-alpha0) (0.2.2)\n",
            "Requirement already satisfied: tb-nightly<1.14.0a20190302,>=1.14.0a20190301 in /usr/local/lib/python3.6/dist-packages (from tensorflow-gpu==2.0.0-alpha0) (1.14.0a20190301)\n",
            "Requirement already satisfied: absl-py>=0.7.0 in /usr/local/lib/python3.6/dist-packages (from tensorflow-gpu==2.0.0-alpha0) (0.7.1)\n",
            "Requirement already satisfied: google-pasta>=0.1.2 in /usr/local/lib/python3.6/dist-packages (from tensorflow-gpu==2.0.0-alpha0) (0.1.6)\n",
            "Requirement already satisfied: h5py in /usr/local/lib/python3.6/dist-packages (from keras-applications>=1.0.6->tensorflow-gpu==2.0.0-alpha0) (2.8.0)\n",
            "Requirement already satisfied: setuptools in /usr/local/lib/python3.6/dist-packages (from protobuf>=3.6.1->tensorflow-gpu==2.0.0-alpha0) (41.0.1)\n",
            "Requirement already satisfied: markdown>=2.6.8 in /usr/local/lib/python3.6/dist-packages (from tb-nightly<1.14.0a20190302,>=1.14.0a20190301->tensorflow-gpu==2.0.0-alpha0) (3.1)\n",
            "Requirement already satisfied: werkzeug>=0.11.15 in /usr/local/lib/python3.6/dist-packages (from tb-nightly<1.14.0a20190302,>=1.14.0a20190301->tensorflow-gpu==2.0.0-alpha0) (0.15.4)\n"
          ],
          "name": "stdout"
        }
      ]
    },
    {
      "cell_type": "code",
      "metadata": {
        "id": "VEYL-3lwXgq-",
        "colab_type": "code",
        "colab": {}
      },
      "source": [
        "import tensorflow as tf\n",
        "from tensorflow.keras import layers, models, optimizers"
      ],
      "execution_count": 0,
      "outputs": []
    },
    {
      "cell_type": "code",
      "metadata": {
        "id": "r_8Rn8zzcEfl",
        "colab_type": "code",
        "colab": {}
      },
      "source": [
        "NCLASSES = 1000\n",
        "HEIGHT = 224\n",
        "WIDTH = 224\n",
        "NUM_CHANNELS = 3\n",
        "BATCH_SIZE = 128"
      ],
      "execution_count": 0,
      "outputs": []
    },
    {
      "cell_type": "code",
      "metadata": {
        "id": "EHmwmqw_cH76",
        "colab_type": "code",
        "colab": {
          "base_uri": "https://localhost:8080/",
          "height": 936
        },
        "outputId": "ae1fc816-57bd-4276-d5bf-5bc3e6ac350c"
      },
      "source": [
        "model = models.Sequential([\n",
        "    layers.Conv2D(filters=64, kernel_size=(3,3), strides=1, padding='same', activation='relu', input_shape=(HEIGHT, HEIGHT, NUM_CHANNELS), kernel_initializer=tf.initializers.GlorotNormal()),\n",
        "    layers.Conv2D(filters=64, kernel_size=(3,3), strides=1, padding='same', activation='relu', kernel_initializer=tf.initializers.GlorotNormal()),\n",
        "    layers.MaxPooling2D(pool_size=(2,2), strides=2),\n",
        "    layers.Conv2D(filters=128, kernel_size=(3,3), strides=1, padding='same', activation='relu', kernel_initializer=tf.initializers.GlorotNormal()),\n",
        "    layers.Conv2D(filters=128, kernel_size=(3,3), strides=1, padding='same', activation='relu', kernel_initializer=tf.initializers.GlorotNormal()),\n",
        "    layers.MaxPooling2D(pool_size=(2,2), strides=2),\n",
        "    layers.Conv2D(filters=256, kernel_size=(3,3), strides=1, padding='same', activation='relu', kernel_initializer=tf.initializers.GlorotNormal()),\n",
        "    layers.Conv2D(filters=256, kernel_size=(3,3), strides=1, padding='same', activation='relu', kernel_initializer=tf.initializers.GlorotNormal()),\n",
        "    layers.Conv2D(filters=256, kernel_size=(3,3), strides=1, padding='same', activation='relu', kernel_initializer=tf.initializers.GlorotNormal()),\n",
        "    layers.MaxPooling2D(pool_size=(2,2), strides=2),\n",
        "    layers.Conv2D(filters=512, kernel_size=(3,3), strides=1, padding='same', activation='relu', kernel_initializer=tf.initializers.GlorotNormal()),\n",
        "    layers.Conv2D(filters=512, kernel_size=(3,3), strides=1, padding='same', activation='relu', kernel_initializer=tf.initializers.GlorotNormal()),\n",
        "    layers.Conv2D(filters=512, kernel_size=(1,1), strides=1, padding='same', activation='relu', kernel_initializer=tf.initializers.GlorotNormal()),\n",
        "    layers.MaxPooling2D(pool_size=(2,2), strides=2),\n",
        "    layers.Conv2D(filters=512, kernel_size=(3,3), strides=1, padding='same', activation='relu', kernel_initializer=tf.initializers.GlorotNormal()),\n",
        "    layers.Conv2D(filters=512, kernel_size=(3,3), strides=1, padding='same', activation='relu', kernel_initializer=tf.initializers.GlorotNormal()),\n",
        "    layers.Conv2D(filters=512, kernel_size=(1,1), strides=1, padding='same', activation='relu', kernel_initializer=tf.initializers.GlorotNormal()),\n",
        "    layers.MaxPooling2D(pool_size=(2,2), strides=2),\n",
        "    layers.Flatten(),\n",
        "    layers.Dense(4096),\n",
        "    layers.Dense(4096),\n",
        "    layers.Dense(1000, activation='softmax'),\n",
        "])\n",
        "print(model.summary())"
      ],
      "execution_count": 10,
      "outputs": [
        {
          "output_type": "stream",
          "text": [
            "Model: \"sequential_6\"\n",
            "_________________________________________________________________\n",
            "Layer (type)                 Output Shape              Param #   \n",
            "=================================================================\n",
            "conv2d_78 (Conv2D)           (None, 224, 224, 64)      1792      \n",
            "_________________________________________________________________\n",
            "conv2d_79 (Conv2D)           (None, 224, 224, 64)      36928     \n",
            "_________________________________________________________________\n",
            "max_pooling2d_30 (MaxPooling (None, 112, 112, 64)      0         \n",
            "_________________________________________________________________\n",
            "conv2d_80 (Conv2D)           (None, 112, 112, 128)     73856     \n",
            "_________________________________________________________________\n",
            "conv2d_81 (Conv2D)           (None, 112, 112, 128)     147584    \n",
            "_________________________________________________________________\n",
            "max_pooling2d_31 (MaxPooling (None, 56, 56, 128)       0         \n",
            "_________________________________________________________________\n",
            "conv2d_82 (Conv2D)           (None, 56, 56, 256)       295168    \n",
            "_________________________________________________________________\n",
            "conv2d_83 (Conv2D)           (None, 56, 56, 256)       590080    \n",
            "_________________________________________________________________\n",
            "conv2d_84 (Conv2D)           (None, 56, 56, 256)       590080    \n",
            "_________________________________________________________________\n",
            "max_pooling2d_32 (MaxPooling (None, 28, 28, 256)       0         \n",
            "_________________________________________________________________\n",
            "conv2d_85 (Conv2D)           (None, 28, 28, 512)       1180160   \n",
            "_________________________________________________________________\n",
            "conv2d_86 (Conv2D)           (None, 28, 28, 512)       2359808   \n",
            "_________________________________________________________________\n",
            "conv2d_87 (Conv2D)           (None, 28, 28, 512)       262656    \n",
            "_________________________________________________________________\n",
            "max_pooling2d_33 (MaxPooling (None, 14, 14, 512)       0         \n",
            "_________________________________________________________________\n",
            "conv2d_88 (Conv2D)           (None, 14, 14, 512)       2359808   \n",
            "_________________________________________________________________\n",
            "conv2d_89 (Conv2D)           (None, 14, 14, 512)       2359808   \n",
            "_________________________________________________________________\n",
            "conv2d_90 (Conv2D)           (None, 14, 14, 512)       262656    \n",
            "_________________________________________________________________\n",
            "max_pooling2d_34 (MaxPooling (None, 7, 7, 512)         0         \n",
            "_________________________________________________________________\n",
            "flatten (Flatten)            (None, 25088)             0         \n",
            "_________________________________________________________________\n",
            "dense_18 (Dense)             (None, 4096)              102764544 \n",
            "_________________________________________________________________\n",
            "dense_19 (Dense)             (None, 4096)              16781312  \n",
            "_________________________________________________________________\n",
            "dense_20 (Dense)             (None, 1000)              4097000   \n",
            "=================================================================\n",
            "Total params: 134,163,240\n",
            "Trainable params: 134,163,240\n",
            "Non-trainable params: 0\n",
            "_________________________________________________________________\n",
            "None\n"
          ],
          "name": "stdout"
        }
      ]
    },
    {
      "cell_type": "code",
      "metadata": {
        "id": "XmsWm5zXeRBS",
        "colab_type": "code",
        "colab": {}
      },
      "source": [
        ""
      ],
      "execution_count": 0,
      "outputs": []
    }
  ]
}