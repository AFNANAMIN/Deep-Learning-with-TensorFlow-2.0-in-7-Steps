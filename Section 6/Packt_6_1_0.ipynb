{
  "nbformat": 4,
  "nbformat_minor": 0,
  "metadata": {
    "colab": {
      "name": "Packt_6.1_0.ipynb",
      "provenance": [],
      "collapsed_sections": []
    },
    "kernelspec": {
      "name": "python3",
      "display_name": "Python 3"
    }
  },
  "cells": [
    {
      "cell_type": "markdown",
      "metadata": {
        "id": "naEoLDLADGvQ",
        "colab_type": "text"
      },
      "source": [
        "# Transfer Learning\n",
        "## 6.1 \n",
        "\n",
        "### Assignment Solution - Predict Bitcoin Pricing"
      ]
    },
    {
      "cell_type": "code",
      "metadata": {
        "id": "WUCnlTglC_no",
        "colab_type": "code",
        "colab": {
          "base_uri": "https://localhost:8080/",
          "height": 377
        },
        "outputId": "5bf44d46-0328-4945-dc11-e6ee110eaab7"
      },
      "source": [
        "!pip install tensorflow==2.0.0-beta0"
      ],
      "execution_count": 6,
      "outputs": [
        {
          "output_type": "stream",
          "text": [
            "Requirement already satisfied: tensorflow==2.0.0-beta0 in /usr/local/lib/python3.6/dist-packages (2.0.0b0)\n",
            "Requirement already satisfied: six>=1.10.0 in /usr/local/lib/python3.6/dist-packages (from tensorflow==2.0.0-beta0) (1.12.0)\n",
            "Requirement already satisfied: protobuf>=3.6.1 in /usr/local/lib/python3.6/dist-packages (from tensorflow==2.0.0-beta0) (3.7.1)\n",
            "Requirement already satisfied: wrapt>=1.11.1 in /usr/local/lib/python3.6/dist-packages (from tensorflow==2.0.0-beta0) (1.11.2)\n",
            "Requirement already satisfied: keras-preprocessing>=1.0.5 in /usr/local/lib/python3.6/dist-packages (from tensorflow==2.0.0-beta0) (1.1.0)\n",
            "Requirement already satisfied: tb-nightly<1.14.0a20190604,>=1.14.0a20190603 in /usr/local/lib/python3.6/dist-packages (from tensorflow==2.0.0-beta0) (1.14.0a20190603)\n",
            "Requirement already satisfied: tf-estimator-nightly<1.14.0.dev2019060502,>=1.14.0.dev2019060501 in /usr/local/lib/python3.6/dist-packages (from tensorflow==2.0.0-beta0) (1.14.0.dev2019060501)\n",
            "Requirement already satisfied: astor>=0.6.0 in /usr/local/lib/python3.6/dist-packages (from tensorflow==2.0.0-beta0) (0.8.0)\n",
            "Requirement already satisfied: grpcio>=1.8.6 in /usr/local/lib/python3.6/dist-packages (from tensorflow==2.0.0-beta0) (1.15.0)\n",
            "Requirement already satisfied: absl-py>=0.7.0 in /usr/local/lib/python3.6/dist-packages (from tensorflow==2.0.0-beta0) (0.8.0)\n",
            "Requirement already satisfied: gast>=0.2.0 in /usr/local/lib/python3.6/dist-packages (from tensorflow==2.0.0-beta0) (0.2.2)\n",
            "Requirement already satisfied: google-pasta>=0.1.6 in /usr/local/lib/python3.6/dist-packages (from tensorflow==2.0.0-beta0) (0.1.7)\n",
            "Requirement already satisfied: numpy<2.0,>=1.14.5 in /usr/local/lib/python3.6/dist-packages (from tensorflow==2.0.0-beta0) (1.16.5)\n",
            "Requirement already satisfied: wheel>=0.26 in /usr/local/lib/python3.6/dist-packages (from tensorflow==2.0.0-beta0) (0.33.6)\n",
            "Requirement already satisfied: termcolor>=1.1.0 in /usr/local/lib/python3.6/dist-packages (from tensorflow==2.0.0-beta0) (1.1.0)\n",
            "Requirement already satisfied: keras-applications>=1.0.6 in /usr/local/lib/python3.6/dist-packages (from tensorflow==2.0.0-beta0) (1.0.8)\n",
            "Requirement already satisfied: setuptools in /usr/local/lib/python3.6/dist-packages (from protobuf>=3.6.1->tensorflow==2.0.0-beta0) (41.2.0)\n",
            "Requirement already satisfied: markdown>=2.6.8 in /usr/local/lib/python3.6/dist-packages (from tb-nightly<1.14.0a20190604,>=1.14.0a20190603->tensorflow==2.0.0-beta0) (3.1.1)\n",
            "Requirement already satisfied: werkzeug>=0.11.15 in /usr/local/lib/python3.6/dist-packages (from tb-nightly<1.14.0a20190604,>=1.14.0a20190603->tensorflow==2.0.0-beta0) (0.15.6)\n",
            "Requirement already satisfied: h5py in /usr/local/lib/python3.6/dist-packages (from keras-applications>=1.0.6->tensorflow==2.0.0-beta0) (2.8.0)\n"
          ],
          "name": "stdout"
        }
      ]
    },
    {
      "cell_type": "code",
      "metadata": {
        "id": "OMDgqVFhGTr1",
        "colab_type": "code",
        "colab": {}
      },
      "source": [
        "import tensorflow as tf\n",
        "from tensorflow import keras\n",
        "import pandas as pd\n",
        "import numpy as np"
      ],
      "execution_count": 0,
      "outputs": []
    },
    {
      "cell_type": "markdown",
      "metadata": {
        "id": "XovcJEHeQWTF",
        "colab_type": "text"
      },
      "source": [
        "### Mount the folder from my Drive"
      ]
    },
    {
      "cell_type": "code",
      "metadata": {
        "id": "pepxlgg6PjR6",
        "colab_type": "code",
        "colab": {
          "base_uri": "https://localhost:8080/",
          "height": 34
        },
        "outputId": "274211ea-c426-4da1-8175-6ef264c437a3"
      },
      "source": [
        "from google.colab import drive\n",
        "drive.mount('/content/gdrive')"
      ],
      "execution_count": 8,
      "outputs": [
        {
          "output_type": "stream",
          "text": [
            "Drive already mounted at /content/gdrive; to attempt to forcibly remount, call drive.mount(\"/content/gdrive\", force_remount=True).\n"
          ],
          "name": "stdout"
        }
      ]
    },
    {
      "cell_type": "markdown",
      "metadata": {
        "id": "IfZ6IIJxQbaz",
        "colab_type": "text"
      },
      "source": [
        "### Read in the pricing data"
      ]
    },
    {
      "cell_type": "code",
      "metadata": {
        "id": "q9S_O6CyPxrx",
        "colab_type": "code",
        "colab": {}
      },
      "source": [
        "df = pd.read_csv('/content/gdrive/My Drive/bitcoin/coinbaseUSD_1-min_data_2014-12-01_to_2019-01-09.csv')"
      ],
      "execution_count": 0,
      "outputs": []
    },
    {
      "cell_type": "markdown",
      "metadata": {
        "id": "I2S1p1fTjegY",
        "colab_type": "text"
      },
      "source": [
        "### What is in the data?"
      ]
    },
    {
      "cell_type": "code",
      "metadata": {
        "id": "JVcsZLNJhb_p",
        "colab_type": "code",
        "colab": {
          "base_uri": "https://localhost:8080/",
          "height": 204
        },
        "outputId": "cf4b3503-ce81-4912-f8ba-09e2d627e9e9"
      },
      "source": [
        "df.head()"
      ],
      "execution_count": 21,
      "outputs": [
        {
          "output_type": "execute_result",
          "data": {
            "text/html": [
              "<div>\n",
              "<style scoped>\n",
              "    .dataframe tbody tr th:only-of-type {\n",
              "        vertical-align: middle;\n",
              "    }\n",
              "\n",
              "    .dataframe tbody tr th {\n",
              "        vertical-align: top;\n",
              "    }\n",
              "\n",
              "    .dataframe thead th {\n",
              "        text-align: right;\n",
              "    }\n",
              "</style>\n",
              "<table border=\"1\" class=\"dataframe\">\n",
              "  <thead>\n",
              "    <tr style=\"text-align: right;\">\n",
              "      <th></th>\n",
              "      <th>Timestamp</th>\n",
              "      <th>Open</th>\n",
              "      <th>High</th>\n",
              "      <th>Low</th>\n",
              "      <th>Close</th>\n",
              "      <th>Volume_(BTC)</th>\n",
              "      <th>Volume_(Currency)</th>\n",
              "      <th>Weighted_Price</th>\n",
              "    </tr>\n",
              "  </thead>\n",
              "  <tbody>\n",
              "    <tr>\n",
              "      <th>0</th>\n",
              "      <td>1417411980</td>\n",
              "      <td>300.0</td>\n",
              "      <td>300.0</td>\n",
              "      <td>300.0</td>\n",
              "      <td>300.0</td>\n",
              "      <td>0.01</td>\n",
              "      <td>3.0</td>\n",
              "      <td>300.0</td>\n",
              "    </tr>\n",
              "    <tr>\n",
              "      <th>1</th>\n",
              "      <td>1417412040</td>\n",
              "      <td>NaN</td>\n",
              "      <td>NaN</td>\n",
              "      <td>NaN</td>\n",
              "      <td>NaN</td>\n",
              "      <td>NaN</td>\n",
              "      <td>NaN</td>\n",
              "      <td>NaN</td>\n",
              "    </tr>\n",
              "    <tr>\n",
              "      <th>2</th>\n",
              "      <td>1417412100</td>\n",
              "      <td>NaN</td>\n",
              "      <td>NaN</td>\n",
              "      <td>NaN</td>\n",
              "      <td>NaN</td>\n",
              "      <td>NaN</td>\n",
              "      <td>NaN</td>\n",
              "      <td>NaN</td>\n",
              "    </tr>\n",
              "    <tr>\n",
              "      <th>3</th>\n",
              "      <td>1417412160</td>\n",
              "      <td>NaN</td>\n",
              "      <td>NaN</td>\n",
              "      <td>NaN</td>\n",
              "      <td>NaN</td>\n",
              "      <td>NaN</td>\n",
              "      <td>NaN</td>\n",
              "      <td>NaN</td>\n",
              "    </tr>\n",
              "    <tr>\n",
              "      <th>4</th>\n",
              "      <td>1417412220</td>\n",
              "      <td>NaN</td>\n",
              "      <td>NaN</td>\n",
              "      <td>NaN</td>\n",
              "      <td>NaN</td>\n",
              "      <td>NaN</td>\n",
              "      <td>NaN</td>\n",
              "      <td>NaN</td>\n",
              "    </tr>\n",
              "  </tbody>\n",
              "</table>\n",
              "</div>"
            ],
            "text/plain": [
              "    Timestamp   Open   High  ...  Volume_(BTC)  Volume_(Currency)  Weighted_Price\n",
              "0  1417411980  300.0  300.0  ...          0.01                3.0           300.0\n",
              "1  1417412040    NaN    NaN  ...           NaN                NaN             NaN\n",
              "2  1417412100    NaN    NaN  ...           NaN                NaN             NaN\n",
              "3  1417412160    NaN    NaN  ...           NaN                NaN             NaN\n",
              "4  1417412220    NaN    NaN  ...           NaN                NaN             NaN\n",
              "\n",
              "[5 rows x 8 columns]"
            ]
          },
          "metadata": {
            "tags": []
          },
          "execution_count": 21
        }
      ]
    },
    {
      "cell_type": "code",
      "metadata": {
        "id": "sOagYAKgjyez",
        "colab_type": "code",
        "colab": {
          "base_uri": "https://localhost:8080/",
          "height": 204
        },
        "outputId": "24278dbb-4da3-4686-efde-dcafe722129b"
      },
      "source": [
        "df.dropna(axis=0, inplace=True) # drop rows with NaN\n",
        "df.head()"
      ],
      "execution_count": 22,
      "outputs": [
        {
          "output_type": "execute_result",
          "data": {
            "text/html": [
              "<div>\n",
              "<style scoped>\n",
              "    .dataframe tbody tr th:only-of-type {\n",
              "        vertical-align: middle;\n",
              "    }\n",
              "\n",
              "    .dataframe tbody tr th {\n",
              "        vertical-align: top;\n",
              "    }\n",
              "\n",
              "    .dataframe thead th {\n",
              "        text-align: right;\n",
              "    }\n",
              "</style>\n",
              "<table border=\"1\" class=\"dataframe\">\n",
              "  <thead>\n",
              "    <tr style=\"text-align: right;\">\n",
              "      <th></th>\n",
              "      <th>Timestamp</th>\n",
              "      <th>Open</th>\n",
              "      <th>High</th>\n",
              "      <th>Low</th>\n",
              "      <th>Close</th>\n",
              "      <th>Volume_(BTC)</th>\n",
              "      <th>Volume_(Currency)</th>\n",
              "      <th>Weighted_Price</th>\n",
              "    </tr>\n",
              "  </thead>\n",
              "  <tbody>\n",
              "    <tr>\n",
              "      <th>0</th>\n",
              "      <td>1417411980</td>\n",
              "      <td>300.0</td>\n",
              "      <td>300.0</td>\n",
              "      <td>300.0</td>\n",
              "      <td>300.0</td>\n",
              "      <td>0.010000</td>\n",
              "      <td>3.00000</td>\n",
              "      <td>300.0</td>\n",
              "    </tr>\n",
              "    <tr>\n",
              "      <th>7</th>\n",
              "      <td>1417412400</td>\n",
              "      <td>300.0</td>\n",
              "      <td>300.0</td>\n",
              "      <td>300.0</td>\n",
              "      <td>300.0</td>\n",
              "      <td>0.010000</td>\n",
              "      <td>3.00000</td>\n",
              "      <td>300.0</td>\n",
              "    </tr>\n",
              "    <tr>\n",
              "      <th>51</th>\n",
              "      <td>1417415040</td>\n",
              "      <td>370.0</td>\n",
              "      <td>370.0</td>\n",
              "      <td>370.0</td>\n",
              "      <td>370.0</td>\n",
              "      <td>0.010000</td>\n",
              "      <td>3.70000</td>\n",
              "      <td>370.0</td>\n",
              "    </tr>\n",
              "    <tr>\n",
              "      <th>77</th>\n",
              "      <td>1417416600</td>\n",
              "      <td>370.0</td>\n",
              "      <td>370.0</td>\n",
              "      <td>370.0</td>\n",
              "      <td>370.0</td>\n",
              "      <td>0.026556</td>\n",
              "      <td>9.82555</td>\n",
              "      <td>370.0</td>\n",
              "    </tr>\n",
              "    <tr>\n",
              "      <th>1436</th>\n",
              "      <td>1417498140</td>\n",
              "      <td>377.0</td>\n",
              "      <td>377.0</td>\n",
              "      <td>377.0</td>\n",
              "      <td>377.0</td>\n",
              "      <td>0.010000</td>\n",
              "      <td>3.77000</td>\n",
              "      <td>377.0</td>\n",
              "    </tr>\n",
              "  </tbody>\n",
              "</table>\n",
              "</div>"
            ],
            "text/plain": [
              "       Timestamp   Open   High  ...  Volume_(BTC)  Volume_(Currency)  Weighted_Price\n",
              "0     1417411980  300.0  300.0  ...      0.010000            3.00000           300.0\n",
              "7     1417412400  300.0  300.0  ...      0.010000            3.00000           300.0\n",
              "51    1417415040  370.0  370.0  ...      0.010000            3.70000           370.0\n",
              "77    1417416600  370.0  370.0  ...      0.026556            9.82555           370.0\n",
              "1436  1417498140  377.0  377.0  ...      0.010000            3.77000           377.0\n",
              "\n",
              "[5 rows x 8 columns]"
            ]
          },
          "metadata": {
            "tags": []
          },
          "execution_count": 22
        }
      ]
    },
    {
      "cell_type": "code",
      "metadata": {
        "id": "wHEgwZJIkEk_",
        "colab_type": "code",
        "colab": {}
      },
      "source": [
        "df['datetime'] = pd.to_datetime(df['Timestamp'],unit='s')"
      ],
      "execution_count": 0,
      "outputs": []
    },
    {
      "cell_type": "code",
      "metadata": {
        "id": "3ytnJVivkopx",
        "colab_type": "code",
        "colab": {
          "base_uri": "https://localhost:8080/",
          "height": 204
        },
        "outputId": "dcd840a8-9ce9-47e2-f2b0-852772e44561"
      },
      "source": [
        "df.head()"
      ],
      "execution_count": 24,
      "outputs": [
        {
          "output_type": "execute_result",
          "data": {
            "text/html": [
              "<div>\n",
              "<style scoped>\n",
              "    .dataframe tbody tr th:only-of-type {\n",
              "        vertical-align: middle;\n",
              "    }\n",
              "\n",
              "    .dataframe tbody tr th {\n",
              "        vertical-align: top;\n",
              "    }\n",
              "\n",
              "    .dataframe thead th {\n",
              "        text-align: right;\n",
              "    }\n",
              "</style>\n",
              "<table border=\"1\" class=\"dataframe\">\n",
              "  <thead>\n",
              "    <tr style=\"text-align: right;\">\n",
              "      <th></th>\n",
              "      <th>Timestamp</th>\n",
              "      <th>Open</th>\n",
              "      <th>High</th>\n",
              "      <th>Low</th>\n",
              "      <th>Close</th>\n",
              "      <th>Volume_(BTC)</th>\n",
              "      <th>Volume_(Currency)</th>\n",
              "      <th>Weighted_Price</th>\n",
              "      <th>datetime</th>\n",
              "    </tr>\n",
              "  </thead>\n",
              "  <tbody>\n",
              "    <tr>\n",
              "      <th>0</th>\n",
              "      <td>1417411980</td>\n",
              "      <td>300.0</td>\n",
              "      <td>300.0</td>\n",
              "      <td>300.0</td>\n",
              "      <td>300.0</td>\n",
              "      <td>0.010000</td>\n",
              "      <td>3.00000</td>\n",
              "      <td>300.0</td>\n",
              "      <td>2014-12-01 05:33:00</td>\n",
              "    </tr>\n",
              "    <tr>\n",
              "      <th>7</th>\n",
              "      <td>1417412400</td>\n",
              "      <td>300.0</td>\n",
              "      <td>300.0</td>\n",
              "      <td>300.0</td>\n",
              "      <td>300.0</td>\n",
              "      <td>0.010000</td>\n",
              "      <td>3.00000</td>\n",
              "      <td>300.0</td>\n",
              "      <td>2014-12-01 05:40:00</td>\n",
              "    </tr>\n",
              "    <tr>\n",
              "      <th>51</th>\n",
              "      <td>1417415040</td>\n",
              "      <td>370.0</td>\n",
              "      <td>370.0</td>\n",
              "      <td>370.0</td>\n",
              "      <td>370.0</td>\n",
              "      <td>0.010000</td>\n",
              "      <td>3.70000</td>\n",
              "      <td>370.0</td>\n",
              "      <td>2014-12-01 06:24:00</td>\n",
              "    </tr>\n",
              "    <tr>\n",
              "      <th>77</th>\n",
              "      <td>1417416600</td>\n",
              "      <td>370.0</td>\n",
              "      <td>370.0</td>\n",
              "      <td>370.0</td>\n",
              "      <td>370.0</td>\n",
              "      <td>0.026556</td>\n",
              "      <td>9.82555</td>\n",
              "      <td>370.0</td>\n",
              "      <td>2014-12-01 06:50:00</td>\n",
              "    </tr>\n",
              "    <tr>\n",
              "      <th>1436</th>\n",
              "      <td>1417498140</td>\n",
              "      <td>377.0</td>\n",
              "      <td>377.0</td>\n",
              "      <td>377.0</td>\n",
              "      <td>377.0</td>\n",
              "      <td>0.010000</td>\n",
              "      <td>3.77000</td>\n",
              "      <td>377.0</td>\n",
              "      <td>2014-12-02 05:29:00</td>\n",
              "    </tr>\n",
              "  </tbody>\n",
              "</table>\n",
              "</div>"
            ],
            "text/plain": [
              "       Timestamp   Open  ...  Weighted_Price            datetime\n",
              "0     1417411980  300.0  ...           300.0 2014-12-01 05:33:00\n",
              "7     1417412400  300.0  ...           300.0 2014-12-01 05:40:00\n",
              "51    1417415040  370.0  ...           370.0 2014-12-01 06:24:00\n",
              "77    1417416600  370.0  ...           370.0 2014-12-01 06:50:00\n",
              "1436  1417498140  377.0  ...           377.0 2014-12-02 05:29:00\n",
              "\n",
              "[5 rows x 9 columns]"
            ]
          },
          "metadata": {
            "tags": []
          },
          "execution_count": 24
        }
      ]
    },
    {
      "cell_type": "code",
      "metadata": {
        "id": "r9HUrmFpkrzE",
        "colab_type": "code",
        "colab": {
          "base_uri": "https://localhost:8080/",
          "height": 204
        },
        "outputId": "ad6c315c-76fe-44f6-de15-d55bb883d0ff"
      },
      "source": [
        "df.tail()"
      ],
      "execution_count": 25,
      "outputs": [
        {
          "output_type": "execute_result",
          "data": {
            "text/html": [
              "<div>\n",
              "<style scoped>\n",
              "    .dataframe tbody tr th:only-of-type {\n",
              "        vertical-align: middle;\n",
              "    }\n",
              "\n",
              "    .dataframe tbody tr th {\n",
              "        vertical-align: top;\n",
              "    }\n",
              "\n",
              "    .dataframe thead th {\n",
              "        text-align: right;\n",
              "    }\n",
              "</style>\n",
              "<table border=\"1\" class=\"dataframe\">\n",
              "  <thead>\n",
              "    <tr style=\"text-align: right;\">\n",
              "      <th></th>\n",
              "      <th>Timestamp</th>\n",
              "      <th>Open</th>\n",
              "      <th>High</th>\n",
              "      <th>Low</th>\n",
              "      <th>Close</th>\n",
              "      <th>Volume_(BTC)</th>\n",
              "      <th>Volume_(Currency)</th>\n",
              "      <th>Weighted_Price</th>\n",
              "      <th>datetime</th>\n",
              "    </tr>\n",
              "  </thead>\n",
              "  <tbody>\n",
              "    <tr>\n",
              "      <th>2099755</th>\n",
              "      <td>1546898520</td>\n",
              "      <td>4006.01</td>\n",
              "      <td>4006.57</td>\n",
              "      <td>4006.00</td>\n",
              "      <td>4006.01</td>\n",
              "      <td>3.382954</td>\n",
              "      <td>13553.433078</td>\n",
              "      <td>4006.390309</td>\n",
              "      <td>2019-01-07 22:02:00</td>\n",
              "    </tr>\n",
              "    <tr>\n",
              "      <th>2099756</th>\n",
              "      <td>1546898580</td>\n",
              "      <td>4006.01</td>\n",
              "      <td>4006.57</td>\n",
              "      <td>4006.00</td>\n",
              "      <td>4006.01</td>\n",
              "      <td>0.902164</td>\n",
              "      <td>3614.083169</td>\n",
              "      <td>4006.017233</td>\n",
              "      <td>2019-01-07 22:03:00</td>\n",
              "    </tr>\n",
              "    <tr>\n",
              "      <th>2099757</th>\n",
              "      <td>1546898640</td>\n",
              "      <td>4006.01</td>\n",
              "      <td>4006.01</td>\n",
              "      <td>4006.00</td>\n",
              "      <td>4006.01</td>\n",
              "      <td>1.192123</td>\n",
              "      <td>4775.647308</td>\n",
              "      <td>4006.003635</td>\n",
              "      <td>2019-01-07 22:04:00</td>\n",
              "    </tr>\n",
              "    <tr>\n",
              "      <th>2099758</th>\n",
              "      <td>1546898700</td>\n",
              "      <td>4006.01</td>\n",
              "      <td>4006.01</td>\n",
              "      <td>4005.50</td>\n",
              "      <td>4005.50</td>\n",
              "      <td>2.699700</td>\n",
              "      <td>10814.241898</td>\n",
              "      <td>4005.719991</td>\n",
              "      <td>2019-01-07 22:05:00</td>\n",
              "    </tr>\n",
              "    <tr>\n",
              "      <th>2099759</th>\n",
              "      <td>1546898760</td>\n",
              "      <td>4005.51</td>\n",
              "      <td>4006.01</td>\n",
              "      <td>4005.51</td>\n",
              "      <td>4005.99</td>\n",
              "      <td>1.752778</td>\n",
              "      <td>7021.183546</td>\n",
              "      <td>4005.745614</td>\n",
              "      <td>2019-01-07 22:06:00</td>\n",
              "    </tr>\n",
              "  </tbody>\n",
              "</table>\n",
              "</div>"
            ],
            "text/plain": [
              "          Timestamp     Open  ...  Weighted_Price            datetime\n",
              "2099755  1546898520  4006.01  ...     4006.390309 2019-01-07 22:02:00\n",
              "2099756  1546898580  4006.01  ...     4006.017233 2019-01-07 22:03:00\n",
              "2099757  1546898640  4006.01  ...     4006.003635 2019-01-07 22:04:00\n",
              "2099758  1546898700  4006.01  ...     4005.719991 2019-01-07 22:05:00\n",
              "2099759  1546898760  4005.51  ...     4005.745614 2019-01-07 22:06:00\n",
              "\n",
              "[5 rows x 9 columns]"
            ]
          },
          "metadata": {
            "tags": []
          },
          "execution_count": 25
        }
      ]
    },
    {
      "cell_type": "markdown",
      "metadata": {
        "id": "xJQ7kS_Ul2IH",
        "colab_type": "text"
      },
      "source": [
        "### set an index"
      ]
    },
    {
      "cell_type": "code",
      "metadata": {
        "id": "8NfCuD__llLi",
        "colab_type": "code",
        "colab": {}
      },
      "source": [
        "df = df.set_index(['datetime'])"
      ],
      "execution_count": 0,
      "outputs": []
    },
    {
      "cell_type": "code",
      "metadata": {
        "id": "Yd_74-vGmBky",
        "colab_type": "code",
        "colab": {
          "base_uri": "https://localhost:8080/",
          "height": 235
        },
        "outputId": "0f3d4abf-aa09-4906-e165-9b737a4d3fe0"
      },
      "source": [
        "df.head()"
      ],
      "execution_count": 27,
      "outputs": [
        {
          "output_type": "execute_result",
          "data": {
            "text/html": [
              "<div>\n",
              "<style scoped>\n",
              "    .dataframe tbody tr th:only-of-type {\n",
              "        vertical-align: middle;\n",
              "    }\n",
              "\n",
              "    .dataframe tbody tr th {\n",
              "        vertical-align: top;\n",
              "    }\n",
              "\n",
              "    .dataframe thead th {\n",
              "        text-align: right;\n",
              "    }\n",
              "</style>\n",
              "<table border=\"1\" class=\"dataframe\">\n",
              "  <thead>\n",
              "    <tr style=\"text-align: right;\">\n",
              "      <th></th>\n",
              "      <th>Timestamp</th>\n",
              "      <th>Open</th>\n",
              "      <th>High</th>\n",
              "      <th>Low</th>\n",
              "      <th>Close</th>\n",
              "      <th>Volume_(BTC)</th>\n",
              "      <th>Volume_(Currency)</th>\n",
              "      <th>Weighted_Price</th>\n",
              "    </tr>\n",
              "    <tr>\n",
              "      <th>datetime</th>\n",
              "      <th></th>\n",
              "      <th></th>\n",
              "      <th></th>\n",
              "      <th></th>\n",
              "      <th></th>\n",
              "      <th></th>\n",
              "      <th></th>\n",
              "      <th></th>\n",
              "    </tr>\n",
              "  </thead>\n",
              "  <tbody>\n",
              "    <tr>\n",
              "      <th>2014-12-01 05:33:00</th>\n",
              "      <td>1417411980</td>\n",
              "      <td>300.0</td>\n",
              "      <td>300.0</td>\n",
              "      <td>300.0</td>\n",
              "      <td>300.0</td>\n",
              "      <td>0.010000</td>\n",
              "      <td>3.00000</td>\n",
              "      <td>300.0</td>\n",
              "    </tr>\n",
              "    <tr>\n",
              "      <th>2014-12-01 05:40:00</th>\n",
              "      <td>1417412400</td>\n",
              "      <td>300.0</td>\n",
              "      <td>300.0</td>\n",
              "      <td>300.0</td>\n",
              "      <td>300.0</td>\n",
              "      <td>0.010000</td>\n",
              "      <td>3.00000</td>\n",
              "      <td>300.0</td>\n",
              "    </tr>\n",
              "    <tr>\n",
              "      <th>2014-12-01 06:24:00</th>\n",
              "      <td>1417415040</td>\n",
              "      <td>370.0</td>\n",
              "      <td>370.0</td>\n",
              "      <td>370.0</td>\n",
              "      <td>370.0</td>\n",
              "      <td>0.010000</td>\n",
              "      <td>3.70000</td>\n",
              "      <td>370.0</td>\n",
              "    </tr>\n",
              "    <tr>\n",
              "      <th>2014-12-01 06:50:00</th>\n",
              "      <td>1417416600</td>\n",
              "      <td>370.0</td>\n",
              "      <td>370.0</td>\n",
              "      <td>370.0</td>\n",
              "      <td>370.0</td>\n",
              "      <td>0.026556</td>\n",
              "      <td>9.82555</td>\n",
              "      <td>370.0</td>\n",
              "    </tr>\n",
              "    <tr>\n",
              "      <th>2014-12-02 05:29:00</th>\n",
              "      <td>1417498140</td>\n",
              "      <td>377.0</td>\n",
              "      <td>377.0</td>\n",
              "      <td>377.0</td>\n",
              "      <td>377.0</td>\n",
              "      <td>0.010000</td>\n",
              "      <td>3.77000</td>\n",
              "      <td>377.0</td>\n",
              "    </tr>\n",
              "  </tbody>\n",
              "</table>\n",
              "</div>"
            ],
            "text/plain": [
              "                      Timestamp   Open  ...  Volume_(Currency)  Weighted_Price\n",
              "datetime                                ...                                   \n",
              "2014-12-01 05:33:00  1417411980  300.0  ...            3.00000           300.0\n",
              "2014-12-01 05:40:00  1417412400  300.0  ...            3.00000           300.0\n",
              "2014-12-01 06:24:00  1417415040  370.0  ...            3.70000           370.0\n",
              "2014-12-01 06:50:00  1417416600  370.0  ...            9.82555           370.0\n",
              "2014-12-02 05:29:00  1417498140  377.0  ...            3.77000           377.0\n",
              "\n",
              "[5 rows x 8 columns]"
            ]
          },
          "metadata": {
            "tags": []
          },
          "execution_count": 27
        }
      ]
    },
    {
      "cell_type": "markdown",
      "metadata": {
        "id": "avjPYi8bmVqO",
        "colab_type": "text"
      },
      "source": [
        "### resample to mean daily values"
      ]
    },
    {
      "cell_type": "code",
      "metadata": {
        "id": "maZ7MtrYmDQC",
        "colab_type": "code",
        "colab": {
          "base_uri": "https://localhost:8080/",
          "height": 235
        },
        "outputId": "a2c81cc6-be7b-48db-ab8c-c7c762b88684"
      },
      "source": [
        "mean_daily_values = df.resample('D').mean()\n",
        "mean_daily_values.head()"
      ],
      "execution_count": 28,
      "outputs": [
        {
          "output_type": "execute_result",
          "data": {
            "text/html": [
              "<div>\n",
              "<style scoped>\n",
              "    .dataframe tbody tr th:only-of-type {\n",
              "        vertical-align: middle;\n",
              "    }\n",
              "\n",
              "    .dataframe tbody tr th {\n",
              "        vertical-align: top;\n",
              "    }\n",
              "\n",
              "    .dataframe thead th {\n",
              "        text-align: right;\n",
              "    }\n",
              "</style>\n",
              "<table border=\"1\" class=\"dataframe\">\n",
              "  <thead>\n",
              "    <tr style=\"text-align: right;\">\n",
              "      <th></th>\n",
              "      <th>Timestamp</th>\n",
              "      <th>Open</th>\n",
              "      <th>High</th>\n",
              "      <th>Low</th>\n",
              "      <th>Close</th>\n",
              "      <th>Volume_(BTC)</th>\n",
              "      <th>Volume_(Currency)</th>\n",
              "      <th>Weighted_Price</th>\n",
              "    </tr>\n",
              "    <tr>\n",
              "      <th>datetime</th>\n",
              "      <th></th>\n",
              "      <th></th>\n",
              "      <th></th>\n",
              "      <th></th>\n",
              "      <th></th>\n",
              "      <th></th>\n",
              "      <th></th>\n",
              "      <th></th>\n",
              "    </tr>\n",
              "  </thead>\n",
              "  <tbody>\n",
              "    <tr>\n",
              "      <th>2014-12-01</th>\n",
              "      <td>1.417414e+09</td>\n",
              "      <td>335.000000</td>\n",
              "      <td>335.000000</td>\n",
              "      <td>335.000000</td>\n",
              "      <td>335.000000</td>\n",
              "      <td>0.014139</td>\n",
              "      <td>4.881387</td>\n",
              "      <td>335.000000</td>\n",
              "    </tr>\n",
              "    <tr>\n",
              "      <th>2014-12-02</th>\n",
              "      <td>1.417528e+09</td>\n",
              "      <td>377.821429</td>\n",
              "      <td>377.857143</td>\n",
              "      <td>377.821429</td>\n",
              "      <td>377.857143</td>\n",
              "      <td>2.144800</td>\n",
              "      <td>810.724043</td>\n",
              "      <td>377.854911</td>\n",
              "    </tr>\n",
              "    <tr>\n",
              "      <th>2014-12-03</th>\n",
              "      <td>1.417612e+09</td>\n",
              "      <td>377.818333</td>\n",
              "      <td>377.818333</td>\n",
              "      <td>377.818333</td>\n",
              "      <td>377.818333</td>\n",
              "      <td>0.091101</td>\n",
              "      <td>34.419664</td>\n",
              "      <td>377.818333</td>\n",
              "    </tr>\n",
              "    <tr>\n",
              "      <th>2014-12-04</th>\n",
              "      <td>1.417658e+09</td>\n",
              "      <td>377.100000</td>\n",
              "      <td>377.100000</td>\n",
              "      <td>377.100000</td>\n",
              "      <td>377.100000</td>\n",
              "      <td>0.010000</td>\n",
              "      <td>3.771000</td>\n",
              "      <td>377.100000</td>\n",
              "    </tr>\n",
              "    <tr>\n",
              "      <th>2014-12-05</th>\n",
              "      <td>NaN</td>\n",
              "      <td>NaN</td>\n",
              "      <td>NaN</td>\n",
              "      <td>NaN</td>\n",
              "      <td>NaN</td>\n",
              "      <td>NaN</td>\n",
              "      <td>NaN</td>\n",
              "      <td>NaN</td>\n",
              "    </tr>\n",
              "  </tbody>\n",
              "</table>\n",
              "</div>"
            ],
            "text/plain": [
              "               Timestamp        Open  ...  Volume_(Currency)  Weighted_Price\n",
              "datetime                              ...                                   \n",
              "2014-12-01  1.417414e+09  335.000000  ...           4.881387      335.000000\n",
              "2014-12-02  1.417528e+09  377.821429  ...         810.724043      377.854911\n",
              "2014-12-03  1.417612e+09  377.818333  ...          34.419664      377.818333\n",
              "2014-12-04  1.417658e+09  377.100000  ...           3.771000      377.100000\n",
              "2014-12-05           NaN         NaN  ...                NaN             NaN\n",
              "\n",
              "[5 rows x 8 columns]"
            ]
          },
          "metadata": {
            "tags": []
          },
          "execution_count": 28
        }
      ]
    },
    {
      "cell_type": "code",
      "metadata": {
        "id": "r_FJGBthmm4w",
        "colab_type": "code",
        "colab": {
          "base_uri": "https://localhost:8080/",
          "height": 235
        },
        "outputId": "7c878733-8bd0-41e9-e4ec-5dab1279cfe0"
      },
      "source": [
        "mean_daily_values.drop(['Timestamp'], axis=1, inplace=True)\n",
        "mean_daily_values.head()"
      ],
      "execution_count": 30,
      "outputs": [
        {
          "output_type": "execute_result",
          "data": {
            "text/html": [
              "<div>\n",
              "<style scoped>\n",
              "    .dataframe tbody tr th:only-of-type {\n",
              "        vertical-align: middle;\n",
              "    }\n",
              "\n",
              "    .dataframe tbody tr th {\n",
              "        vertical-align: top;\n",
              "    }\n",
              "\n",
              "    .dataframe thead th {\n",
              "        text-align: right;\n",
              "    }\n",
              "</style>\n",
              "<table border=\"1\" class=\"dataframe\">\n",
              "  <thead>\n",
              "    <tr style=\"text-align: right;\">\n",
              "      <th></th>\n",
              "      <th>Open</th>\n",
              "      <th>High</th>\n",
              "      <th>Low</th>\n",
              "      <th>Close</th>\n",
              "      <th>Volume_(BTC)</th>\n",
              "      <th>Volume_(Currency)</th>\n",
              "      <th>Weighted_Price</th>\n",
              "    </tr>\n",
              "    <tr>\n",
              "      <th>datetime</th>\n",
              "      <th></th>\n",
              "      <th></th>\n",
              "      <th></th>\n",
              "      <th></th>\n",
              "      <th></th>\n",
              "      <th></th>\n",
              "      <th></th>\n",
              "    </tr>\n",
              "  </thead>\n",
              "  <tbody>\n",
              "    <tr>\n",
              "      <th>2014-12-01</th>\n",
              "      <td>335.000000</td>\n",
              "      <td>335.000000</td>\n",
              "      <td>335.000000</td>\n",
              "      <td>335.000000</td>\n",
              "      <td>0.014139</td>\n",
              "      <td>4.881387</td>\n",
              "      <td>335.000000</td>\n",
              "    </tr>\n",
              "    <tr>\n",
              "      <th>2014-12-02</th>\n",
              "      <td>377.821429</td>\n",
              "      <td>377.857143</td>\n",
              "      <td>377.821429</td>\n",
              "      <td>377.857143</td>\n",
              "      <td>2.144800</td>\n",
              "      <td>810.724043</td>\n",
              "      <td>377.854911</td>\n",
              "    </tr>\n",
              "    <tr>\n",
              "      <th>2014-12-03</th>\n",
              "      <td>377.818333</td>\n",
              "      <td>377.818333</td>\n",
              "      <td>377.818333</td>\n",
              "      <td>377.818333</td>\n",
              "      <td>0.091101</td>\n",
              "      <td>34.419664</td>\n",
              "      <td>377.818333</td>\n",
              "    </tr>\n",
              "    <tr>\n",
              "      <th>2014-12-04</th>\n",
              "      <td>377.100000</td>\n",
              "      <td>377.100000</td>\n",
              "      <td>377.100000</td>\n",
              "      <td>377.100000</td>\n",
              "      <td>0.010000</td>\n",
              "      <td>3.771000</td>\n",
              "      <td>377.100000</td>\n",
              "    </tr>\n",
              "    <tr>\n",
              "      <th>2014-12-05</th>\n",
              "      <td>NaN</td>\n",
              "      <td>NaN</td>\n",
              "      <td>NaN</td>\n",
              "      <td>NaN</td>\n",
              "      <td>NaN</td>\n",
              "      <td>NaN</td>\n",
              "      <td>NaN</td>\n",
              "    </tr>\n",
              "  </tbody>\n",
              "</table>\n",
              "</div>"
            ],
            "text/plain": [
              "                  Open        High  ...  Volume_(Currency)  Weighted_Price\n",
              "datetime                            ...                                   \n",
              "2014-12-01  335.000000  335.000000  ...           4.881387      335.000000\n",
              "2014-12-02  377.821429  377.857143  ...         810.724043      377.854911\n",
              "2014-12-03  377.818333  377.818333  ...          34.419664      377.818333\n",
              "2014-12-04  377.100000  377.100000  ...           3.771000      377.100000\n",
              "2014-12-05         NaN         NaN  ...                NaN             NaN\n",
              "\n",
              "[5 rows x 7 columns]"
            ]
          },
          "metadata": {
            "tags": []
          },
          "execution_count": 30
        }
      ]
    },
    {
      "cell_type": "markdown",
      "metadata": {
        "id": "6tOLAkemnDHy",
        "colab_type": "text"
      },
      "source": [
        "### drop rows with missing values"
      ]
    },
    {
      "cell_type": "code",
      "metadata": {
        "id": "KmkC3qLrm7z_",
        "colab_type": "code",
        "colab": {
          "base_uri": "https://localhost:8080/",
          "height": 235
        },
        "outputId": "0b593675-21f5-469e-b35f-b7a49e642def"
      },
      "source": [
        "mean_daily_values.dropna(axis=0, inplace=True)\n",
        "mean_daily_values.head()"
      ],
      "execution_count": 31,
      "outputs": [
        {
          "output_type": "execute_result",
          "data": {
            "text/html": [
              "<div>\n",
              "<style scoped>\n",
              "    .dataframe tbody tr th:only-of-type {\n",
              "        vertical-align: middle;\n",
              "    }\n",
              "\n",
              "    .dataframe tbody tr th {\n",
              "        vertical-align: top;\n",
              "    }\n",
              "\n",
              "    .dataframe thead th {\n",
              "        text-align: right;\n",
              "    }\n",
              "</style>\n",
              "<table border=\"1\" class=\"dataframe\">\n",
              "  <thead>\n",
              "    <tr style=\"text-align: right;\">\n",
              "      <th></th>\n",
              "      <th>Open</th>\n",
              "      <th>High</th>\n",
              "      <th>Low</th>\n",
              "      <th>Close</th>\n",
              "      <th>Volume_(BTC)</th>\n",
              "      <th>Volume_(Currency)</th>\n",
              "      <th>Weighted_Price</th>\n",
              "    </tr>\n",
              "    <tr>\n",
              "      <th>datetime</th>\n",
              "      <th></th>\n",
              "      <th></th>\n",
              "      <th></th>\n",
              "      <th></th>\n",
              "      <th></th>\n",
              "      <th></th>\n",
              "      <th></th>\n",
              "    </tr>\n",
              "  </thead>\n",
              "  <tbody>\n",
              "    <tr>\n",
              "      <th>2014-12-01</th>\n",
              "      <td>335.000000</td>\n",
              "      <td>335.000000</td>\n",
              "      <td>335.000000</td>\n",
              "      <td>335.000000</td>\n",
              "      <td>0.014139</td>\n",
              "      <td>4.881387</td>\n",
              "      <td>335.000000</td>\n",
              "    </tr>\n",
              "    <tr>\n",
              "      <th>2014-12-02</th>\n",
              "      <td>377.821429</td>\n",
              "      <td>377.857143</td>\n",
              "      <td>377.821429</td>\n",
              "      <td>377.857143</td>\n",
              "      <td>2.144800</td>\n",
              "      <td>810.724043</td>\n",
              "      <td>377.854911</td>\n",
              "    </tr>\n",
              "    <tr>\n",
              "      <th>2014-12-03</th>\n",
              "      <td>377.818333</td>\n",
              "      <td>377.818333</td>\n",
              "      <td>377.818333</td>\n",
              "      <td>377.818333</td>\n",
              "      <td>0.091101</td>\n",
              "      <td>34.419664</td>\n",
              "      <td>377.818333</td>\n",
              "    </tr>\n",
              "    <tr>\n",
              "      <th>2014-12-04</th>\n",
              "      <td>377.100000</td>\n",
              "      <td>377.100000</td>\n",
              "      <td>377.100000</td>\n",
              "      <td>377.100000</td>\n",
              "      <td>0.010000</td>\n",
              "      <td>3.771000</td>\n",
              "      <td>377.100000</td>\n",
              "    </tr>\n",
              "    <tr>\n",
              "      <th>2014-12-06</th>\n",
              "      <td>378.000000</td>\n",
              "      <td>378.000000</td>\n",
              "      <td>378.000000</td>\n",
              "      <td>378.000000</td>\n",
              "      <td>0.015000</td>\n",
              "      <td>5.670000</td>\n",
              "      <td>378.000000</td>\n",
              "    </tr>\n",
              "  </tbody>\n",
              "</table>\n",
              "</div>"
            ],
            "text/plain": [
              "                  Open        High  ...  Volume_(Currency)  Weighted_Price\n",
              "datetime                            ...                                   \n",
              "2014-12-01  335.000000  335.000000  ...           4.881387      335.000000\n",
              "2014-12-02  377.821429  377.857143  ...         810.724043      377.854911\n",
              "2014-12-03  377.818333  377.818333  ...          34.419664      377.818333\n",
              "2014-12-04  377.100000  377.100000  ...           3.771000      377.100000\n",
              "2014-12-06  378.000000  378.000000  ...           5.670000      378.000000\n",
              "\n",
              "[5 rows x 7 columns]"
            ]
          },
          "metadata": {
            "tags": []
          },
          "execution_count": 31
        }
      ]
    },
    {
      "cell_type": "code",
      "metadata": {
        "id": "bA1wk3rAnLeC",
        "colab_type": "code",
        "colab": {
          "base_uri": "https://localhost:8080/",
          "height": 221
        },
        "outputId": "f8dbc006-3a5e-4e5c-e96c-174d213982b4"
      },
      "source": [
        "mean_daily_values.info()"
      ],
      "execution_count": 32,
      "outputs": [
        {
          "output_type": "stream",
          "text": [
            "<class 'pandas.core.frame.DataFrame'>\n",
            "DatetimeIndex: 1465 entries, 2014-12-01 to 2019-01-07\n",
            "Data columns (total 7 columns):\n",
            "Open                 1465 non-null float64\n",
            "High                 1465 non-null float64\n",
            "Low                  1465 non-null float64\n",
            "Close                1465 non-null float64\n",
            "Volume_(BTC)         1465 non-null float64\n",
            "Volume_(Currency)    1465 non-null float64\n",
            "Weighted_Price       1465 non-null float64\n",
            "dtypes: float64(7)\n",
            "memory usage: 91.6 KB\n"
          ],
          "name": "stdout"
        }
      ]
    },
    {
      "cell_type": "markdown",
      "metadata": {
        "id": "O0fb-hBNofVV",
        "colab_type": "text"
      },
      "source": [
        "### split data into training and validation/test"
      ]
    },
    {
      "cell_type": "code",
      "metadata": {
        "id": "QfjwpYBAnXkT",
        "colab_type": "code",
        "colab": {}
      },
      "source": [
        "test_data = mean_daily_values['2019']\n",
        "train_data = mean_daily_values['2014':'2018']"
      ],
      "execution_count": 0,
      "outputs": []
    },
    {
      "cell_type": "markdown",
      "metadata": {
        "id": "6rFdwlVho5KW",
        "colab_type": "text"
      },
      "source": [
        "### Reset indices to a time step"
      ]
    },
    {
      "cell_type": "code",
      "metadata": {
        "id": "2ot4Vkz0ovIa",
        "colab_type": "code",
        "colab": {
          "base_uri": "https://localhost:8080/",
          "height": 204
        },
        "outputId": "bca6b34a-1394-4264-b87d-4bfb53bc44bf"
      },
      "source": [
        "test_data.reset_index(inplace=True)\n",
        "train_data.reset_index(inplace=True)\n",
        "test_data.head()"
      ],
      "execution_count": 34,
      "outputs": [
        {
          "output_type": "execute_result",
          "data": {
            "text/html": [
              "<div>\n",
              "<style scoped>\n",
              "    .dataframe tbody tr th:only-of-type {\n",
              "        vertical-align: middle;\n",
              "    }\n",
              "\n",
              "    .dataframe tbody tr th {\n",
              "        vertical-align: top;\n",
              "    }\n",
              "\n",
              "    .dataframe thead th {\n",
              "        text-align: right;\n",
              "    }\n",
              "</style>\n",
              "<table border=\"1\" class=\"dataframe\">\n",
              "  <thead>\n",
              "    <tr style=\"text-align: right;\">\n",
              "      <th></th>\n",
              "      <th>datetime</th>\n",
              "      <th>Open</th>\n",
              "      <th>High</th>\n",
              "      <th>Low</th>\n",
              "      <th>Close</th>\n",
              "      <th>Volume_(BTC)</th>\n",
              "      <th>Volume_(Currency)</th>\n",
              "      <th>Weighted_Price</th>\n",
              "    </tr>\n",
              "  </thead>\n",
              "  <tbody>\n",
              "    <tr>\n",
              "      <th>0</th>\n",
              "      <td>2019-01-01</td>\n",
              "      <td>3700.554931</td>\n",
              "      <td>3701.321181</td>\n",
              "      <td>3699.788875</td>\n",
              "      <td>3700.670507</td>\n",
              "      <td>7.185827</td>\n",
              "      <td>26669.369776</td>\n",
              "      <td>3700.539528</td>\n",
              "    </tr>\n",
              "    <tr>\n",
              "      <th>1</th>\n",
              "      <td>2019-01-02</td>\n",
              "      <td>3823.154149</td>\n",
              "      <td>3824.123544</td>\n",
              "      <td>3822.187012</td>\n",
              "      <td>3823.210257</td>\n",
              "      <td>6.679140</td>\n",
              "      <td>25633.288929</td>\n",
              "      <td>3823.152158</td>\n",
              "    </tr>\n",
              "    <tr>\n",
              "      <th>2</th>\n",
              "      <td>2019-01-03</td>\n",
              "      <td>3829.991333</td>\n",
              "      <td>3830.601222</td>\n",
              "      <td>3829.190292</td>\n",
              "      <td>3829.922118</td>\n",
              "      <td>6.139066</td>\n",
              "      <td>23488.491210</td>\n",
              "      <td>3829.900978</td>\n",
              "    </tr>\n",
              "    <tr>\n",
              "      <th>3</th>\n",
              "      <td>2019-01-04</td>\n",
              "      <td>3785.379042</td>\n",
              "      <td>3786.126722</td>\n",
              "      <td>3784.568264</td>\n",
              "      <td>3785.405590</td>\n",
              "      <td>6.215354</td>\n",
              "      <td>23523.548116</td>\n",
              "      <td>3785.337456</td>\n",
              "    </tr>\n",
              "    <tr>\n",
              "      <th>4</th>\n",
              "      <td>2019-01-05</td>\n",
              "      <td>3834.627896</td>\n",
              "      <td>3835.344944</td>\n",
              "      <td>3833.723542</td>\n",
              "      <td>3834.609424</td>\n",
              "      <td>4.206899</td>\n",
              "      <td>16131.900905</td>\n",
              "      <td>3834.565401</td>\n",
              "    </tr>\n",
              "  </tbody>\n",
              "</table>\n",
              "</div>"
            ],
            "text/plain": [
              "    datetime         Open  ...  Volume_(Currency)  Weighted_Price\n",
              "0 2019-01-01  3700.554931  ...       26669.369776     3700.539528\n",
              "1 2019-01-02  3823.154149  ...       25633.288929     3823.152158\n",
              "2 2019-01-03  3829.991333  ...       23488.491210     3829.900978\n",
              "3 2019-01-04  3785.379042  ...       23523.548116     3785.337456\n",
              "4 2019-01-05  3834.627896  ...       16131.900905     3834.565401\n",
              "\n",
              "[5 rows x 8 columns]"
            ]
          },
          "metadata": {
            "tags": []
          },
          "execution_count": 34
        }
      ]
    },
    {
      "cell_type": "markdown",
      "metadata": {
        "id": "r27AR6dNp38R",
        "colab_type": "text"
      },
      "source": [
        "### do it again"
      ]
    },
    {
      "cell_type": "code",
      "metadata": {
        "id": "GySVA2Tfp5tn",
        "colab_type": "code",
        "colab": {
          "base_uri": "https://localhost:8080/",
          "height": 204
        },
        "outputId": "322de2e6-893f-4f61-d522-cfb784767c94"
      },
      "source": [
        "test_data.reset_index(inplace=True)\n",
        "train_data.reset_index(inplace=True)\n",
        "test_data.head()"
      ],
      "execution_count": 36,
      "outputs": [
        {
          "output_type": "execute_result",
          "data": {
            "text/html": [
              "<div>\n",
              "<style scoped>\n",
              "    .dataframe tbody tr th:only-of-type {\n",
              "        vertical-align: middle;\n",
              "    }\n",
              "\n",
              "    .dataframe tbody tr th {\n",
              "        vertical-align: top;\n",
              "    }\n",
              "\n",
              "    .dataframe thead th {\n",
              "        text-align: right;\n",
              "    }\n",
              "</style>\n",
              "<table border=\"1\" class=\"dataframe\">\n",
              "  <thead>\n",
              "    <tr style=\"text-align: right;\">\n",
              "      <th></th>\n",
              "      <th>index</th>\n",
              "      <th>datetime</th>\n",
              "      <th>Open</th>\n",
              "      <th>High</th>\n",
              "      <th>Low</th>\n",
              "      <th>Close</th>\n",
              "      <th>Volume_(BTC)</th>\n",
              "      <th>Volume_(Currency)</th>\n",
              "      <th>Weighted_Price</th>\n",
              "    </tr>\n",
              "  </thead>\n",
              "  <tbody>\n",
              "    <tr>\n",
              "      <th>0</th>\n",
              "      <td>0</td>\n",
              "      <td>2019-01-01</td>\n",
              "      <td>3700.554931</td>\n",
              "      <td>3701.321181</td>\n",
              "      <td>3699.788875</td>\n",
              "      <td>3700.670507</td>\n",
              "      <td>7.185827</td>\n",
              "      <td>26669.369776</td>\n",
              "      <td>3700.539528</td>\n",
              "    </tr>\n",
              "    <tr>\n",
              "      <th>1</th>\n",
              "      <td>1</td>\n",
              "      <td>2019-01-02</td>\n",
              "      <td>3823.154149</td>\n",
              "      <td>3824.123544</td>\n",
              "      <td>3822.187012</td>\n",
              "      <td>3823.210257</td>\n",
              "      <td>6.679140</td>\n",
              "      <td>25633.288929</td>\n",
              "      <td>3823.152158</td>\n",
              "    </tr>\n",
              "    <tr>\n",
              "      <th>2</th>\n",
              "      <td>2</td>\n",
              "      <td>2019-01-03</td>\n",
              "      <td>3829.991333</td>\n",
              "      <td>3830.601222</td>\n",
              "      <td>3829.190292</td>\n",
              "      <td>3829.922118</td>\n",
              "      <td>6.139066</td>\n",
              "      <td>23488.491210</td>\n",
              "      <td>3829.900978</td>\n",
              "    </tr>\n",
              "    <tr>\n",
              "      <th>3</th>\n",
              "      <td>3</td>\n",
              "      <td>2019-01-04</td>\n",
              "      <td>3785.379042</td>\n",
              "      <td>3786.126722</td>\n",
              "      <td>3784.568264</td>\n",
              "      <td>3785.405590</td>\n",
              "      <td>6.215354</td>\n",
              "      <td>23523.548116</td>\n",
              "      <td>3785.337456</td>\n",
              "    </tr>\n",
              "    <tr>\n",
              "      <th>4</th>\n",
              "      <td>4</td>\n",
              "      <td>2019-01-05</td>\n",
              "      <td>3834.627896</td>\n",
              "      <td>3835.344944</td>\n",
              "      <td>3833.723542</td>\n",
              "      <td>3834.609424</td>\n",
              "      <td>4.206899</td>\n",
              "      <td>16131.900905</td>\n",
              "      <td>3834.565401</td>\n",
              "    </tr>\n",
              "  </tbody>\n",
              "</table>\n",
              "</div>"
            ],
            "text/plain": [
              "   index   datetime  ...  Volume_(Currency)  Weighted_Price\n",
              "0      0 2019-01-01  ...       26669.369776     3700.539528\n",
              "1      1 2019-01-02  ...       25633.288929     3823.152158\n",
              "2      2 2019-01-03  ...       23488.491210     3829.900978\n",
              "3      3 2019-01-04  ...       23523.548116     3785.337456\n",
              "4      4 2019-01-05  ...       16131.900905     3834.565401\n",
              "\n",
              "[5 rows x 9 columns]"
            ]
          },
          "metadata": {
            "tags": []
          },
          "execution_count": 36
        }
      ]
    },
    {
      "cell_type": "markdown",
      "metadata": {
        "id": "kjsE-QtfpRPK",
        "colab_type": "text"
      },
      "source": [
        "### Extract time steps"
      ]
    },
    {
      "cell_type": "code",
      "metadata": {
        "id": "tZUZAbPApJeh",
        "colab_type": "code",
        "colab": {}
      },
      "source": [
        "test_y = test_data[['index']].to_numpy()\n",
        "test_x = test_data[['Close']].to_numpy()\n",
        "\n",
        "train_y = test_data[['index']].to_numpy()\n",
        "train_x = test_data[['Close']].to_numpy()"
      ],
      "execution_count": 0,
      "outputs": []
    },
    {
      "cell_type": "markdown",
      "metadata": {
        "id": "Y9frZYD9rIwx",
        "colab_type": "text"
      },
      "source": [
        "### create a generator"
      ]
    },
    {
      "cell_type": "code",
      "metadata": {
        "id": "mhvYNBFgpuIe",
        "colab_type": "code",
        "colab": {}
      },
      "source": [
        "from tensorflow.keras.preprocessing.sequence import TimeseriesGenerator\n",
        "\n",
        "N_INPUT = 5\n",
        "BATCH_SIZE = 16\n",
        "\n",
        "train_gen = TimeseriesGenerator(train_x, train_y, length=N_INPUT, sampling_rate=7, batch_size=BATCH_SIZE)\n",
        "test_gen = TimeseriesGenerator(test_x, test_y, length=N_INPUT, sampling_rate=7, batch_size=BATCH_SIZE)"
      ],
      "execution_count": 0,
      "outputs": []
    },
    {
      "cell_type": "markdown",
      "metadata": {
        "id": "NyGMM51er3Qd",
        "colab_type": "text"
      },
      "source": [
        "### create the model"
      ]
    },
    {
      "cell_type": "code",
      "metadata": {
        "id": "4DXGQnGOrb36",
        "colab_type": "code",
        "colab": {
          "base_uri": "https://localhost:8080/",
          "height": 238
        },
        "outputId": "328b6b57-6d31-4f0c-aecd-f88b1274e22f"
      },
      "source": [
        "batch_0 = train_gen[0]\n",
        "x, y = batch_0\n",
        "\n",
        "model = keras.Sequential([\n",
        "    keras.layers.Bidirectional(keras.layers.LSTM(100, recurrent_dropout=0.5), input_shape=(x.shape[1], x.shape[2])),\n",
        "    keras.layers.Dense(1)\n",
        "])\n",
        "print(model.summary())"
      ],
      "execution_count": 44,
      "outputs": [
        {
          "output_type": "stream",
          "text": [
            "Model: \"sequential\"\n",
            "_________________________________________________________________\n",
            "Layer (type)                 Output Shape              Param #   \n",
            "=================================================================\n",
            "bidirectional (Bidirectional (None, 200)               81600     \n",
            "_________________________________________________________________\n",
            "dense (Dense)                (None, 1)                 201       \n",
            "=================================================================\n",
            "Total params: 81,801\n",
            "Trainable params: 81,801\n",
            "Non-trainable params: 0\n",
            "_________________________________________________________________\n",
            "None\n"
          ],
          "name": "stdout"
        }
      ]
    },
    {
      "cell_type": "code",
      "metadata": {
        "id": "GbIxk8jQsE5f",
        "colab_type": "code",
        "colab": {
          "base_uri": "https://localhost:8080/",
          "height": 374
        },
        "outputId": "47dd0111-ccd3-4871-b7b8-094b55b0327e"
      },
      "source": [
        "model.compile(optimizer='adam', loss='mse')\n",
        "model.fit_generator(train_gen, epochs=10)"
      ],
      "execution_count": 45,
      "outputs": [
        {
          "output_type": "stream",
          "text": [
            "Epoch 1/10\n",
            "1/1 [==============================] - 2s 2s/step - loss: 25.6449\n",
            "Epoch 2/10\n",
            "1/1 [==============================] - 0s 8ms/step - loss: 25.1330\n",
            "Epoch 3/10\n",
            "1/1 [==============================] - 0s 80ms/step - loss: 24.7024\n",
            "Epoch 4/10\n",
            "1/1 [==============================] - 0s 104ms/step - loss: 24.2509\n",
            "Epoch 5/10\n",
            "1/1 [==============================] - 0s 95ms/step - loss: 23.5719\n",
            "Epoch 6/10\n",
            "1/1 [==============================] - 0s 99ms/step - loss: 22.0631\n",
            "Epoch 7/10\n",
            "1/1 [==============================] - 0s 99ms/step - loss: 20.6728\n",
            "Epoch 8/10\n",
            "1/1 [==============================] - 0s 100ms/step - loss: 19.9951\n",
            "Epoch 9/10\n",
            "1/1 [==============================] - 0s 95ms/step - loss: 19.4833\n",
            "Epoch 10/10\n",
            "1/1 [==============================] - 0s 101ms/step - loss: 19.1002\n"
          ],
          "name": "stdout"
        },
        {
          "output_type": "execute_result",
          "data": {
            "text/plain": [
              "<tensorflow.python.keras.callbacks.History at 0x7fe54bf13710>"
            ]
          },
          "metadata": {
            "tags": []
          },
          "execution_count": 45
        }
      ]
    },
    {
      "cell_type": "code",
      "metadata": {
        "id": "mp4HjIBQse5G",
        "colab_type": "code",
        "colab": {}
      },
      "source": [
        ""
      ],
      "execution_count": 0,
      "outputs": []
    }
  ]
}