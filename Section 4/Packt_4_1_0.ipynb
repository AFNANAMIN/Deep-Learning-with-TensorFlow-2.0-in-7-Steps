{
  "nbformat": 4,
  "nbformat_minor": 0,
  "metadata": {
    "colab": {
      "name": "Packt_4.1_0.ipynb",
      "provenance": [],
      "collapsed_sections": []
    },
    "kernelspec": {
      "name": "python3",
      "display_name": "Python 3"
    }
  },
  "cells": [
    {
      "cell_type": "markdown",
      "metadata": {
        "id": "sbfsMVGrBU5I",
        "colab_type": "text"
      },
      "source": [
        "# Sequence Models I\n",
        "## 4.1 \n",
        "\n",
        "### Assignment Solution - Classify Musical Instruments"
      ]
    },
    {
      "cell_type": "code",
      "metadata": {
        "id": "DrtBGtvRA52Q",
        "colab_type": "code",
        "outputId": "581a8657-abe5-4371-ee82-86e51e729a6f",
        "colab": {
          "base_uri": "https://localhost:8080/",
          "height": 615
        }
      },
      "source": [
        "!pip install tensorflow==2.0.0-beta0"
      ],
      "execution_count": 1,
      "outputs": [
        {
          "output_type": "stream",
          "text": [
            "Collecting tensorflow==2.0.0-beta0\n",
            "  Using cached https://files.pythonhosted.org/packages/6c/19/0d0c7f240db7bcd6b83783b9a89a67f38584d100e23ad5ae93114be92232/tensorflow-2.0.0b0-cp36-cp36m-manylinux1_x86_64.whl\n",
            "Requirement already satisfied: six>=1.10.0 in /usr/local/lib/python3.6/dist-packages (from tensorflow==2.0.0-beta0) (1.12.0)\n",
            "Requirement already satisfied: keras-applications>=1.0.6 in /usr/local/lib/python3.6/dist-packages (from tensorflow==2.0.0-beta0) (1.0.8)\n",
            "Requirement already satisfied: gast>=0.2.0 in /usr/local/lib/python3.6/dist-packages (from tensorflow==2.0.0-beta0) (0.2.2)\n",
            "Collecting tb-nightly<1.14.0a20190604,>=1.14.0a20190603 (from tensorflow==2.0.0-beta0)\n",
            "  Using cached https://files.pythonhosted.org/packages/a4/96/571b875cd81dda9d5dfa1422a4f9d749e67c0a8d4f4f0b33a4e5f5f35e27/tb_nightly-1.14.0a20190603-py3-none-any.whl\n",
            "Requirement already satisfied: numpy<2.0,>=1.14.5 in /usr/local/lib/python3.6/dist-packages (from tensorflow==2.0.0-beta0) (1.16.5)\n",
            "Requirement already satisfied: google-pasta>=0.1.6 in /usr/local/lib/python3.6/dist-packages (from tensorflow==2.0.0-beta0) (0.1.7)\n",
            "Requirement already satisfied: termcolor>=1.1.0 in /usr/local/lib/python3.6/dist-packages (from tensorflow==2.0.0-beta0) (1.1.0)\n",
            "Collecting tf-estimator-nightly<1.14.0.dev2019060502,>=1.14.0.dev2019060501 (from tensorflow==2.0.0-beta0)\n",
            "  Using cached https://files.pythonhosted.org/packages/32/dd/99c47dd007dcf10d63fd895611b063732646f23059c618a373e85019eb0e/tf_estimator_nightly-1.14.0.dev2019060501-py2.py3-none-any.whl\n",
            "Requirement already satisfied: wheel>=0.26 in /usr/local/lib/python3.6/dist-packages (from tensorflow==2.0.0-beta0) (0.33.6)\n",
            "Requirement already satisfied: protobuf>=3.6.1 in /usr/local/lib/python3.6/dist-packages (from tensorflow==2.0.0-beta0) (3.7.1)\n",
            "Requirement already satisfied: grpcio>=1.8.6 in /usr/local/lib/python3.6/dist-packages (from tensorflow==2.0.0-beta0) (1.15.0)\n",
            "Requirement already satisfied: keras-preprocessing>=1.0.5 in /usr/local/lib/python3.6/dist-packages (from tensorflow==2.0.0-beta0) (1.1.0)\n",
            "Requirement already satisfied: absl-py>=0.7.0 in /usr/local/lib/python3.6/dist-packages (from tensorflow==2.0.0-beta0) (0.8.0)\n",
            "Requirement already satisfied: astor>=0.6.0 in /usr/local/lib/python3.6/dist-packages (from tensorflow==2.0.0-beta0) (0.8.0)\n",
            "Requirement already satisfied: wrapt>=1.11.1 in /usr/local/lib/python3.6/dist-packages (from tensorflow==2.0.0-beta0) (1.11.2)\n",
            "Requirement already satisfied: h5py in /usr/local/lib/python3.6/dist-packages (from keras-applications>=1.0.6->tensorflow==2.0.0-beta0) (2.8.0)\n",
            "Requirement already satisfied: setuptools>=41.0.0 in /usr/local/lib/python3.6/dist-packages (from tb-nightly<1.14.0a20190604,>=1.14.0a20190603->tensorflow==2.0.0-beta0) (41.2.0)\n",
            "Requirement already satisfied: markdown>=2.6.8 in /usr/local/lib/python3.6/dist-packages (from tb-nightly<1.14.0a20190604,>=1.14.0a20190603->tensorflow==2.0.0-beta0) (3.1.1)\n",
            "Requirement already satisfied: werkzeug>=0.11.15 in /usr/local/lib/python3.6/dist-packages (from tb-nightly<1.14.0a20190604,>=1.14.0a20190603->tensorflow==2.0.0-beta0) (0.15.6)\n",
            "Installing collected packages: tb-nightly, tf-estimator-nightly, tensorflow\n",
            "  Found existing installation: tb-nightly 1.14.0a20190301\n",
            "    Uninstalling tb-nightly-1.14.0a20190301:\n",
            "      Successfully uninstalled tb-nightly-1.14.0a20190301\n",
            "  Found existing installation: tf-estimator-nightly 1.14.0.dev2019030115\n",
            "    Uninstalling tf-estimator-nightly-1.14.0.dev2019030115:\n",
            "      Successfully uninstalled tf-estimator-nightly-1.14.0.dev2019030115\n",
            "  Found existing installation: tensorflow 2.0.0a0\n",
            "    Uninstalling tensorflow-2.0.0a0:\n",
            "      Successfully uninstalled tensorflow-2.0.0a0\n",
            "Successfully installed tb-nightly-1.14.0a20190603 tensorflow-2.0.0b0 tf-estimator-nightly-1.14.0.dev2019060501\n"
          ],
          "name": "stdout"
        }
      ]
    },
    {
      "cell_type": "code",
      "metadata": {
        "id": "_VGmvhQxGRwL",
        "colab_type": "code",
        "colab": {}
      },
      "source": [
        "import tensorflow as tf\n",
        "from tensorflow.keras import datasets, layers, models\n",
        "import pandas as pd\n",
        "\n",
        "import matplotlib.pyplot as plt\n",
        "%matplotlib inline"
      ],
      "execution_count": 0,
      "outputs": []
    },
    {
      "cell_type": "code",
      "metadata": {
        "id": "JkrurZImG4xP",
        "colab_type": "code",
        "colab": {}
      },
      "source": [
        "LIST_OF_LABELS = \"piano,guitar,drums\".split(',')\n",
        "HEIGHT = 300\n",
        "WIDTH = 300\n",
        "NUM_CHANNELS = 3\n",
        "NCLASSES = len(LIST_OF_LABELS)\n",
        "BATCH_SIZE = 32"
      ],
      "execution_count": 0,
      "outputs": []
    },
    {
      "cell_type": "code",
      "metadata": {
        "id": "0NtZPIlZIX4f",
        "colab_type": "code",
        "colab": {}
      },
      "source": [
        "AUTOTUNE = tf.data.experimental.AUTOTUNE"
      ],
      "execution_count": 0,
      "outputs": []
    },
    {
      "cell_type": "code",
      "metadata": {
        "id": "16Oi7-xaICTs",
        "colab_type": "code",
        "outputId": "b89578bf-2390-4e22-87a6-975e212481b8",
        "colab": {
          "base_uri": "https://localhost:8080/",
          "height": 34
        }
      },
      "source": [
        "from google.colab import drive\n",
        "drive.mount('/content/gdrive')"
      ],
      "execution_count": 5,
      "outputs": [
        {
          "output_type": "stream",
          "text": [
            "Drive already mounted at /content/gdrive; to attempt to forcibly remount, call drive.mount(\"/content/gdrive\", force_remount=True).\n"
          ],
          "name": "stdout"
        }
      ]
    },
    {
      "cell_type": "code",
      "metadata": {
        "id": "8yLk-GiIOFJB",
        "colab_type": "code",
        "colab": {}
      },
      "source": [
        "piano_df = pd.read_csv('/content/gdrive/My Drive/instruments/piano.csv')\n",
        "guitar_df = pd.read_csv('/content/gdrive/My Drive/instruments/guitar.csv')\n",
        "drums_df = pd.read_csv('/content/gdrive/My Drive/instruments/drums.csv')"
      ],
      "execution_count": 0,
      "outputs": []
    },
    {
      "cell_type": "code",
      "metadata": {
        "id": "_7w5vwAEsGUt",
        "colab_type": "code",
        "outputId": "d0118963-32bc-4112-a565-4bc740db7681",
        "colab": {
          "base_uri": "https://localhost:8080/",
          "height": 204
        }
      },
      "source": [
        "piano_df.head()"
      ],
      "execution_count": 7,
      "outputs": [
        {
          "output_type": "execute_result",
          "data": {
            "text/html": [
              "<div>\n",
              "<style scoped>\n",
              "    .dataframe tbody tr th:only-of-type {\n",
              "        vertical-align: middle;\n",
              "    }\n",
              "\n",
              "    .dataframe tbody tr th {\n",
              "        vertical-align: top;\n",
              "    }\n",
              "\n",
              "    .dataframe thead th {\n",
              "        text-align: right;\n",
              "    }\n",
              "</style>\n",
              "<table border=\"1\" class=\"dataframe\">\n",
              "  <thead>\n",
              "    <tr style=\"text-align: right;\">\n",
              "      <th></th>\n",
              "      <th>url</th>\n",
              "      <th>reference</th>\n",
              "    </tr>\n",
              "  </thead>\n",
              "  <tbody>\n",
              "    <tr>\n",
              "      <th>0</th>\n",
              "      <td>http://www.davemurphyband.com/gallery/11850889...</td>\n",
              "      <td>n03273551_5755</td>\n",
              "    </tr>\n",
              "    <tr>\n",
              "      <th>1</th>\n",
              "      <td>http://farm1.static.flickr.com/160/420012905_c...</td>\n",
              "      <td>n03273551_5894</td>\n",
              "    </tr>\n",
              "    <tr>\n",
              "      <th>2</th>\n",
              "      <td>http://farm3.static.flickr.com/2131/2115062910...</td>\n",
              "      <td>n03273551_7076</td>\n",
              "    </tr>\n",
              "    <tr>\n",
              "      <th>3</th>\n",
              "      <td>http://upload.wikimedia.org/wikipedia/commons/...</td>\n",
              "      <td>n03273551_14037</td>\n",
              "    </tr>\n",
              "    <tr>\n",
              "      <th>4</th>\n",
              "      <td>http://lh5.ggpht.com/_RjEKbo0OXP4/SE97o4gC5PI/...</td>\n",
              "      <td>n03273551_15410</td>\n",
              "    </tr>\n",
              "  </tbody>\n",
              "</table>\n",
              "</div>"
            ],
            "text/plain": [
              "                                                 url        reference\n",
              "0  http://www.davemurphyband.com/gallery/11850889...   n03273551_5755\n",
              "1  http://farm1.static.flickr.com/160/420012905_c...   n03273551_5894\n",
              "2  http://farm3.static.flickr.com/2131/2115062910...   n03273551_7076\n",
              "3  http://upload.wikimedia.org/wikipedia/commons/...  n03273551_14037\n",
              "4  http://lh5.ggpht.com/_RjEKbo0OXP4/SE97o4gC5PI/...  n03273551_15410"
            ]
          },
          "metadata": {
            "tags": []
          },
          "execution_count": 7
        }
      ]
    },
    {
      "cell_type": "code",
      "metadata": {
        "id": "UG6hNbSusIg-",
        "colab_type": "code",
        "outputId": "6693007b-2df3-4153-c152-b55d3b4411c3",
        "colab": {
          "base_uri": "https://localhost:8080/",
          "height": 136
        }
      },
      "source": [
        "piano_df.info()"
      ],
      "execution_count": 8,
      "outputs": [
        {
          "output_type": "stream",
          "text": [
            "<class 'pandas.core.frame.DataFrame'>\n",
            "RangeIndex: 1261 entries, 0 to 1260\n",
            "Data columns (total 2 columns):\n",
            "url          1261 non-null object\n",
            "reference    1261 non-null object\n",
            "dtypes: object(2)\n",
            "memory usage: 19.8+ KB\n"
          ],
          "name": "stdout"
        }
      ]
    },
    {
      "cell_type": "code",
      "metadata": {
        "id": "Uu3spxeHsbvm",
        "colab_type": "code",
        "outputId": "51771fb9-e31e-49a7-8b74-d86713569122",
        "colab": {
          "base_uri": "https://localhost:8080/",
          "height": 34
        }
      },
      "source": [
        "print(piano_df.loc[0,'url'])"
      ],
      "execution_count": 9,
      "outputs": [
        {
          "output_type": "stream",
          "text": [
            "http://www.davemurphyband.com/gallery/1185088993_1.jpg\n"
          ],
          "name": "stdout"
        }
      ]
    },
    {
      "cell_type": "markdown",
      "metadata": {
        "id": "F3-Q8l4ou799",
        "colab_type": "text"
      },
      "source": [
        "### download files\n",
        "#### I am fetching only 100, but you should fetch all by using piano_df.shape[0]"
      ]
    },
    {
      "cell_type": "code",
      "metadata": {
        "id": "Qb7Osvqk59ik",
        "colab_type": "code",
        "colab": {}
      },
      "source": [
        "files, categories = [],[] # let's keep track of file names and their categories"
      ],
      "execution_count": 0,
      "outputs": []
    },
    {
      "cell_type": "code",
      "metadata": {
        "id": "BoVroOeouBhx",
        "colab_type": "code",
        "outputId": "85bee08c-11ac-4166-8800-ae502b7de364",
        "colab": {
          "base_uri": "https://localhost:8080/",
          "height": 68
        }
      },
      "source": [
        "for i in range(10):\n",
        "  try:\n",
        "    tf.keras.utils.get_file(fname='{}.jpg'.format(i), origin=piano_df.loc[i, 'url'], extract=True, cache_subdir='/content/files/piano'.format(i))\n",
        "    files.append('/content/files/piano/{}.jpg'.format(i))\n",
        "    categories.append(0)\n",
        "  except:\n",
        "    continue"
      ],
      "execution_count": 11,
      "outputs": [
        {
          "output_type": "stream",
          "text": [
            "Downloading data from http://static.flickr.com/92/273705503_76e014c65c.jpg\n",
            "Downloading data from http://i71.twenga.com/7/tp/29/41/115222941.png\n",
            "Downloading data from http://www.toorganclub.com/images/mel/MELANIE_BARNEY_HAMMONDl.jpg\n"
          ],
          "name": "stdout"
        }
      ]
    },
    {
      "cell_type": "code",
      "metadata": {
        "id": "L8wF9O-cvTlZ",
        "colab_type": "code",
        "outputId": "02fbf92b-b8ca-4b10-b037-9434f79a2bd2",
        "colab": {
          "base_uri": "https://localhost:8080/",
          "height": 255
        }
      },
      "source": [
        "!ls files/piano/*"
      ],
      "execution_count": 12,
      "outputs": [
        {
          "output_type": "stream",
          "text": [
            "files/piano/0.jpg   files/piano/3.jpg\tfiles/piano/64.jpg  files/piano/84.jpg\n",
            "files/piano/11.jpg  files/piano/40.jpg\tfiles/piano/65.jpg  files/piano/85.jpg\n",
            "files/piano/12.jpg  files/piano/41.jpg\tfiles/piano/70.jpg  files/piano/86.jpg\n",
            "files/piano/13.jpg  files/piano/43.jpg\tfiles/piano/71.jpg  files/piano/87.jpg\n",
            "files/piano/19.jpg  files/piano/44.jpg\tfiles/piano/72.jpg  files/piano/88.jpg\n",
            "files/piano/1.jpg   files/piano/46.jpg\tfiles/piano/73.jpg  files/piano/91.jpg\n",
            "files/piano/20.jpg  files/piano/49.jpg\tfiles/piano/74.jpg  files/piano/93.jpg\n",
            "files/piano/21.jpg  files/piano/4.jpg\tfiles/piano/75.jpg  files/piano/95.jpg\n",
            "files/piano/24.jpg  files/piano/51.jpg\tfiles/piano/77.jpg  files/piano/97.jpg\n",
            "files/piano/2.jpg   files/piano/55.jpg\tfiles/piano/79.jpg  files/piano/98.jpg\n",
            "files/piano/30.jpg  files/piano/56.jpg\tfiles/piano/7.jpg   files/piano/99.jpg\n",
            "files/piano/32.jpg  files/piano/58.jpg\tfiles/piano/80.jpg  files/piano/9.jpg\n",
            "files/piano/34.jpg  files/piano/61.jpg\tfiles/piano/81.jpg\n",
            "files/piano/35.jpg  files/piano/62.jpg\tfiles/piano/82.jpg\n"
          ],
          "name": "stdout"
        }
      ]
    },
    {
      "cell_type": "code",
      "metadata": {
        "id": "YwX-8uo8vEjk",
        "colab_type": "code",
        "outputId": "acc9a8c8-d9f3-4e82-e471-077745676b70",
        "colab": {
          "base_uri": "https://localhost:8080/",
          "height": 102
        }
      },
      "source": [
        "for i in range(10):\n",
        "  try:\n",
        "    tf.keras.utils.get_file(fname='{}.jpg'.format(i), origin=guitar_df.loc[i, 'url'], extract=True, cache_subdir='/content/files/guitar'.format(i))\n",
        "    files.append('/content/files/guitar/{}.jpg'.format(i))\n",
        "    categories.append(1)\n",
        "  except:\n",
        "    continue"
      ],
      "execution_count": 13,
      "outputs": [
        {
          "output_type": "stream",
          "text": [
            "Downloading data from http://farm1.static.flickr.com/39/87529458_3b70b4a731.jpg\n",
            "Downloading data from http://farm1.static.flickr.com/150/361768615_fe643e03bb.jpg\n",
            "Downloading data from http://coastguitar.com/Pic.%20Bass%20Fender%20Roscoe%20Beck.jpg\n",
            "Downloading data from http://farm3.static.flickr.com/2074/2123388167_730a61c672.jpg\n",
            "Downloading data from http://www.musicalbits.com/Johnson-Fretless-Jazz-Bass-Guitar-Left-Handed_0_0_UZ1J.jpg\n"
          ],
          "name": "stdout"
        }
      ]
    },
    {
      "cell_type": "code",
      "metadata": {
        "id": "M-L_cQisxyXq",
        "colab_type": "code",
        "outputId": "e1122d67-e8ba-4442-e1f7-c7e1cd42e412",
        "colab": {
          "base_uri": "https://localhost:8080/",
          "height": 102
        }
      },
      "source": [
        "for i in range(10):\n",
        "  try:\n",
        "    tf.keras.utils.get_file(fname='{}.jpg'.format(i), origin=drums_df.loc[i, 'url'], extract=True, cache_subdir='/content/files/drums'.format(i))\n",
        "    files.append('/content/files/drums/{}.jpg'.format(i))\n",
        "    categories.append(2)\n",
        "  except:\n",
        "    continue"
      ],
      "execution_count": 14,
      "outputs": [
        {
          "output_type": "stream",
          "text": [
            "Downloading data from http://www.consolatdemar.com/imagenes/percusion/sinfonicas/bombos/PR-4018.JPG\n",
            "Downloading data from http://www.mofline.com/images/tama/SK52S-VTR.jpg\n",
            "Downloading data from http://www.todoaudio.cl/bombo.jpg\n",
            "Downloading data from http://www.hnsc.com.cn/news/379/updata/pic/2007/03/01/16002531101725.jpg\n",
            "Downloading data from http://www.the-slags.de/allerleifotos/bassdrum.jpg\n"
          ],
          "name": "stdout"
        }
      ]
    },
    {
      "cell_type": "code",
      "metadata": {
        "id": "Pk4LHZMBx5qR",
        "colab_type": "code",
        "outputId": "17ecfb5d-de37-40aa-c076-0d4789039574",
        "colab": {
          "base_uri": "https://localhost:8080/",
          "height": 34
        }
      },
      "source": [
        "!ls files"
      ],
      "execution_count": 15,
      "outputs": [
        {
          "output_type": "stream",
          "text": [
            "drums  guitar  piano\n"
          ],
          "name": "stdout"
        }
      ]
    },
    {
      "cell_type": "markdown",
      "metadata": {
        "id": "WzKCd_Ja6mJw",
        "colab_type": "text"
      },
      "source": [
        "### convert lists into a Pandas DataFrame"
      ]
    },
    {
      "cell_type": "code",
      "metadata": {
        "id": "nKsBakw76soV",
        "colab_type": "code",
        "outputId": "69d9278c-b849-4694-8782-7e2b55dde440",
        "colab": {
          "base_uri": "https://localhost:8080/",
          "height": 204
        }
      },
      "source": [
        "train_file_df = pd.DataFrame({'filename': files, 'class': categories})\n",
        "train_file_df.head()"
      ],
      "execution_count": 16,
      "outputs": [
        {
          "output_type": "execute_result",
          "data": {
            "text/html": [
              "<div>\n",
              "<style scoped>\n",
              "    .dataframe tbody tr th:only-of-type {\n",
              "        vertical-align: middle;\n",
              "    }\n",
              "\n",
              "    .dataframe tbody tr th {\n",
              "        vertical-align: top;\n",
              "    }\n",
              "\n",
              "    .dataframe thead th {\n",
              "        text-align: right;\n",
              "    }\n",
              "</style>\n",
              "<table border=\"1\" class=\"dataframe\">\n",
              "  <thead>\n",
              "    <tr style=\"text-align: right;\">\n",
              "      <th></th>\n",
              "      <th>filename</th>\n",
              "      <th>class</th>\n",
              "    </tr>\n",
              "  </thead>\n",
              "  <tbody>\n",
              "    <tr>\n",
              "      <th>0</th>\n",
              "      <td>/content/files/piano/0.jpg</td>\n",
              "      <td>0</td>\n",
              "    </tr>\n",
              "    <tr>\n",
              "      <th>1</th>\n",
              "      <td>/content/files/piano/1.jpg</td>\n",
              "      <td>0</td>\n",
              "    </tr>\n",
              "    <tr>\n",
              "      <th>2</th>\n",
              "      <td>/content/files/piano/2.jpg</td>\n",
              "      <td>0</td>\n",
              "    </tr>\n",
              "    <tr>\n",
              "      <th>3</th>\n",
              "      <td>/content/files/piano/3.jpg</td>\n",
              "      <td>0</td>\n",
              "    </tr>\n",
              "    <tr>\n",
              "      <th>4</th>\n",
              "      <td>/content/files/piano/4.jpg</td>\n",
              "      <td>0</td>\n",
              "    </tr>\n",
              "  </tbody>\n",
              "</table>\n",
              "</div>"
            ],
            "text/plain": [
              "                     filename  class\n",
              "0  /content/files/piano/0.jpg      0\n",
              "1  /content/files/piano/1.jpg      0\n",
              "2  /content/files/piano/2.jpg      0\n",
              "3  /content/files/piano/3.jpg      0\n",
              "4  /content/files/piano/4.jpg      0"
            ]
          },
          "metadata": {
            "tags": []
          },
          "execution_count": 16
        }
      ]
    },
    {
      "cell_type": "markdown",
      "metadata": {
        "id": "amPxA7Mo1bcS",
        "colab_type": "text"
      },
      "source": [
        "### Try to read a file"
      ]
    },
    {
      "cell_type": "code",
      "metadata": {
        "id": "bb1LyULQJ98V",
        "colab_type": "code",
        "colab": {}
      },
      "source": [
        "def preprocess_image(image):\n",
        "  image = tf.image.decode_image(contents=image, channels=NUM_CHANNELS, expand_animations=False)\n",
        "  image = tf.image.resize(image, [HEIGHT, WIDTH])\n",
        "  image /= 255.0  # normalize to [0,1] range\n",
        "\n",
        "  return image\n",
        "\n",
        "def load_and_preprocess_image(path):\n",
        "  image = tf.io.read_file(path)\n",
        "  return preprocess_image(image)"
      ],
      "execution_count": 0,
      "outputs": []
    },
    {
      "cell_type": "code",
      "metadata": {
        "id": "U2Yq7QIM1dJV",
        "colab_type": "code",
        "outputId": "deba94a3-f4ea-4e7a-ced9-16770f71be94",
        "colab": {
          "base_uri": "https://localhost:8080/",
          "height": 867
        }
      },
      "source": [
        "filename = files[1]\n",
        "img = tf.io.read_file(files[1])\n",
        "#img = tf.image.decode_image(contents=img, channels=NUM_CHANNELS, expand_animations=False)\n",
        "img = preprocess_image(img)\n",
        "print(img)"
      ],
      "execution_count": 23,
      "outputs": [
        {
          "output_type": "stream",
          "text": [
            "tf.Tensor(\n",
            "[[[0. 0. 0.]\n",
            "  [0. 0. 0.]\n",
            "  [0. 0. 0.]\n",
            "  ...\n",
            "  [0. 0. 0.]\n",
            "  [0. 0. 0.]\n",
            "  [0. 0. 0.]]\n",
            "\n",
            " [[0. 0. 0.]\n",
            "  [0. 0. 0.]\n",
            "  [0. 0. 0.]\n",
            "  ...\n",
            "  [0. 0. 0.]\n",
            "  [0. 0. 0.]\n",
            "  [0. 0. 0.]]\n",
            "\n",
            " [[0. 0. 0.]\n",
            "  [0. 0. 0.]\n",
            "  [0. 0. 0.]\n",
            "  ...\n",
            "  [0. 0. 0.]\n",
            "  [0. 0. 0.]\n",
            "  [0. 0. 0.]]\n",
            "\n",
            " ...\n",
            "\n",
            " [[0. 0. 0.]\n",
            "  [0. 0. 0.]\n",
            "  [0. 0. 0.]\n",
            "  ...\n",
            "  [0. 0. 0.]\n",
            "  [0. 0. 0.]\n",
            "  [0. 0. 0.]]\n",
            "\n",
            " [[0. 0. 0.]\n",
            "  [0. 0. 0.]\n",
            "  [0. 0. 0.]\n",
            "  ...\n",
            "  [0. 0. 0.]\n",
            "  [0. 0. 0.]\n",
            "  [0. 0. 0.]]\n",
            "\n",
            " [[0. 0. 0.]\n",
            "  [0. 0. 0.]\n",
            "  [0. 0. 0.]\n",
            "  ...\n",
            "  [0. 0. 0.]\n",
            "  [0. 0. 0.]\n",
            "  [0. 0. 0.]]], shape=(300, 300, 3), dtype=float32)\n"
          ],
          "name": "stdout"
        }
      ]
    },
    {
      "cell_type": "code",
      "metadata": {
        "id": "BxdSYWcG1kGE",
        "colab_type": "code",
        "outputId": "18a06688-1661-4799-bef5-baea1d3843a6",
        "colab": {
          "base_uri": "https://localhost:8080/",
          "height": 286
        }
      },
      "source": [
        "plt.imshow(img)"
      ],
      "execution_count": 24,
      "outputs": [
        {
          "output_type": "execute_result",
          "data": {
            "text/plain": [
              "<matplotlib.image.AxesImage at 0x7f4978cc46a0>"
            ]
          },
          "metadata": {
            "tags": []
          },
          "execution_count": 24
        },
        {
          "output_type": "display_data",
          "data": {
            "image/png": "[encoded data removed]",
            "text/plain": [
              "<Figure size 432x288 with 1 Axes>"
            ]
          },
          "metadata": {
            "tags": []
          }
        }
      ]
    },
    {
      "cell_type": "markdown",
      "metadata": {
        "id": "O1vZOjkD_6hO",
        "colab_type": "text"
      },
      "source": [
        "### Image preprocessing functions and operations"
      ]
    },
    {
      "cell_type": "code",
      "metadata": {
        "id": "zJrG_wifIHNv",
        "colab_type": "code",
        "outputId": "ae06d8f4-ba05-49be-e005-5b1551a4dd56",
        "colab": {
          "base_uri": "https://localhost:8080/",
          "height": 34
        }
      },
      "source": [
        "print(files[1])"
      ],
      "execution_count": 25,
      "outputs": [
        {
          "output_type": "stream",
          "text": [
            "/content/files/piano/1.jpg\n"
          ],
          "name": "stdout"
        }
      ]
    },
    {
      "cell_type": "code",
      "metadata": {
        "id": "alV43Vx8_95q",
        "colab_type": "code",
        "outputId": "5cd11797-f9e6-4152-c7c9-215ad1b4daa0",
        "colab": {
          "base_uri": "https://localhost:8080/",
          "height": 34
        }
      },
      "source": [
        "path_ds = tf.data.Dataset.from_tensor_slices(files)\n",
        "image_ds = path_ds.map(load_and_preprocess_image, num_parallel_calls=AUTOTUNE)\n",
        "image_ds"
      ],
      "execution_count": 26,
      "outputs": [
        {
          "output_type": "execute_result",
          "data": {
            "text/plain": [
              "<ParallelMapDataset shapes: (300, 300, None), types: tf.float32>"
            ]
          },
          "metadata": {
            "tags": []
          },
          "execution_count": 26
        }
      ]
    },
    {
      "cell_type": "code",
      "metadata": {
        "id": "_TfRAf_pH9QL",
        "colab_type": "code",
        "outputId": "0c146ecf-ad1a-4171-911b-830e4a89326e",
        "colab": {
          "base_uri": "https://localhost:8080/",
          "height": 34
        }
      },
      "source": [
        "label_ds = tf.data.Dataset.from_tensor_slices(tf.cast(categories, tf.int64))\n",
        "image_label_ds = tf.data.Dataset.zip((image_ds, label_ds))\n",
        "image_label_ds"
      ],
      "execution_count": 27,
      "outputs": [
        {
          "output_type": "execute_result",
          "data": {
            "text/plain": [
              "<ZipDataset shapes: ((300, 300, None), ()), types: (tf.float32, tf.int64)>"
            ]
          },
          "metadata": {
            "tags": []
          },
          "execution_count": 27
        }
      ]
    },
    {
      "cell_type": "code",
      "metadata": {
        "id": "krxw1pSkHaC0",
        "colab_type": "code",
        "outputId": "afda4e39-21ce-459c-8f4c-8a76c9e5406c",
        "colab": {
          "base_uri": "https://localhost:8080/",
          "height": 34
        }
      },
      "source": [
        "ds = image_label_ds.shuffle(buffer_size=1000 * BATCH_SIZE)\n",
        "ds = ds.repeat()\n",
        "ds = ds.batch(BATCH_SIZE)\n",
        "# `prefetch` lets the dataset fetch batches, in the background while the model is training.\n",
        "ds = ds.prefetch(buffer_size=AUTOTUNE)\n",
        "ds"
      ],
      "execution_count": 28,
      "outputs": [
        {
          "output_type": "execute_result",
          "data": {
            "text/plain": [
              "<PrefetchDataset shapes: ((None, 300, 300, None), (None,)), types: (tf.float32, tf.int64)>"
            ]
          },
          "metadata": {
            "tags": []
          },
          "execution_count": 28
        }
      ]
    },
    {
      "cell_type": "markdown",
      "metadata": {
        "id": "fffACMuYBkME",
        "colab_type": "text"
      },
      "source": [
        "### create a model"
      ]
    },
    {
      "cell_type": "code",
      "metadata": {
        "id": "Escn0xAMAO8z",
        "colab_type": "code",
        "outputId": "4113d51f-dc2e-4f89-f82f-b5b3ce96431a",
        "colab": {
          "base_uri": "https://localhost:8080/",
          "height": 714
        }
      },
      "source": [
        "model = models.Sequential([\n",
        "    layers.Conv2D(filters=96, kernel_size=(11, 11), strides=4, activation='relu', input_shape=(HEIGHT, WIDTH, NUM_CHANNELS), bias_initializer=tf.initializers.zeros(), kernel_initializer=tf.initializers.RandomNormal(mean=0, stddev=0.01)),\n",
        "    layers.BatchNormalization(),\n",
        "    layers.MaxPooling2D(),\n",
        "    layers.Conv2D(filters=256, kernel_size=(5, 5), activation='relu', bias_initializer=tf.initializers.ones(), kernel_initializer=tf.initializers.RandomNormal(mean=0, stddev=0.01)),\n",
        "    layers.BatchNormalization(),\n",
        "    layers.MaxPooling2D(),\n",
        "    layers.Conv2D(filters=384, kernel_size=(3, 3), activation='relu', bias_initializer=tf.initializers.zeros(), kernel_initializer=tf.initializers.RandomNormal(mean=0, stddev=0.01)),\n",
        "    layers.Conv2D(filters=384, kernel_size=(3, 3), activation='relu', bias_initializer=tf.initializers.ones(), kernel_initializer=tf.initializers.RandomNormal(mean=0, stddev=0.01)),\n",
        "    layers.Conv2D(filters=256, kernel_size=(3, 3), activation='relu', bias_initializer=tf.initializers.ones(), kernel_initializer=tf.initializers.RandomNormal(mean=0, stddev=0.01)),\n",
        "    layers.MaxPooling2D(),\n",
        "    layers.Dense(4096, activation='relu', bias_initializer=tf.initializers.ones(), kernel_initializer=tf.initializers.RandomNormal(mean=0, stddev=0.01)),\n",
        "    layers.Dropout(0.5),\n",
        "    layers.Dense(4096, activation='relu', bias_initializer=tf.initializers.ones(), kernel_initializer=tf.initializers.RandomNormal(mean=0, stddev=0.01)),\n",
        "    layers.Dropout(0.5),\n",
        "    layers.Dense(4096, activation='relu', kernel_initializer=tf.initializers.RandomNormal(mean=0, stddev=0.01)),\n",
        "    layers.Dense(NCLASSES, activation='softmax', bias_initializer=tf.initializers.ones())\n",
        "])\n",
        "\n",
        "print(model.summary())"
      ],
      "execution_count": 29,
      "outputs": [
        {
          "output_type": "stream",
          "text": [
            "Model: \"sequential\"\n",
            "_________________________________________________________________\n",
            "Layer (type)                 Output Shape              Param #   \n",
            "=================================================================\n",
            "conv2d (Conv2D)              (None, 73, 73, 96)        34944     \n",
            "_________________________________________________________________\n",
            "batch_normalization (BatchNo (None, 73, 73, 96)        384       \n",
            "_________________________________________________________________\n",
            "max_pooling2d (MaxPooling2D) (None, 36, 36, 96)        0         \n",
            "_________________________________________________________________\n",
            "conv2d_1 (Conv2D)            (None, 32, 32, 256)       614656    \n",
            "_________________________________________________________________\n",
            "batch_normalization_1 (Batch (None, 32, 32, 256)       1024      \n",
            "_________________________________________________________________\n",
            "max_pooling2d_1 (MaxPooling2 (None, 16, 16, 256)       0         \n",
            "_________________________________________________________________\n",
            "conv2d_2 (Conv2D)            (None, 14, 14, 384)       885120    \n",
            "_________________________________________________________________\n",
            "conv2d_3 (Conv2D)            (None, 12, 12, 384)       1327488   \n",
            "_________________________________________________________________\n",
            "conv2d_4 (Conv2D)            (None, 10, 10, 256)       884992    \n",
            "_________________________________________________________________\n",
            "max_pooling2d_2 (MaxPooling2 (None, 5, 5, 256)         0         \n",
            "_________________________________________________________________\n",
            "dense (Dense)                (None, 5, 5, 4096)        1052672   \n",
            "_________________________________________________________________\n",
            "dropout (Dropout)            (None, 5, 5, 4096)        0         \n",
            "_________________________________________________________________\n",
            "dense_1 (Dense)              (None, 5, 5, 4096)        16781312  \n",
            "_________________________________________________________________\n",
            "dropout_1 (Dropout)          (None, 5, 5, 4096)        0         \n",
            "_________________________________________________________________\n",
            "dense_2 (Dense)              (None, 5, 5, 4096)        16781312  \n",
            "_________________________________________________________________\n",
            "dense_3 (Dense)              (None, 5, 5, 3)           12291     \n",
            "=================================================================\n",
            "Total params: 38,376,195\n",
            "Trainable params: 38,375,491\n",
            "Non-trainable params: 704\n",
            "_________________________________________________________________\n",
            "None\n"
          ],
          "name": "stdout"
        }
      ]
    },
    {
      "cell_type": "code",
      "metadata": {
        "id": "KjuH-kg_Bq5F",
        "colab_type": "code",
        "colab": {}
      },
      "source": [
        "optimizer = tf.keras.optimizers.SGD(learning_rate=0.01, momentum=0.9, decay=0.0005)"
      ],
      "execution_count": 0,
      "outputs": []
    },
    {
      "cell_type": "code",
      "metadata": {
        "id": "MgoV0M2sB1up",
        "colab_type": "code",
        "colab": {}
      },
      "source": [
        "model.compile(optimizer=optimizer, loss='sparse_categorical_crossentropy', metrics=['accuracy'])"
      ],
      "execution_count": 0,
      "outputs": []
    },
    {
      "cell_type": "markdown",
      "metadata": {
        "id": "V79K5u1MfCPG",
        "colab_type": "text"
      },
      "source": [
        "#### You should change the number of epochs and steps_per_epoch to numbers that help you converge."
      ]
    },
    {
      "cell_type": "code",
      "metadata": {
        "id": "4EnuTZgECEwT",
        "colab_type": "code",
        "colab": {}
      },
      "source": [
        "model.fit(ds, epochs=1, steps_per_epoch=2)"
      ],
      "execution_count": 0,
      "outputs": []
    }
  ]
}