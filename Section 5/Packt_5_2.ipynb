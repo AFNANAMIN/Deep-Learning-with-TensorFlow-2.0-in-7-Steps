{
  "nbformat": 4,
  "nbformat_minor": 0,
  "metadata": {
    "colab": {
      "name": "Packt_5_2.ipynb",
      "version": "0.3.2",
      "provenance": []
    },
    "kernelspec": {
      "name": "python3",
      "display_name": "Python 3"
    },
    "accelerator": "GPU"
  },
  "cells": [
    {
      "cell_type": "markdown",
      "metadata": {
        "id": "LP-sLEN85iIA",
        "colab_type": "text"
      },
      "source": [
        "# Predicting Temperature with RNN"
      ]
    },
    {
      "cell_type": "code",
      "metadata": {
        "id": "RF_MkOxy5fYF",
        "colab_type": "code",
        "colab": {
          "base_uri": "https://localhost:8080/",
          "height": 356
        },
        "outputId": "89873688-f218-4936-91d9-71782cffc657"
      },
      "source": [
        "!pip install tensorflow-gpu==2.0.0.alpha0"
      ],
      "execution_count": 1,
      "outputs": [
        {
          "output_type": "stream",
          "text": [
            "Requirement already satisfied: tensorflow-gpu==2.0.0.alpha0 in /usr/local/lib/python3.6/dist-packages (2.0.0a0)\n",
            "Requirement already satisfied: grpcio>=1.8.6 in /usr/local/lib/python3.6/dist-packages (from tensorflow-gpu==2.0.0.alpha0) (1.15.0)\n",
            "Requirement already satisfied: keras-preprocessing>=1.0.5 in /usr/local/lib/python3.6/dist-packages (from tensorflow-gpu==2.0.0.alpha0) (1.0.9)\n",
            "Requirement already satisfied: numpy<2.0,>=1.14.5 in /usr/local/lib/python3.6/dist-packages (from tensorflow-gpu==2.0.0.alpha0) (1.16.2)\n",
            "Requirement already satisfied: keras-applications>=1.0.6 in /usr/local/lib/python3.6/dist-packages (from tensorflow-gpu==2.0.0.alpha0) (1.0.7)\n",
            "Requirement already satisfied: astor>=0.6.0 in /usr/local/lib/python3.6/dist-packages (from tensorflow-gpu==2.0.0.alpha0) (0.7.1)\n",
            "Requirement already satisfied: gast>=0.2.0 in /usr/local/lib/python3.6/dist-packages (from tensorflow-gpu==2.0.0.alpha0) (0.2.2)\n",
            "Requirement already satisfied: google-pasta>=0.1.2 in /usr/local/lib/python3.6/dist-packages (from tensorflow-gpu==2.0.0.alpha0) (0.1.6)\n",
            "Requirement already satisfied: protobuf>=3.6.1 in /usr/local/lib/python3.6/dist-packages (from tensorflow-gpu==2.0.0.alpha0) (3.7.1)\n",
            "Requirement already satisfied: tb-nightly<1.14.0a20190302,>=1.14.0a20190301 in /usr/local/lib/python3.6/dist-packages (from tensorflow-gpu==2.0.0.alpha0) (1.14.0a20190301)\n",
            "Requirement already satisfied: termcolor>=1.1.0 in /usr/local/lib/python3.6/dist-packages (from tensorflow-gpu==2.0.0.alpha0) (1.1.0)\n",
            "Requirement already satisfied: wheel>=0.26 in /usr/local/lib/python3.6/dist-packages (from tensorflow-gpu==2.0.0.alpha0) (0.33.4)\n",
            "Requirement already satisfied: tf-estimator-nightly<1.14.0.dev2019030116,>=1.14.0.dev2019030115 in /usr/local/lib/python3.6/dist-packages (from tensorflow-gpu==2.0.0.alpha0) (1.14.0.dev2019030115)\n",
            "Requirement already satisfied: absl-py>=0.7.0 in /usr/local/lib/python3.6/dist-packages (from tensorflow-gpu==2.0.0.alpha0) (0.7.1)\n",
            "Requirement already satisfied: six>=1.10.0 in /usr/local/lib/python3.6/dist-packages (from tensorflow-gpu==2.0.0.alpha0) (1.12.0)\n",
            "Requirement already satisfied: h5py in /usr/local/lib/python3.6/dist-packages (from keras-applications>=1.0.6->tensorflow-gpu==2.0.0.alpha0) (2.8.0)\n",
            "Requirement already satisfied: setuptools in /usr/local/lib/python3.6/dist-packages (from protobuf>=3.6.1->tensorflow-gpu==2.0.0.alpha0) (41.0.1)\n",
            "Requirement already satisfied: markdown>=2.6.8 in /usr/local/lib/python3.6/dist-packages (from tb-nightly<1.14.0a20190302,>=1.14.0a20190301->tensorflow-gpu==2.0.0.alpha0) (3.1)\n",
            "Requirement already satisfied: werkzeug>=0.11.15 in /usr/local/lib/python3.6/dist-packages (from tb-nightly<1.14.0a20190302,>=1.14.0a20190301->tensorflow-gpu==2.0.0.alpha0) (0.15.4)\n"
          ],
          "name": "stdout"
        }
      ]
    },
    {
      "cell_type": "code",
      "metadata": {
        "id": "sRmXDMBw5nL3",
        "colab_type": "code",
        "colab": {
          "base_uri": "https://localhost:8080/",
          "height": 34
        },
        "outputId": "23e301eb-0b7d-42f8-ccbe-547329db94fc"
      },
      "source": [
        "#this version of numpy is required to avoid an error related to numpy defaulting to not allowing pickle files\n",
        "!pip install numpy==1.16.2"
      ],
      "execution_count": 2,
      "outputs": [
        {
          "output_type": "stream",
          "text": [
            "Requirement already satisfied: numpy==1.16.2 in /usr/local/lib/python3.6/dist-packages (1.16.2)\n"
          ],
          "name": "stdout"
        }
      ]
    },
    {
      "cell_type": "code",
      "metadata": {
        "id": "n4rapo9g54er",
        "colab_type": "code",
        "colab": {
          "base_uri": "https://localhost:8080/",
          "height": 101
        },
        "outputId": "1f461a0e-f11f-4e81-d2c7-06523406d711"
      },
      "source": [
        "!pip install pandas==0.24"
      ],
      "execution_count": 3,
      "outputs": [
        {
          "output_type": "stream",
          "text": [
            "Requirement already satisfied: pandas==0.24 in /usr/local/lib/python3.6/dist-packages (0.24.0)\n",
            "Requirement already satisfied: python-dateutil>=2.5.0 in /usr/local/lib/python3.6/dist-packages (from pandas==0.24) (2.5.3)\n",
            "Requirement already satisfied: numpy>=1.12.0 in /usr/local/lib/python3.6/dist-packages (from pandas==0.24) (1.16.2)\n",
            "Requirement already satisfied: pytz>=2011k in /usr/local/lib/python3.6/dist-packages (from pandas==0.24) (2018.9)\n",
            "Requirement already satisfied: six>=1.5 in /usr/local/lib/python3.6/dist-packages (from python-dateutil>=2.5.0->pandas==0.24) (1.12.0)\n"
          ],
          "name": "stdout"
        }
      ]
    },
    {
      "cell_type": "code",
      "metadata": {
        "id": "8jL9HUm058HX",
        "colab_type": "code",
        "colab": {}
      },
      "source": [
        "import tensorflow as tf\n",
        "from tensorflow.keras import datasets, preprocessing, models, layers\n",
        "import numpy as np\n",
        "import pandas as pd"
      ],
      "execution_count": 0,
      "outputs": []
    },
    {
      "cell_type": "markdown",
      "metadata": {
        "id": "1nHXk-hk6Au7",
        "colab_type": "text"
      },
      "source": [
        "## Connect to Google Drive"
      ]
    },
    {
      "cell_type": "code",
      "metadata": {
        "id": "GWjz6UZR5_dc",
        "colab_type": "code",
        "colab": {
          "base_uri": "https://localhost:8080/",
          "height": 34
        },
        "outputId": "b1798441-9ce8-4511-a39c-37fcad675101"
      },
      "source": [
        "from google.colab import drive\n",
        "drive.mount('/content/gdrive')"
      ],
      "execution_count": 5,
      "outputs": [
        {
          "output_type": "stream",
          "text": [
            "Drive already mounted at /content/gdrive; to attempt to forcibly remount, call drive.mount(\"/content/gdrive\", force_remount=True).\n"
          ],
          "name": "stdout"
        }
      ]
    },
    {
      "cell_type": "code",
      "metadata": {
        "id": "SZ8o3QPt6c7U",
        "colab_type": "code",
        "colab": {}
      },
      "source": [
        "df = pd.read_csv('/content/gdrive/My Drive/temperature/jena_climate_2009_2016.csv')"
      ],
      "execution_count": 0,
      "outputs": []
    },
    {
      "cell_type": "markdown",
      "metadata": {
        "id": "W-g0-_LI6r_H",
        "colab_type": "text"
      },
      "source": [
        "## Work with Temperature Data Only"
      ]
    },
    {
      "cell_type": "code",
      "metadata": {
        "id": "T9m5VE6h6ij_",
        "colab_type": "code",
        "colab": {}
      },
      "source": [
        "df = df[['Date Time', 'T (degC)']]\n",
        "df['DateTime'] = pd.to_datetime(df['Date Time'], format=\"%d.%m.%Y %H:%M:%S\")"
      ],
      "execution_count": 0,
      "outputs": []
    },
    {
      "cell_type": "code",
      "metadata": {
        "id": "xEC2ob066wXd",
        "colab_type": "code",
        "colab": {
          "base_uri": "https://localhost:8080/",
          "height": 1911
        },
        "outputId": "5c7390bf-00d1-4be8-d6ab-93afbaf5c025"
      },
      "source": [
        "df.set_index(['DateTime'])"
      ],
      "execution_count": 40,
      "outputs": [
        {
          "output_type": "execute_result",
          "data": {
            "text/html": [
              "<div>\n",
              "<style scoped>\n",
              "    .dataframe tbody tr th:only-of-type {\n",
              "        vertical-align: middle;\n",
              "    }\n",
              "\n",
              "    .dataframe tbody tr th {\n",
              "        vertical-align: top;\n",
              "    }\n",
              "\n",
              "    .dataframe thead th {\n",
              "        text-align: right;\n",
              "    }\n",
              "</style>\n",
              "<table border=\"1\" class=\"dataframe\">\n",
              "  <thead>\n",
              "    <tr style=\"text-align: right;\">\n",
              "      <th></th>\n",
              "      <th>Date Time</th>\n",
              "      <th>T (degC)</th>\n",
              "    </tr>\n",
              "    <tr>\n",
              "      <th>DateTime</th>\n",
              "      <th></th>\n",
              "      <th></th>\n",
              "    </tr>\n",
              "  </thead>\n",
              "  <tbody>\n",
              "    <tr>\n",
              "      <th>2009-01-01 00:10:00</th>\n",
              "      <td>01.01.2009 00:10:00</td>\n",
              "      <td>-8.02</td>\n",
              "    </tr>\n",
              "    <tr>\n",
              "      <th>2009-01-01 00:20:00</th>\n",
              "      <td>01.01.2009 00:20:00</td>\n",
              "      <td>-8.41</td>\n",
              "    </tr>\n",
              "    <tr>\n",
              "      <th>2009-01-01 00:30:00</th>\n",
              "      <td>01.01.2009 00:30:00</td>\n",
              "      <td>-8.51</td>\n",
              "    </tr>\n",
              "    <tr>\n",
              "      <th>2009-01-01 00:40:00</th>\n",
              "      <td>01.01.2009 00:40:00</td>\n",
              "      <td>-8.31</td>\n",
              "    </tr>\n",
              "    <tr>\n",
              "      <th>2009-01-01 00:50:00</th>\n",
              "      <td>01.01.2009 00:50:00</td>\n",
              "      <td>-8.27</td>\n",
              "    </tr>\n",
              "    <tr>\n",
              "      <th>2009-01-01 01:00:00</th>\n",
              "      <td>01.01.2009 01:00:00</td>\n",
              "      <td>-8.05</td>\n",
              "    </tr>\n",
              "    <tr>\n",
              "      <th>2009-01-01 01:10:00</th>\n",
              "      <td>01.01.2009 01:10:00</td>\n",
              "      <td>-7.62</td>\n",
              "    </tr>\n",
              "    <tr>\n",
              "      <th>2009-01-01 01:20:00</th>\n",
              "      <td>01.01.2009 01:20:00</td>\n",
              "      <td>-7.62</td>\n",
              "    </tr>\n",
              "    <tr>\n",
              "      <th>2009-01-01 01:30:00</th>\n",
              "      <td>01.01.2009 01:30:00</td>\n",
              "      <td>-7.91</td>\n",
              "    </tr>\n",
              "    <tr>\n",
              "      <th>2009-01-01 01:40:00</th>\n",
              "      <td>01.01.2009 01:40:00</td>\n",
              "      <td>-8.43</td>\n",
              "    </tr>\n",
              "    <tr>\n",
              "      <th>2009-01-01 01:50:00</th>\n",
              "      <td>01.01.2009 01:50:00</td>\n",
              "      <td>-8.76</td>\n",
              "    </tr>\n",
              "    <tr>\n",
              "      <th>2009-01-01 02:00:00</th>\n",
              "      <td>01.01.2009 02:00:00</td>\n",
              "      <td>-8.88</td>\n",
              "    </tr>\n",
              "    <tr>\n",
              "      <th>2009-01-01 02:10:00</th>\n",
              "      <td>01.01.2009 02:10:00</td>\n",
              "      <td>-8.85</td>\n",
              "    </tr>\n",
              "    <tr>\n",
              "      <th>2009-01-01 02:20:00</th>\n",
              "      <td>01.01.2009 02:20:00</td>\n",
              "      <td>-8.83</td>\n",
              "    </tr>\n",
              "    <tr>\n",
              "      <th>2009-01-01 02:30:00</th>\n",
              "      <td>01.01.2009 02:30:00</td>\n",
              "      <td>-8.66</td>\n",
              "    </tr>\n",
              "    <tr>\n",
              "      <th>2009-01-01 02:40:00</th>\n",
              "      <td>01.01.2009 02:40:00</td>\n",
              "      <td>-8.66</td>\n",
              "    </tr>\n",
              "    <tr>\n",
              "      <th>2009-01-01 02:50:00</th>\n",
              "      <td>01.01.2009 02:50:00</td>\n",
              "      <td>-8.70</td>\n",
              "    </tr>\n",
              "    <tr>\n",
              "      <th>2009-01-01 03:00:00</th>\n",
              "      <td>01.01.2009 03:00:00</td>\n",
              "      <td>-8.81</td>\n",
              "    </tr>\n",
              "    <tr>\n",
              "      <th>2009-01-01 03:10:00</th>\n",
              "      <td>01.01.2009 03:10:00</td>\n",
              "      <td>-8.84</td>\n",
              "    </tr>\n",
              "    <tr>\n",
              "      <th>2009-01-01 03:20:00</th>\n",
              "      <td>01.01.2009 03:20:00</td>\n",
              "      <td>-8.94</td>\n",
              "    </tr>\n",
              "    <tr>\n",
              "      <th>2009-01-01 03:30:00</th>\n",
              "      <td>01.01.2009 03:30:00</td>\n",
              "      <td>-8.94</td>\n",
              "    </tr>\n",
              "    <tr>\n",
              "      <th>2009-01-01 03:40:00</th>\n",
              "      <td>01.01.2009 03:40:00</td>\n",
              "      <td>-8.86</td>\n",
              "    </tr>\n",
              "    <tr>\n",
              "      <th>2009-01-01 03:50:00</th>\n",
              "      <td>01.01.2009 03:50:00</td>\n",
              "      <td>-8.99</td>\n",
              "    </tr>\n",
              "    <tr>\n",
              "      <th>2009-01-01 04:00:00</th>\n",
              "      <td>01.01.2009 04:00:00</td>\n",
              "      <td>-9.05</td>\n",
              "    </tr>\n",
              "    <tr>\n",
              "      <th>2009-01-01 04:10:00</th>\n",
              "      <td>01.01.2009 04:10:00</td>\n",
              "      <td>-9.23</td>\n",
              "    </tr>\n",
              "    <tr>\n",
              "      <th>2009-01-01 04:20:00</th>\n",
              "      <td>01.01.2009 04:20:00</td>\n",
              "      <td>-9.49</td>\n",
              "    </tr>\n",
              "    <tr>\n",
              "      <th>2009-01-01 04:30:00</th>\n",
              "      <td>01.01.2009 04:30:00</td>\n",
              "      <td>-9.50</td>\n",
              "    </tr>\n",
              "    <tr>\n",
              "      <th>2009-01-01 04:40:00</th>\n",
              "      <td>01.01.2009 04:40:00</td>\n",
              "      <td>-9.35</td>\n",
              "    </tr>\n",
              "    <tr>\n",
              "      <th>2009-01-01 04:50:00</th>\n",
              "      <td>01.01.2009 04:50:00</td>\n",
              "      <td>-9.47</td>\n",
              "    </tr>\n",
              "    <tr>\n",
              "      <th>2009-01-01 05:00:00</th>\n",
              "      <td>01.01.2009 05:00:00</td>\n",
              "      <td>-9.63</td>\n",
              "    </tr>\n",
              "    <tr>\n",
              "      <th>...</th>\n",
              "      <td>...</td>\n",
              "      <td>...</td>\n",
              "    </tr>\n",
              "    <tr>\n",
              "      <th>2016-12-31 19:10:00</th>\n",
              "      <td>31.12.2016 19:10:00</td>\n",
              "      <td>-0.98</td>\n",
              "    </tr>\n",
              "    <tr>\n",
              "      <th>2016-12-31 19:20:00</th>\n",
              "      <td>31.12.2016 19:20:00</td>\n",
              "      <td>-1.40</td>\n",
              "    </tr>\n",
              "    <tr>\n",
              "      <th>2016-12-31 19:30:00</th>\n",
              "      <td>31.12.2016 19:30:00</td>\n",
              "      <td>-1.47</td>\n",
              "    </tr>\n",
              "    <tr>\n",
              "      <th>2016-12-31 19:40:00</th>\n",
              "      <td>31.12.2016 19:40:00</td>\n",
              "      <td>-1.61</td>\n",
              "    </tr>\n",
              "    <tr>\n",
              "      <th>2016-12-31 19:50:00</th>\n",
              "      <td>31.12.2016 19:50:00</td>\n",
              "      <td>-1.65</td>\n",
              "    </tr>\n",
              "    <tr>\n",
              "      <th>2016-12-31 20:00:00</th>\n",
              "      <td>31.12.2016 20:00:00</td>\n",
              "      <td>-1.52</td>\n",
              "    </tr>\n",
              "    <tr>\n",
              "      <th>2016-12-31 20:10:00</th>\n",
              "      <td>31.12.2016 20:10:00</td>\n",
              "      <td>-1.40</td>\n",
              "    </tr>\n",
              "    <tr>\n",
              "      <th>2016-12-31 20:20:00</th>\n",
              "      <td>31.12.2016 20:20:00</td>\n",
              "      <td>-2.15</td>\n",
              "    </tr>\n",
              "    <tr>\n",
              "      <th>2016-12-31 20:30:00</th>\n",
              "      <td>31.12.2016 20:30:00</td>\n",
              "      <td>-3.19</td>\n",
              "    </tr>\n",
              "    <tr>\n",
              "      <th>2016-12-31 20:40:00</th>\n",
              "      <td>31.12.2016 20:40:00</td>\n",
              "      <td>-3.30</td>\n",
              "    </tr>\n",
              "    <tr>\n",
              "      <th>2016-12-31 20:50:00</th>\n",
              "      <td>31.12.2016 20:50:00</td>\n",
              "      <td>-3.46</td>\n",
              "    </tr>\n",
              "    <tr>\n",
              "      <th>2016-12-31 21:00:00</th>\n",
              "      <td>31.12.2016 21:00:00</td>\n",
              "      <td>-3.09</td>\n",
              "    </tr>\n",
              "    <tr>\n",
              "      <th>2016-12-31 21:10:00</th>\n",
              "      <td>31.12.2016 21:10:00</td>\n",
              "      <td>-2.75</td>\n",
              "    </tr>\n",
              "    <tr>\n",
              "      <th>2016-12-31 21:20:00</th>\n",
              "      <td>31.12.2016 21:20:00</td>\n",
              "      <td>-2.61</td>\n",
              "    </tr>\n",
              "    <tr>\n",
              "      <th>2016-12-31 21:30:00</th>\n",
              "      <td>31.12.2016 21:30:00</td>\n",
              "      <td>-2.51</td>\n",
              "    </tr>\n",
              "    <tr>\n",
              "      <th>2016-12-31 21:40:00</th>\n",
              "      <td>31.12.2016 21:40:00</td>\n",
              "      <td>-2.48</td>\n",
              "    </tr>\n",
              "    <tr>\n",
              "      <th>2016-12-31 21:50:00</th>\n",
              "      <td>31.12.2016 21:50:00</td>\n",
              "      <td>-2.48</td>\n",
              "    </tr>\n",
              "    <tr>\n",
              "      <th>2016-12-31 22:00:00</th>\n",
              "      <td>31.12.2016 22:00:00</td>\n",
              "      <td>-2.59</td>\n",
              "    </tr>\n",
              "    <tr>\n",
              "      <th>2016-12-31 22:10:00</th>\n",
              "      <td>31.12.2016 22:10:00</td>\n",
              "      <td>-2.89</td>\n",
              "    </tr>\n",
              "    <tr>\n",
              "      <th>2016-12-31 22:20:00</th>\n",
              "      <td>31.12.2016 22:20:00</td>\n",
              "      <td>-3.22</td>\n",
              "    </tr>\n",
              "    <tr>\n",
              "      <th>2016-12-31 22:30:00</th>\n",
              "      <td>31.12.2016 22:30:00</td>\n",
              "      <td>-4.08</td>\n",
              "    </tr>\n",
              "    <tr>\n",
              "      <th>2016-12-31 22:40:00</th>\n",
              "      <td>31.12.2016 22:40:00</td>\n",
              "      <td>-4.45</td>\n",
              "    </tr>\n",
              "    <tr>\n",
              "      <th>2016-12-31 22:50:00</th>\n",
              "      <td>31.12.2016 22:50:00</td>\n",
              "      <td>-4.09</td>\n",
              "    </tr>\n",
              "    <tr>\n",
              "      <th>2016-12-31 23:00:00</th>\n",
              "      <td>31.12.2016 23:00:00</td>\n",
              "      <td>-3.76</td>\n",
              "    </tr>\n",
              "    <tr>\n",
              "      <th>2016-12-31 23:10:00</th>\n",
              "      <td>31.12.2016 23:10:00</td>\n",
              "      <td>-3.93</td>\n",
              "    </tr>\n",
              "    <tr>\n",
              "      <th>2016-12-31 23:20:00</th>\n",
              "      <td>31.12.2016 23:20:00</td>\n",
              "      <td>-4.05</td>\n",
              "    </tr>\n",
              "    <tr>\n",
              "      <th>2016-12-31 23:30:00</th>\n",
              "      <td>31.12.2016 23:30:00</td>\n",
              "      <td>-3.35</td>\n",
              "    </tr>\n",
              "    <tr>\n",
              "      <th>2016-12-31 23:40:00</th>\n",
              "      <td>31.12.2016 23:40:00</td>\n",
              "      <td>-3.16</td>\n",
              "    </tr>\n",
              "    <tr>\n",
              "      <th>2016-12-31 23:50:00</th>\n",
              "      <td>31.12.2016 23:50:00</td>\n",
              "      <td>-4.23</td>\n",
              "    </tr>\n",
              "    <tr>\n",
              "      <th>2017-01-01 00:00:00</th>\n",
              "      <td>01.01.2017 00:00:00</td>\n",
              "      <td>-4.82</td>\n",
              "    </tr>\n",
              "  </tbody>\n",
              "</table>\n",
              "<p>420551 rows × 2 columns</p>\n",
              "</div>"
            ],
            "text/plain": [
              "                               Date Time  T (degC)\n",
              "DateTime                                          \n",
              "2009-01-01 00:10:00  01.01.2009 00:10:00     -8.02\n",
              "2009-01-01 00:20:00  01.01.2009 00:20:00     -8.41\n",
              "2009-01-01 00:30:00  01.01.2009 00:30:00     -8.51\n",
              "2009-01-01 00:40:00  01.01.2009 00:40:00     -8.31\n",
              "2009-01-01 00:50:00  01.01.2009 00:50:00     -8.27\n",
              "2009-01-01 01:00:00  01.01.2009 01:00:00     -8.05\n",
              "2009-01-01 01:10:00  01.01.2009 01:10:00     -7.62\n",
              "2009-01-01 01:20:00  01.01.2009 01:20:00     -7.62\n",
              "2009-01-01 01:30:00  01.01.2009 01:30:00     -7.91\n",
              "2009-01-01 01:40:00  01.01.2009 01:40:00     -8.43\n",
              "2009-01-01 01:50:00  01.01.2009 01:50:00     -8.76\n",
              "2009-01-01 02:00:00  01.01.2009 02:00:00     -8.88\n",
              "2009-01-01 02:10:00  01.01.2009 02:10:00     -8.85\n",
              "2009-01-01 02:20:00  01.01.2009 02:20:00     -8.83\n",
              "2009-01-01 02:30:00  01.01.2009 02:30:00     -8.66\n",
              "2009-01-01 02:40:00  01.01.2009 02:40:00     -8.66\n",
              "2009-01-01 02:50:00  01.01.2009 02:50:00     -8.70\n",
              "2009-01-01 03:00:00  01.01.2009 03:00:00     -8.81\n",
              "2009-01-01 03:10:00  01.01.2009 03:10:00     -8.84\n",
              "2009-01-01 03:20:00  01.01.2009 03:20:00     -8.94\n",
              "2009-01-01 03:30:00  01.01.2009 03:30:00     -8.94\n",
              "2009-01-01 03:40:00  01.01.2009 03:40:00     -8.86\n",
              "2009-01-01 03:50:00  01.01.2009 03:50:00     -8.99\n",
              "2009-01-01 04:00:00  01.01.2009 04:00:00     -9.05\n",
              "2009-01-01 04:10:00  01.01.2009 04:10:00     -9.23\n",
              "2009-01-01 04:20:00  01.01.2009 04:20:00     -9.49\n",
              "2009-01-01 04:30:00  01.01.2009 04:30:00     -9.50\n",
              "2009-01-01 04:40:00  01.01.2009 04:40:00     -9.35\n",
              "2009-01-01 04:50:00  01.01.2009 04:50:00     -9.47\n",
              "2009-01-01 05:00:00  01.01.2009 05:00:00     -9.63\n",
              "...                                  ...       ...\n",
              "2016-12-31 19:10:00  31.12.2016 19:10:00     -0.98\n",
              "2016-12-31 19:20:00  31.12.2016 19:20:00     -1.40\n",
              "2016-12-31 19:30:00  31.12.2016 19:30:00     -1.47\n",
              "2016-12-31 19:40:00  31.12.2016 19:40:00     -1.61\n",
              "2016-12-31 19:50:00  31.12.2016 19:50:00     -1.65\n",
              "2016-12-31 20:00:00  31.12.2016 20:00:00     -1.52\n",
              "2016-12-31 20:10:00  31.12.2016 20:10:00     -1.40\n",
              "2016-12-31 20:20:00  31.12.2016 20:20:00     -2.15\n",
              "2016-12-31 20:30:00  31.12.2016 20:30:00     -3.19\n",
              "2016-12-31 20:40:00  31.12.2016 20:40:00     -3.30\n",
              "2016-12-31 20:50:00  31.12.2016 20:50:00     -3.46\n",
              "2016-12-31 21:00:00  31.12.2016 21:00:00     -3.09\n",
              "2016-12-31 21:10:00  31.12.2016 21:10:00     -2.75\n",
              "2016-12-31 21:20:00  31.12.2016 21:20:00     -2.61\n",
              "2016-12-31 21:30:00  31.12.2016 21:30:00     -2.51\n",
              "2016-12-31 21:40:00  31.12.2016 21:40:00     -2.48\n",
              "2016-12-31 21:50:00  31.12.2016 21:50:00     -2.48\n",
              "2016-12-31 22:00:00  31.12.2016 22:00:00     -2.59\n",
              "2016-12-31 22:10:00  31.12.2016 22:10:00     -2.89\n",
              "2016-12-31 22:20:00  31.12.2016 22:20:00     -3.22\n",
              "2016-12-31 22:30:00  31.12.2016 22:30:00     -4.08\n",
              "2016-12-31 22:40:00  31.12.2016 22:40:00     -4.45\n",
              "2016-12-31 22:50:00  31.12.2016 22:50:00     -4.09\n",
              "2016-12-31 23:00:00  31.12.2016 23:00:00     -3.76\n",
              "2016-12-31 23:10:00  31.12.2016 23:10:00     -3.93\n",
              "2016-12-31 23:20:00  31.12.2016 23:20:00     -4.05\n",
              "2016-12-31 23:30:00  31.12.2016 23:30:00     -3.35\n",
              "2016-12-31 23:40:00  31.12.2016 23:40:00     -3.16\n",
              "2016-12-31 23:50:00  31.12.2016 23:50:00     -4.23\n",
              "2017-01-01 00:00:00  01.01.2017 00:00:00     -4.82\n",
              "\n",
              "[420551 rows x 2 columns]"
            ]
          },
          "metadata": {
            "tags": []
          },
          "execution_count": 40
        }
      ]
    },
    {
      "cell_type": "code",
      "metadata": {
        "id": "oqreMLke60ZM",
        "colab_type": "code",
        "colab": {}
      },
      "source": [
        ""
      ],
      "execution_count": 0,
      "outputs": []
    },
    {
      "cell_type": "markdown",
      "metadata": {
        "id": "c7G9TkM26-lC",
        "colab_type": "text"
      },
      "source": [
        "## Extract Time Series Data"
      ]
    },
    {
      "cell_type": "code",
      "metadata": {
        "id": "TKxL7SQv7Apd",
        "colab_type": "code",
        "colab": {}
      },
      "source": [
        "time_series_df = df.set_index(['DateTime'])"
      ],
      "execution_count": 0,
      "outputs": []
    },
    {
      "cell_type": "code",
      "metadata": {
        "id": "K4jy0pjc7CZc",
        "colab_type": "code",
        "colab": {
          "base_uri": "https://localhost:8080/",
          "height": 134
        },
        "outputId": "8d1c302f-fc05-42a6-8c35-e8711107a8fb"
      },
      "source": [
        "time_series_df.info()"
      ],
      "execution_count": 42,
      "outputs": [
        {
          "output_type": "stream",
          "text": [
            "<class 'pandas.core.frame.DataFrame'>\n",
            "DatetimeIndex: 420551 entries, 2009-01-01 00:10:00 to 2017-01-01 00:00:00\n",
            "Data columns (total 2 columns):\n",
            "Date Time    420551 non-null object\n",
            "T (degC)     420551 non-null float64\n",
            "dtypes: float64(1), object(1)\n",
            "memory usage: 9.6+ MB\n"
          ],
          "name": "stdout"
        }
      ]
    },
    {
      "cell_type": "code",
      "metadata": {
        "id": "CViIgvqE7Fbm",
        "colab_type": "code",
        "colab": {}
      },
      "source": [
        "time_series_df.drop(['Date Time'], axis=1, inplace=True)"
      ],
      "execution_count": 0,
      "outputs": []
    },
    {
      "cell_type": "markdown",
      "metadata": {
        "id": "Iq4j69Pg7lCa",
        "colab_type": "text"
      },
      "source": [
        "## Resample to Mean Daily Temperature"
      ]
    },
    {
      "cell_type": "code",
      "metadata": {
        "id": "hmt1zRpr7V3R",
        "colab_type": "code",
        "colab": {
          "base_uri": "https://localhost:8080/",
          "height": 134
        },
        "outputId": "8431f287-3e34-472f-8c3f-096ae19bae6c"
      },
      "source": [
        "mean_daily_temp = time_series_df.resample('D').mean()\n",
        "mean_daily_temp.info()"
      ],
      "execution_count": 44,
      "outputs": [
        {
          "output_type": "stream",
          "text": [
            "<class 'pandas.core.frame.DataFrame'>\n",
            "DatetimeIndex: 2923 entries, 2009-01-01 to 2017-01-01\n",
            "Freq: D\n",
            "Data columns (total 1 columns):\n",
            "T (degC)    2921 non-null float64\n",
            "dtypes: float64(1)\n",
            "memory usage: 45.7 KB\n"
          ],
          "name": "stdout"
        }
      ]
    },
    {
      "cell_type": "code",
      "metadata": {
        "id": "HTd39lY77vir",
        "colab_type": "code",
        "colab": {}
      },
      "source": [
        "test_daily_temp = mean_daily_temp['2016']\n",
        "train_daily_temp = mean_daily_temp['2009':'2015']"
      ],
      "execution_count": 0,
      "outputs": []
    },
    {
      "cell_type": "code",
      "metadata": {
        "id": "a8yH2wy58Bbk",
        "colab_type": "code",
        "colab": {}
      },
      "source": [
        ""
      ],
      "execution_count": 0,
      "outputs": []
    },
    {
      "cell_type": "markdown",
      "metadata": {
        "id": "ebXgcN0u8O_O",
        "colab_type": "text"
      },
      "source": [
        "## Reset Indices"
      ]
    },
    {
      "cell_type": "code",
      "metadata": {
        "id": "N8bABhi38QPA",
        "colab_type": "code",
        "colab": {
          "base_uri": "https://localhost:8080/",
          "height": 195
        },
        "outputId": "2d488873-ad54-4669-a992-3a9eecf8bbe9"
      },
      "source": [
        "test_daily_temp.reset_index(inplace=True)\n",
        "test_daily_temp.reset_index(inplace=True)\n",
        "test_daily_temp.head()"
      ],
      "execution_count": 46,
      "outputs": [
        {
          "output_type": "execute_result",
          "data": {
            "text/html": [
              "<div>\n",
              "<style scoped>\n",
              "    .dataframe tbody tr th:only-of-type {\n",
              "        vertical-align: middle;\n",
              "    }\n",
              "\n",
              "    .dataframe tbody tr th {\n",
              "        vertical-align: top;\n",
              "    }\n",
              "\n",
              "    .dataframe thead th {\n",
              "        text-align: right;\n",
              "    }\n",
              "</style>\n",
              "<table border=\"1\" class=\"dataframe\">\n",
              "  <thead>\n",
              "    <tr style=\"text-align: right;\">\n",
              "      <th></th>\n",
              "      <th>index</th>\n",
              "      <th>DateTime</th>\n",
              "      <th>T (degC)</th>\n",
              "    </tr>\n",
              "  </thead>\n",
              "  <tbody>\n",
              "    <tr>\n",
              "      <th>0</th>\n",
              "      <td>0</td>\n",
              "      <td>2016-01-01</td>\n",
              "      <td>0.249236</td>\n",
              "    </tr>\n",
              "    <tr>\n",
              "      <th>1</th>\n",
              "      <td>1</td>\n",
              "      <td>2016-01-02</td>\n",
              "      <td>-0.975486</td>\n",
              "    </tr>\n",
              "    <tr>\n",
              "      <th>2</th>\n",
              "      <td>2</td>\n",
              "      <td>2016-01-03</td>\n",
              "      <td>-1.578056</td>\n",
              "    </tr>\n",
              "    <tr>\n",
              "      <th>3</th>\n",
              "      <td>3</td>\n",
              "      <td>2016-01-04</td>\n",
              "      <td>-2.081111</td>\n",
              "    </tr>\n",
              "    <tr>\n",
              "      <th>4</th>\n",
              "      <td>4</td>\n",
              "      <td>2016-01-05</td>\n",
              "      <td>-1.761319</td>\n",
              "    </tr>\n",
              "  </tbody>\n",
              "</table>\n",
              "</div>"
            ],
            "text/plain": [
              "   index   DateTime  T (degC)\n",
              "0      0 2016-01-01  0.249236\n",
              "1      1 2016-01-02 -0.975486\n",
              "2      2 2016-01-03 -1.578056\n",
              "3      3 2016-01-04 -2.081111\n",
              "4      4 2016-01-05 -1.761319"
            ]
          },
          "metadata": {
            "tags": []
          },
          "execution_count": 46
        }
      ]
    },
    {
      "cell_type": "code",
      "metadata": {
        "id": "u3uZHsTw8U7e",
        "colab_type": "code",
        "colab": {
          "base_uri": "https://localhost:8080/",
          "height": 195
        },
        "outputId": "18dd9159-f2ea-4b09-aa16-8182f3a1a510"
      },
      "source": [
        "train_daily_temp.reset_index(inplace=True)\n",
        "train_daily_temp.reset_index(inplace=True)\n",
        "train_daily_temp.head()"
      ],
      "execution_count": 47,
      "outputs": [
        {
          "output_type": "execute_result",
          "data": {
            "text/html": [
              "<div>\n",
              "<style scoped>\n",
              "    .dataframe tbody tr th:only-of-type {\n",
              "        vertical-align: middle;\n",
              "    }\n",
              "\n",
              "    .dataframe tbody tr th {\n",
              "        vertical-align: top;\n",
              "    }\n",
              "\n",
              "    .dataframe thead th {\n",
              "        text-align: right;\n",
              "    }\n",
              "</style>\n",
              "<table border=\"1\" class=\"dataframe\">\n",
              "  <thead>\n",
              "    <tr style=\"text-align: right;\">\n",
              "      <th></th>\n",
              "      <th>index</th>\n",
              "      <th>DateTime</th>\n",
              "      <th>T (degC)</th>\n",
              "    </tr>\n",
              "  </thead>\n",
              "  <tbody>\n",
              "    <tr>\n",
              "      <th>0</th>\n",
              "      <td>0</td>\n",
              "      <td>2009-01-01</td>\n",
              "      <td>-6.810629</td>\n",
              "    </tr>\n",
              "    <tr>\n",
              "      <th>1</th>\n",
              "      <td>1</td>\n",
              "      <td>2009-01-02</td>\n",
              "      <td>-3.728194</td>\n",
              "    </tr>\n",
              "    <tr>\n",
              "      <th>2</th>\n",
              "      <td>2</td>\n",
              "      <td>2009-01-03</td>\n",
              "      <td>-5.271736</td>\n",
              "    </tr>\n",
              "    <tr>\n",
              "      <th>3</th>\n",
              "      <td>3</td>\n",
              "      <td>2009-01-04</td>\n",
              "      <td>-1.375208</td>\n",
              "    </tr>\n",
              "    <tr>\n",
              "      <th>4</th>\n",
              "      <td>4</td>\n",
              "      <td>2009-01-05</td>\n",
              "      <td>-4.867153</td>\n",
              "    </tr>\n",
              "  </tbody>\n",
              "</table>\n",
              "</div>"
            ],
            "text/plain": [
              "   index   DateTime  T (degC)\n",
              "0      0 2009-01-01 -6.810629\n",
              "1      1 2009-01-02 -3.728194\n",
              "2      2 2009-01-03 -5.271736\n",
              "3      3 2009-01-04 -1.375208\n",
              "4      4 2009-01-05 -4.867153"
            ]
          },
          "metadata": {
            "tags": []
          },
          "execution_count": 47
        }
      ]
    },
    {
      "cell_type": "code",
      "metadata": {
        "id": "PSHlIDR79AuM",
        "colab_type": "code",
        "colab": {}
      },
      "source": [
        ""
      ],
      "execution_count": 0,
      "outputs": []
    },
    {
      "cell_type": "markdown",
      "metadata": {
        "id": "471dBwAp9h6G",
        "colab_type": "text"
      },
      "source": [
        "## Extract Time Steps"
      ]
    },
    {
      "cell_type": "code",
      "metadata": {
        "id": "HZq0Knqx9j8o",
        "colab_type": "code",
        "colab": {}
      },
      "source": [
        "train_x = train_daily_temp[['index']].to_numpy()\n",
        "train_y = train_daily_temp[['T (degC)']].to_numpy()"
      ],
      "execution_count": 0,
      "outputs": []
    },
    {
      "cell_type": "code",
      "metadata": {
        "id": "awGqlbTk91Ro",
        "colab_type": "code",
        "colab": {
          "base_uri": "https://localhost:8080/",
          "height": 34
        },
        "outputId": "34cff387-f12c-4eec-d395-960ec36e8576"
      },
      "source": [
        "print(train_x.shape)"
      ],
      "execution_count": 52,
      "outputs": [
        {
          "output_type": "stream",
          "text": [
            "(2556, 1)\n"
          ],
          "name": "stdout"
        }
      ]
    },
    {
      "cell_type": "code",
      "metadata": {
        "id": "nE5F2gGb93sY",
        "colab_type": "code",
        "colab": {}
      },
      "source": [
        "test_x = test_daily_temp[['index']].to_numpy()\n",
        "test_y = test_daily_temp[['T (degC)']].to_numpy()"
      ],
      "execution_count": 0,
      "outputs": []
    },
    {
      "cell_type": "code",
      "metadata": {
        "id": "3HHZs1JD-NPl",
        "colab_type": "code",
        "colab": {}
      },
      "source": [
        ""
      ],
      "execution_count": 0,
      "outputs": []
    },
    {
      "cell_type": "markdown",
      "metadata": {
        "id": "mfc-ZXBu-PbK",
        "colab_type": "text"
      },
      "source": [
        "## Create Generator"
      ]
    },
    {
      "cell_type": "code",
      "metadata": {
        "id": "n_nxdBUa-Q2b",
        "colab_type": "code",
        "colab": {}
      },
      "source": [
        "from tensorflow.keras.preprocessing.sequence import TimeseriesGenerator"
      ],
      "execution_count": 0,
      "outputs": []
    },
    {
      "cell_type": "code",
      "metadata": {
        "id": "9R0SF9YkCdi9",
        "colab_type": "code",
        "colab": {}
      },
      "source": [
        "N_INPUT = 128\n",
        "BATCH_SIZE = 64"
      ],
      "execution_count": 0,
      "outputs": []
    },
    {
      "cell_type": "code",
      "metadata": {
        "id": "URqQP_f3-dgJ",
        "colab_type": "code",
        "colab": {}
      },
      "source": [
        "train_gen = TimeseriesGenerator(train_x, train_y, length=N_INPUT, sampling_rate=7, batch_size=BATCH_SIZE)"
      ],
      "execution_count": 0,
      "outputs": []
    },
    {
      "cell_type": "code",
      "metadata": {
        "id": "AFXgLgtQ_UeX",
        "colab_type": "code",
        "colab": {
          "base_uri": "https://localhost:8080/",
          "height": 34
        },
        "outputId": "19c76262-2abc-405a-b1bc-623f398362fe"
      },
      "source": [
        "print(len(train_gen))"
      ],
      "execution_count": 82,
      "outputs": [
        {
          "output_type": "stream",
          "text": [
            "38\n"
          ],
          "name": "stdout"
        }
      ]
    },
    {
      "cell_type": "code",
      "metadata": {
        "id": "7WPJc6NN_X57",
        "colab_type": "code",
        "colab": {
          "base_uri": "https://localhost:8080/",
          "height": 34
        },
        "outputId": "697d5325-4451-4bf9-dcc8-ff8e28de66a8"
      },
      "source": [
        "batch_0 = train_gen[0]\n",
        "x, y = batch_0\n",
        "print(y.shape)"
      ],
      "execution_count": 83,
      "outputs": [
        {
          "output_type": "stream",
          "text": [
            "(64, 1)\n"
          ],
          "name": "stdout"
        }
      ]
    },
    {
      "cell_type": "code",
      "metadata": {
        "id": "KvFF9i4p_z8N",
        "colab_type": "code",
        "colab": {
          "base_uri": "https://localhost:8080/",
          "height": 34
        },
        "outputId": "ca63ae52-77cf-469f-8bc7-7eb71e1bcb44"
      },
      "source": [
        "print(x.shape)"
      ],
      "execution_count": 93,
      "outputs": [
        {
          "output_type": "stream",
          "text": [
            "(64, 19, 1)\n"
          ],
          "name": "stdout"
        }
      ]
    },
    {
      "cell_type": "code",
      "metadata": {
        "id": "_DcWRe8V_38V",
        "colab_type": "code",
        "colab": {}
      },
      "source": [
        "test_gen = TimeseriesGenerator(test_x, test_y, length=N_INPUT, sampling_rate=7, batch_size=BATCH_SIZE)"
      ],
      "execution_count": 0,
      "outputs": []
    },
    {
      "cell_type": "code",
      "metadata": {
        "id": "--8C2x5sBaOI",
        "colab_type": "code",
        "colab": {}
      },
      "source": [
        ""
      ],
      "execution_count": 0,
      "outputs": []
    },
    {
      "cell_type": "markdown",
      "metadata": {
        "id": "6WWbWP5dB-O6",
        "colab_type": "text"
      },
      "source": [
        "## Define Dense Model"
      ]
    },
    {
      "cell_type": "code",
      "metadata": {
        "id": "0NWe4pISCAad",
        "colab_type": "code",
        "colab": {
          "base_uri": "https://localhost:8080/",
          "height": 269
        },
        "outputId": "8dc31402-9f81-4cf9-d0b5-6fad4f1e04ef"
      },
      "source": [
        "model = models.Sequential([\n",
        "    layers.Dense(100, input_shape=(x.shape[1], x.shape[2]), activation='relu'),\n",
        "    layers.Flatten(),\n",
        "    layers.Dense(1)\n",
        "])\n",
        "print(model.summary())"
      ],
      "execution_count": 98,
      "outputs": [
        {
          "output_type": "stream",
          "text": [
            "Model: \"sequential_3\"\n",
            "_________________________________________________________________\n",
            "Layer (type)                 Output Shape              Param #   \n",
            "=================================================================\n",
            "dense_6 (Dense)              (None, 19, 100)           200       \n",
            "_________________________________________________________________\n",
            "flatten (Flatten)            (None, 1900)              0         \n",
            "_________________________________________________________________\n",
            "dense_7 (Dense)              (None, 1)                 1901      \n",
            "=================================================================\n",
            "Total params: 2,101\n",
            "Trainable params: 2,101\n",
            "Non-trainable params: 0\n",
            "_________________________________________________________________\n",
            "None\n"
          ],
          "name": "stdout"
        }
      ]
    },
    {
      "cell_type": "code",
      "metadata": {
        "id": "1jNXqrxzEPEo",
        "colab_type": "code",
        "colab": {}
      },
      "source": [
        "model.compile(optimizer='adam', loss='mse')"
      ],
      "execution_count": 0,
      "outputs": []
    },
    {
      "cell_type": "code",
      "metadata": {
        "id": "Hnz8FM0FElbD",
        "colab_type": "code",
        "colab": {
          "base_uri": "https://localhost:8080/",
          "height": 202
        },
        "outputId": "6a5c47ea-70bd-4670-f47f-2cec6b7e7ba2"
      },
      "source": [
        "model.fit_generator(train_gen, epochs=5)"
      ],
      "execution_count": 104,
      "outputs": [
        {
          "output_type": "stream",
          "text": [
            "Epoch 1/5\n",
            "38/38 [==============================] - 1s 14ms/step - loss: 7673.4290\n",
            "Epoch 2/5\n",
            "38/38 [==============================] - 0s 5ms/step - loss: 315.2329\n",
            "Epoch 3/5\n",
            "38/38 [==============================] - 0s 5ms/step - loss: 161.8855\n",
            "Epoch 4/5\n",
            "38/38 [==============================] - 0s 8ms/step - loss: 107.8195\n",
            "Epoch 5/5\n",
            "38/38 [==============================] - 0s 6ms/step - loss: 88.0511\n"
          ],
          "name": "stdout"
        },
        {
          "output_type": "execute_result",
          "data": {
            "text/plain": [
              "<tensorflow.python.keras.callbacks.History at 0x7f763e1a3a90>"
            ]
          },
          "metadata": {
            "tags": []
          },
          "execution_count": 104
        }
      ]
    },
    {
      "cell_type": "code",
      "metadata": {
        "id": "sychhNjLExr8",
        "colab_type": "code",
        "colab": {}
      },
      "source": [
        "example = test_gen[0]\n",
        "x, y = example\n",
        "y_pred = model.predict(x)"
      ],
      "execution_count": 0,
      "outputs": []
    },
    {
      "cell_type": "code",
      "metadata": {
        "id": "wC9JA807Gfcs",
        "colab_type": "code",
        "colab": {
          "base_uri": "https://localhost:8080/",
          "height": 34
        },
        "outputId": "5266917e-6139-4925-edc5-223bccfd45c4"
      },
      "source": [
        "print(len(y_pred))"
      ],
      "execution_count": 106,
      "outputs": [
        {
          "output_type": "stream",
          "text": [
            "64\n"
          ],
          "name": "stdout"
        }
      ]
    },
    {
      "cell_type": "code",
      "metadata": {
        "id": "0GmrXIUpGiRZ",
        "colab_type": "code",
        "colab": {
          "base_uri": "https://localhost:8080/",
          "height": 34
        },
        "outputId": "7827524c-bfde-48e5-be4f-9f5067aed00f"
      },
      "source": [
        "print(y_pred[0])"
      ],
      "execution_count": 107,
      "outputs": [
        {
          "output_type": "stream",
          "text": [
            "[2.9026558]\n"
          ],
          "name": "stdout"
        }
      ]
    },
    {
      "cell_type": "code",
      "metadata": {
        "id": "uTDRjiasGmlf",
        "colab_type": "code",
        "colab": {
          "base_uri": "https://localhost:8080/",
          "height": 34
        },
        "outputId": "0a5d5721-4c59-41c5-c911-8bbabcd79be8"
      },
      "source": [
        "print(y[0])"
      ],
      "execution_count": 108,
      "outputs": [
        {
          "output_type": "stream",
          "text": [
            "[17.23909722]\n"
          ],
          "name": "stdout"
        }
      ]
    },
    {
      "cell_type": "code",
      "metadata": {
        "id": "3A11L1PlGn16",
        "colab_type": "code",
        "colab": {}
      },
      "source": [
        ""
      ],
      "execution_count": 0,
      "outputs": []
    },
    {
      "cell_type": "markdown",
      "metadata": {
        "id": "HMxbT1S0GxdP",
        "colab_type": "text"
      },
      "source": [
        "## Define RNN Model"
      ]
    },
    {
      "cell_type": "code",
      "metadata": {
        "id": "Mvpt3wubGzAz",
        "colab_type": "code",
        "colab": {
          "base_uri": "https://localhost:8080/",
          "height": 269
        },
        "outputId": "e89a49d0-634e-40f8-fb32-4dc0ab5cc26d"
      },
      "source": [
        "rnn_model = models.Sequential([\n",
        "    layers.SimpleRNN(100, input_shape=(x.shape[1], x.shape[2]), return_sequences=True, dropout=0.5, recurrent_dropout=0.5),\n",
        "    layers.SimpleRNN(200, dropout=0.5, recurrent_dropout=0.5),\n",
        "    layers.Dense(1)\n",
        "])\n",
        "print(rnn_model.summary())"
      ],
      "execution_count": 143,
      "outputs": [
        {
          "output_type": "stream",
          "text": [
            "Model: \"sequential_22\"\n",
            "_________________________________________________________________\n",
            "Layer (type)                 Output Shape              Param #   \n",
            "=================================================================\n",
            "simple_rnn_26 (SimpleRNN)    (None, 19, 100)           10200     \n",
            "_________________________________________________________________\n",
            "simple_rnn_27 (SimpleRNN)    (None, 200)               60200     \n",
            "_________________________________________________________________\n",
            "dense_25 (Dense)             (None, 1)                 201       \n",
            "=================================================================\n",
            "Total params: 70,601\n",
            "Trainable params: 70,601\n",
            "Non-trainable params: 0\n",
            "_________________________________________________________________\n",
            "None\n"
          ],
          "name": "stdout"
        }
      ]
    },
    {
      "cell_type": "code",
      "metadata": {
        "id": "rPof8Z1cHvgU",
        "colab_type": "code",
        "colab": {
          "base_uri": "https://localhost:8080/",
          "height": 202
        },
        "outputId": "2aa38672-74b0-4e1c-ef98-964f6c682fba"
      },
      "source": [
        "rnn_model.compile(optimizer='adam', loss='mse')\n",
        "rnn_model.fit_generator(train_gen, epochs=5)"
      ],
      "execution_count": 146,
      "outputs": [
        {
          "output_type": "stream",
          "text": [
            "Epoch 1/5\n",
            "38/38 [==============================] - 4s 113ms/step - loss: 63.4618\n",
            "Epoch 2/5\n",
            "38/38 [==============================] - 2s 55ms/step - loss: 61.8683\n",
            "Epoch 3/5\n",
            "38/38 [==============================] - 2s 53ms/step - loss: 62.6388\n",
            "Epoch 4/5\n",
            "38/38 [==============================] - 2s 57ms/step - loss: 63.3157\n",
            "Epoch 5/5\n",
            "38/38 [==============================] - 2s 55ms/step - loss: 61.4936\n"
          ],
          "name": "stdout"
        },
        {
          "output_type": "execute_result",
          "data": {
            "text/plain": [
              "<tensorflow.python.keras.callbacks.History at 0x7f75b2c3cba8>"
            ]
          },
          "metadata": {
            "tags": []
          },
          "execution_count": 146
        }
      ]
    },
    {
      "cell_type": "code",
      "metadata": {
        "id": "vxFRQ3o7IgwH",
        "colab_type": "code",
        "colab": {
          "base_uri": "https://localhost:8080/",
          "height": 34
        },
        "outputId": "bfaa2e4d-4b48-4ee3-c2ab-19dd85249a2a"
      },
      "source": [
        "y_pred = rnn_model.predict(x)\n",
        "print(y_pred[0])"
      ],
      "execution_count": 147,
      "outputs": [
        {
          "output_type": "stream",
          "text": [
            "[9.817606]\n"
          ],
          "name": "stdout"
        }
      ]
    },
    {
      "cell_type": "code",
      "metadata": {
        "id": "N7vpdUViInVY",
        "colab_type": "code",
        "colab": {}
      },
      "source": [
        ""
      ],
      "execution_count": 0,
      "outputs": []
    },
    {
      "cell_type": "markdown",
      "metadata": {
        "id": "MvfSNd4BMrB6",
        "colab_type": "text"
      },
      "source": [
        "## Define LSTM Model"
      ]
    },
    {
      "cell_type": "code",
      "metadata": {
        "id": "wXuB5b38Msxn",
        "colab_type": "code",
        "colab": {
          "base_uri": "https://localhost:8080/",
          "height": 423
        },
        "outputId": "4f116b46-f3f1-4ff0-90ec-07a205505495"
      },
      "source": [
        "lstm_model = models.Sequential([\n",
        "    layers.Bidirectional(layers.LSTM(100, return_sequences=True, recurrent_dropout=0.5), input_shape=(x.shape[1], x.shape[2])),\n",
        "    layers.Bidirectional(layers.LSTM(100, recurrent_dropout=0.5)),\n",
        "    layers.Dense(1)\n",
        "])\n",
        "print(lstm_model.summary())"
      ],
      "execution_count": 158,
      "outputs": [
        {
          "output_type": "stream",
          "text": [
            "W0523 01:17:51.801743 140148563203968 tf_logging.py:161] <tensorflow.python.keras.layers.recurrent.UnifiedLSTM object at 0x7f7533bf3da0>: Note that this layer is not optimized for performance. Please use tf.keras.layers.CuDNNLSTM for better performance on GPU.\n",
            "W0523 01:17:51.811113 140148563203968 tf_logging.py:161] <tensorflow.python.keras.layers.recurrent.UnifiedLSTM object at 0x7f7533c0f198>: Note that this layer is not optimized for performance. Please use tf.keras.layers.CuDNNLSTM for better performance on GPU.\n",
            "W0523 01:17:51.817688 140148563203968 tf_logging.py:161] <tensorflow.python.keras.layers.recurrent.UnifiedLSTM object at 0x7f752bb676d8>: Note that this layer is not optimized for performance. Please use tf.keras.layers.CuDNNLSTM for better performance on GPU.\n",
            "W0523 01:17:51.820705 140148563203968 tf_logging.py:161] <tensorflow.python.keras.layers.recurrent.UnifiedLSTM object at 0x7f752bb67e10>: Note that this layer is not optimized for performance. Please use tf.keras.layers.CuDNNLSTM for better performance on GPU.\n",
            "W0523 01:17:51.825104 140148563203968 tf_logging.py:161] <tensorflow.python.keras.layers.recurrent.UnifiedLSTM object at 0x7f752bbd9630>: Note that this layer is not optimized for performance. Please use tf.keras.layers.CuDNNLSTM for better performance on GPU.\n",
            "W0523 01:17:51.828993 140148563203968 tf_logging.py:161] <tensorflow.python.keras.layers.recurrent.UnifiedLSTM object at 0x7f752bbd9da0>: Note that this layer is not optimized for performance. Please use tf.keras.layers.CuDNNLSTM for better performance on GPU.\n"
          ],
          "name": "stderr"
        },
        {
          "output_type": "stream",
          "text": [
            "Model: \"sequential_29\"\n",
            "_________________________________________________________________\n",
            "Layer (type)                 Output Shape              Param #   \n",
            "=================================================================\n",
            "bidirectional_13 (Bidirectio (None, 19, 200)           81600     \n",
            "_________________________________________________________________\n",
            "bidirectional_14 (Bidirectio (None, 19, 400)           641600    \n",
            "_________________________________________________________________\n",
            "bidirectional_15 (Bidirectio (None, 200)               400800    \n",
            "_________________________________________________________________\n",
            "dense_31 (Dense)             (None, 1)                 201       \n",
            "=================================================================\n",
            "Total params: 1,124,201\n",
            "Trainable params: 1,124,201\n",
            "Non-trainable params: 0\n",
            "_________________________________________________________________\n",
            "None\n"
          ],
          "name": "stdout"
        }
      ]
    },
    {
      "cell_type": "code",
      "metadata": {
        "id": "bY_zGM5iNWDd",
        "colab_type": "code",
        "colab": {
          "base_uri": "https://localhost:8080/",
          "height": 202
        },
        "outputId": "ca79ee5d-1af1-405e-99f4-028c7189d9df"
      },
      "source": [
        "rnn_model.compile(optimizer='adam', loss='mse')\n",
        "rnn_model.fit_generator(train_gen, epochs=5)"
      ],
      "execution_count": 159,
      "outputs": [
        {
          "output_type": "stream",
          "text": [
            "Epoch 1/5\n",
            "38/38 [==============================] - 5s 133ms/step - loss: 61.7254\n",
            "Epoch 2/5\n",
            "38/38 [==============================] - 2s 57ms/step - loss: 61.1971\n",
            "Epoch 3/5\n",
            "38/38 [==============================] - 2s 53ms/step - loss: 61.6255\n",
            "Epoch 4/5\n",
            "38/38 [==============================] - 2s 55ms/step - loss: 61.4388\n",
            "Epoch 5/5\n",
            "38/38 [==============================] - 2s 54ms/step - loss: 61.4739\n"
          ],
          "name": "stdout"
        },
        {
          "output_type": "execute_result",
          "data": {
            "text/plain": [
              "<tensorflow.python.keras.callbacks.History at 0x7f752c4ebe48>"
            ]
          },
          "metadata": {
            "tags": []
          },
          "execution_count": 159
        }
      ]
    },
    {
      "cell_type": "code",
      "metadata": {
        "id": "Dzr51CA7N-1B",
        "colab_type": "code",
        "colab": {
          "base_uri": "https://localhost:8080/",
          "height": 34
        },
        "outputId": "ba52651e-0406-46e2-ce56-4d1c79de5c36"
      },
      "source": [
        "y_pred = rnn_model.predict(x)\n",
        "print(y_pred[0])"
      ],
      "execution_count": 160,
      "outputs": [
        {
          "output_type": "stream",
          "text": [
            "[9.926286]\n"
          ],
          "name": "stdout"
        }
      ]
    },
    {
      "cell_type": "code",
      "metadata": {
        "id": "-pPtPu-eOHGy",
        "colab_type": "code",
        "colab": {}
      },
      "source": [
        ""
      ],
      "execution_count": 0,
      "outputs": []
    }
  ]
}