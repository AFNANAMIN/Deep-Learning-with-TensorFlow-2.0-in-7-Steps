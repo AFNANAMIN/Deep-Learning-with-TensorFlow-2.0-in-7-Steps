{
 "cells": [
  {
   "cell_type": "markdown",
   "metadata": {
    "colab_type": "text",
    "id": "-IZv05z7nnlY"
   },
   "source": [
    "# Getting Started with TensorFlow 2.0 in 7 Days\n",
    "## 1.3 Getting Started"
   ]
  },
  {
   "cell_type": "markdown",
   "metadata": {
    "colab_type": "text",
    "id": "6s7UKDFroyHT"
   },
   "source": [
    "### Install TensorFlow"
   ]
  },
  {
   "cell_type": "code",
   "execution_count": 1,
   "metadata": {
    "colab": {
     "base_uri": "https://localhost:8080/",
     "height": 538
    },
    "colab_type": "code",
    "id": "aF3NnwXZnhQl",
    "outputId": "ad45084c-a8de-447d-f7f3-94b40241b88c"
   },
   "outputs": [
    {
     "name": "stdout",
     "output_type": "stream",
     "text": [
      "Collecting tf-nightly-2.0-preview\n",
      "\u001b[?25l  Downloading https://files.pythonhosted.org/packages/ee/7a/b6d68ce00e326bccad38135272e5f9d7cac922d6f83c532a32dfc29d72e8/tf_nightly_2.0_preview-2.0.0.dev20190219-cp36-cp36m-manylinux1_x86_64.whl (78.8MB)\n",
      "\u001b[K    100% |████████████████████████████████| 78.8MB 359kB/s \n",
      "\u001b[?25hRequirement already satisfied: six>=1.10.0 in /usr/local/lib/python3.6/dist-packages (from tf-nightly-2.0-preview) (1.11.0)\n",
      "Requirement already satisfied: wheel>=0.26 in /usr/local/lib/python3.6/dist-packages (from tf-nightly-2.0-preview) (0.33.0)\n",
      "Requirement already satisfied: astor>=0.6.0 in /usr/local/lib/python3.6/dist-packages (from tf-nightly-2.0-preview) (0.7.1)\n",
      "Requirement already satisfied: keras-preprocessing>=1.0.5 in /usr/local/lib/python3.6/dist-packages (from tf-nightly-2.0-preview) (1.0.9)\n",
      "Requirement already satisfied: termcolor>=1.1.0 in /usr/local/lib/python3.6/dist-packages (from tf-nightly-2.0-preview) (1.1.0)\n",
      "Collecting tb-nightly<1.14.0a0,>=1.13.0a0 (from tf-nightly-2.0-preview)\n",
      "\u001b[?25l  Downloading https://files.pythonhosted.org/packages/8f/3d/b12f86bc29f4ca2bb023fef0bf50fbff085a2f5f591d78f2b78ac39d1165/tb_nightly-1.13.0a20190219-py3-none-any.whl (3.2MB)\n",
      "\u001b[K    100% |████████████████████████████████| 3.2MB 11.5MB/s \n",
      "\u001b[?25hRequirement already satisfied: keras-applications>=1.0.6 in /usr/local/lib/python3.6/dist-packages (from tf-nightly-2.0-preview) (1.0.7)\n",
      "Collecting google-pasta>=0.1.1 (from tf-nightly-2.0-preview)\n",
      "\u001b[?25l  Downloading https://files.pythonhosted.org/packages/8c/96/adbd4eafe72ce9b5ca6f168fbf109386e1b601f7c59926a11e9d7b7a5b44/google_pasta-0.1.4-py3-none-any.whl (51kB)\n",
      "\u001b[K    100% |████████████████████████████████| 61kB 24.9MB/s \n",
      "\u001b[?25hCollecting tensorflow-estimator-2.0-preview (from tf-nightly-2.0-preview)\n",
      "\u001b[?25l  Downloading https://files.pythonhosted.org/packages/35/84/f53518389648e115dc0b2b5d081fbb18e33742b0ef6bcc66d56879825c8d/tensorflow_estimator_2.0_preview-1.14.0.dev2019021900-py2.py3-none-any.whl (352kB)\n",
      "\u001b[K    100% |████████████████████████████████| 358kB 22.3MB/s \n",
      "\u001b[?25hRequirement already satisfied: protobuf>=3.6.1 in /usr/local/lib/python3.6/dist-packages (from tf-nightly-2.0-preview) (3.6.1)\n",
      "Requirement already satisfied: absl-py>=0.1.6 in /usr/local/lib/python3.6/dist-packages (from tf-nightly-2.0-preview) (0.7.0)\n",
      "Requirement already satisfied: numpy<2.0,>=1.14.5 in /usr/local/lib/python3.6/dist-packages (from tf-nightly-2.0-preview) (1.14.6)\n",
      "Requirement already satisfied: grpcio>=1.8.6 in /usr/local/lib/python3.6/dist-packages (from tf-nightly-2.0-preview) (1.15.0)\n",
      "Requirement already satisfied: gast>=0.2.0 in /usr/local/lib/python3.6/dist-packages (from tf-nightly-2.0-preview) (0.2.2)\n",
      "Requirement already satisfied: markdown>=2.6.8 in /usr/local/lib/python3.6/dist-packages (from tb-nightly<1.14.0a0,>=1.13.0a0->tf-nightly-2.0-preview) (3.0.1)\n",
      "Requirement already satisfied: werkzeug>=0.11.15 in /usr/local/lib/python3.6/dist-packages (from tb-nightly<1.14.0a0,>=1.13.0a0->tf-nightly-2.0-preview) (0.14.1)\n",
      "Requirement already satisfied: h5py in /usr/local/lib/python3.6/dist-packages (from keras-applications>=1.0.6->tf-nightly-2.0-preview) (2.8.0)\n",
      "Requirement already satisfied: setuptools in /usr/local/lib/python3.6/dist-packages (from protobuf>=3.6.1->tf-nightly-2.0-preview) (40.8.0)\n",
      "Installing collected packages: tb-nightly, google-pasta, tensorflow-estimator-2.0-preview, tf-nightly-2.0-preview\n",
      "Successfully installed google-pasta-0.1.4 tb-nightly-1.13.0a20190219 tensorflow-estimator-2.0-preview-1.14.0.dev2019021900 tf-nightly-2.0-preview-2.0.0.dev20190219\n"
     ]
    }
   ],
   "source": [
    "# install tensorflow\n",
    "!pip install tensorflow==2.0.0-alpha0 "
   ]
  },
  {
   "cell_type": "markdown",
   "metadata": {
    "colab_type": "text",
    "id": "QagzUi2Go1qy"
   },
   "source": [
    "### Import TensorFlow"
   ]
  },
  {
   "cell_type": "code",
   "execution_count": 0,
   "metadata": {
    "colab": {},
    "colab_type": "code",
    "id": "ysoJEX7yorKg"
   },
   "outputs": [],
   "source": [
    "import tensorflow as tf"
   ]
  },
  {
   "cell_type": "markdown",
   "metadata": {
    "colab_type": "text",
    "id": "hzMkyK_KpUOW"
   },
   "source": [
    "Numeric Python lets us carry out numerical operations in Python, such as declaring matrices. We will import numpy and declare a matrix.\n",
    "\n",
    "### Import Numpy"
   ]
  },
  {
   "cell_type": "code",
   "execution_count": 8,
   "metadata": {
    "colab": {
     "base_uri": "https://localhost:8080/",
     "height": 121
    },
    "colab_type": "code",
    "id": "si9jtHafo7YS",
    "outputId": "ad120f1d-37e8-4995-c9d9-8038330fa85f"
   },
   "outputs": [
    {
     "name": "stdout",
     "output_type": "stream",
     "text": [
      "[[1. 1. 1. 1. 1.]\n",
      " [1. 1. 1. 1. 1.]\n",
      " [1. 1. 1. 1. 1.]\n",
      " [1. 1. 1. 1. 1.]\n",
      " [1. 1. 1. 1. 1.]]\n",
      "(5, 5)\n"
     ]
    }
   ],
   "source": [
    "import numpy as np\n",
    "\n",
    "numpy_array = np.ones([5, 5]) #declare 5 rows and 5 columns of 1s\n",
    "print(numpy_array)\n",
    "print(numpy_array.shape)"
   ]
  },
  {
   "cell_type": "markdown",
   "metadata": {
    "colab_type": "text",
    "id": "87Gv7TIdqcaJ"
   },
   "source": [
    "We can create a numpy array from a python list. We will create a row vector"
   ]
  },
  {
   "cell_type": "code",
   "execution_count": 10,
   "metadata": {
    "colab": {
     "base_uri": "https://localhost:8080/",
     "height": 52
    },
    "colab_type": "code",
    "id": "vpqt7ojRpv1W",
    "outputId": "5cfa91cf-b878-4d37-a9bb-11bd26906c0b"
   },
   "outputs": [
    {
     "name": "stdout",
     "output_type": "stream",
     "text": [
      "[[3. 5. 3. 2. 2.]]\n",
      "(1, 5)\n"
     ]
    }
   ],
   "source": [
    "numpy_vector = np.asarray([[3.,5.,3.,2.,2.]])\n",
    "print(numpy_vector)\n",
    "print(numpy_vector.shape)"
   ]
  },
  {
   "cell_type": "markdown",
   "metadata": {
    "colab_type": "text",
    "id": "nnNIvpHhrJOS"
   },
   "source": [
    "### Matrix Multiplication\n",
    "We can use both numpy arrays in a TensorFlow operation that will produce a tensor"
   ]
  },
  {
   "cell_type": "code",
   "execution_count": 12,
   "metadata": {
    "colab": {
     "base_uri": "https://localhost:8080/",
     "height": 121
    },
    "colab_type": "code",
    "id": "C1ErzgYxrFf5",
    "outputId": "ac43c637-c6ad-41f3-b932-cbf522579a74"
   },
   "outputs": [
    {
     "name": "stdout",
     "output_type": "stream",
     "text": [
      "tf.Tensor(\n",
      "[[15.]\n",
      " [15.]\n",
      " [15.]\n",
      " [15.]\n",
      " [15.]], shape=(5, 1), dtype=float64)\n"
     ]
    }
   ],
   "source": [
    "tensor = tf.matmul(numpy_array, numpy_vector.T)\n",
    "print(tensor)"
   ]
  },
  {
   "cell_type": "markdown",
   "metadata": {
    "colab_type": "text",
    "id": "x3inQT1JsIXO"
   },
   "source": [
    "There are a few important details to note in the operation above:\n",
    "\n",
    "*   The 5x5 matrix was generated as an array of floating point numbers, so the matrix that multiples it must use floating point numbers to avoid any errors\n",
    "*   When creating numpy_vector, we put a . after a number to make it a float\n",
    "*   When multiplying matrices, the number of rows in the first matrix must equal the number of columns in the second matrix.\n",
    "*   We apply a transpose to our second matrix to get it into the desired shape for our multiplication. Without it, we would get an error\n",
    "\n"
   ]
  },
  {
   "cell_type": "markdown",
   "metadata": {
    "colab_type": "text",
    "id": "ai5_dAdJtb1z"
   },
   "source": [
    "### Addition\n",
    "Addition requires both tensors/matrices to be of the same shape. Notice how we add a tensor and a numpy array without any explicit conversions."
   ]
  },
  {
   "cell_type": "code",
   "execution_count": 13,
   "metadata": {
    "colab": {
     "base_uri": "https://localhost:8080/",
     "height": 121
    },
    "colab_type": "code",
    "id": "f_n5DHOTrUsy",
    "outputId": "f7ebc92c-2e4f-48cd-9560-9b615a2e7bc2"
   },
   "outputs": [
    {
     "name": "stdout",
     "output_type": "stream",
     "text": [
      "tf.Tensor(\n",
      "[[18.]\n",
      " [20.]\n",
      " [18.]\n",
      " [17.]\n",
      " [17.]], shape=(5, 1), dtype=float64)\n"
     ]
    }
   ],
   "source": [
    "tensor_2 = tf.add(tensor, numpy_vector.T)\n",
    "print(tensor_2)"
   ]
  },
  {
   "cell_type": "markdown",
   "metadata": {
    "colab_type": "text",
    "id": "tXRe97MAuyZX"
   },
   "source": [
    "### Broadcasting\n",
    "Broadcasting lets us use a single value in place of a vector. This will be converted into a vector of the appropriate size on the fly."
   ]
  },
  {
   "cell_type": "code",
   "execution_count": 14,
   "metadata": {
    "colab": {
     "base_uri": "https://localhost:8080/",
     "height": 121
    },
    "colab_type": "code",
    "id": "6kz9uPbntndJ",
    "outputId": "0aa7a480-8471-4ef8-d6b6-47175cf8eab4"
   },
   "outputs": [
    {
     "name": "stdout",
     "output_type": "stream",
     "text": [
      "tf.Tensor(\n",
      "[[54.]\n",
      " [60.]\n",
      " [54.]\n",
      " [51.]\n",
      " [51.]], shape=(5, 1), dtype=float64)\n"
     ]
    }
   ],
   "source": [
    "tensor_3 = tf.multiply(tensor_2, 3)\n",
    "print(tensor_3)"
   ]
  },
  {
   "cell_type": "markdown",
   "metadata": {
    "colab_type": "text",
    "id": "Zsapw8V-vKKa"
   },
   "source": [
    "### Tensors to Numpy Arrays\n",
    "When you are done working with tensors, you can convert them to numpy arrays either explicitly or implicitly"
   ]
  },
  {
   "cell_type": "code",
   "execution_count": 15,
   "metadata": {
    "colab": {
     "base_uri": "https://localhost:8080/",
     "height": 104
    },
    "colab_type": "code",
    "id": "r6OBZZdHvEc8",
    "outputId": "76012cb0-96ed-4604-c4f3-669b2bcd3d32"
   },
   "outputs": [
    {
     "name": "stdout",
     "output_type": "stream",
     "text": [
      "[[54.]\n",
      " [60.]\n",
      " [54.]\n",
      " [51.]\n",
      " [51.]]\n"
     ]
    }
   ],
   "source": [
    "print(tensor_3.numpy())"
   ]
  },
  {
   "cell_type": "code",
   "execution_count": 16,
   "metadata": {
    "colab": {
     "base_uri": "https://localhost:8080/",
     "height": 104
    },
    "colab_type": "code",
    "id": "NmObeQNTvdQS",
    "outputId": "f16c2cf3-51c1-42fd-a31a-c29282552b5b"
   },
   "outputs": [
    {
     "name": "stdout",
     "output_type": "stream",
     "text": [
      "[[63.]\n",
      " [69.]\n",
      " [63.]\n",
      " [60.]\n",
      " [60.]]\n"
     ]
    }
   ],
   "source": [
    "print(np.add(tensor_3, 9))"
   ]
  },
  {
   "cell_type": "code",
   "execution_count": 0,
   "metadata": {
    "colab": {},
    "colab_type": "code",
    "id": "b_qT-uG5viBM"
   },
   "outputs": [],
   "source": []
  }
 ],
 "metadata": {
  "colab": {
   "name": "Packt_1.3_1.ipynb",
   "provenance": [],
   "version": "0.3.2"
  },
  "kernelspec": {
   "display_name": "Python 3",
   "language": "python",
   "name": "python3"
  },
  "language_info": {
   "codemirror_mode": {
    "name": "ipython",
    "version": 3
   },
   "file_extension": ".py",
   "mimetype": "text/x-python",
   "name": "python",
   "nbconvert_exporter": "python",
   "pygments_lexer": "ipython3",
   "version": "3.7.3"
  }
 },
 "nbformat": 4,
 "nbformat_minor": 1
}
