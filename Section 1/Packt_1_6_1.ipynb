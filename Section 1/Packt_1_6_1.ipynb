{
  "nbformat": 4,
  "nbformat_minor": 0,
  "metadata": {
    "colab": {
      "name": "Packt_1.6_1.ipynb",
      "version": "0.3.2",
      "provenance": [],
      "collapsed_sections": []
    },
    "kernelspec": {
      "name": "python3",
      "display_name": "Python 3"
    }
  },
  "cells": [
    {
      "metadata": {
        "id": "t8He8CbZBD3R",
        "colab_type": "code",
        "colab": {}
      },
      "cell_type": "code",
      "source": [
        ""
      ],
      "execution_count": 0,
      "outputs": []
    },
    {
      "metadata": {
        "id": "13WM_91_BXzq",
        "colab_type": "text"
      },
      "cell_type": "markdown",
      "source": [
        "# Getting Started with TensorFlow 2.0 in 7 Days\n",
        "## 1.6 Building Your First Model"
      ]
    },
    {
      "metadata": {
        "id": "4w1qx2HaBb4b",
        "colab_type": "code",
        "outputId": "6e4e03f7-47c4-4609-d378-dfe9a928a6e7",
        "colab": {
          "base_uri": "https://localhost:8080/",
          "height": 369
        }
      },
      "cell_type": "code",
      "source": [
        "# install tensorflow\n",
        "!pip install tf-nightly-2.0-preview"
      ],
      "execution_count": 0,
      "outputs": [
        {
          "output_type": "stream",
          "text": [
            "Requirement already satisfied: tf-nightly-2.0-preview in /usr/local/lib/python3.6/dist-packages (2.0.0.dev20190220)\n",
            "Requirement already satisfied: astor>=0.6.0 in /usr/local/lib/python3.6/dist-packages (from tf-nightly-2.0-preview) (0.7.1)\n",
            "Requirement already satisfied: keras-preprocessing>=1.0.5 in /usr/local/lib/python3.6/dist-packages (from tf-nightly-2.0-preview) (1.0.9)\n",
            "Requirement already satisfied: protobuf>=3.6.1 in /usr/local/lib/python3.6/dist-packages (from tf-nightly-2.0-preview) (3.6.1)\n",
            "Requirement already satisfied: grpcio>=1.8.6 in /usr/local/lib/python3.6/dist-packages (from tf-nightly-2.0-preview) (1.15.0)\n",
            "Requirement already satisfied: tensorflow-estimator-2.0-preview in /usr/local/lib/python3.6/dist-packages (from tf-nightly-2.0-preview) (1.14.0.dev2019022000)\n",
            "Requirement already satisfied: keras-applications>=1.0.6 in /usr/local/lib/python3.6/dist-packages (from tf-nightly-2.0-preview) (1.0.7)\n",
            "Requirement already satisfied: gast>=0.2.0 in /usr/local/lib/python3.6/dist-packages (from tf-nightly-2.0-preview) (0.2.2)\n",
            "Requirement already satisfied: tb-nightly<1.14.0a0,>=1.13.0a0 in /usr/local/lib/python3.6/dist-packages (from tf-nightly-2.0-preview) (1.13.0a20190220)\n",
            "Requirement already satisfied: termcolor>=1.1.0 in /usr/local/lib/python3.6/dist-packages (from tf-nightly-2.0-preview) (1.1.0)\n",
            "Requirement already satisfied: numpy<2.0,>=1.14.5 in /usr/local/lib/python3.6/dist-packages (from tf-nightly-2.0-preview) (1.14.6)\n",
            "Requirement already satisfied: wheel>=0.26 in /usr/local/lib/python3.6/dist-packages (from tf-nightly-2.0-preview) (0.33.1)\n",
            "Requirement already satisfied: absl-py>=0.1.6 in /usr/local/lib/python3.6/dist-packages (from tf-nightly-2.0-preview) (0.7.0)\n",
            "Requirement already satisfied: six>=1.10.0 in /usr/local/lib/python3.6/dist-packages (from tf-nightly-2.0-preview) (1.11.0)\n",
            "Requirement already satisfied: google-pasta>=0.1.2 in /usr/local/lib/python3.6/dist-packages (from tf-nightly-2.0-preview) (0.1.4)\n",
            "Requirement already satisfied: setuptools in /usr/local/lib/python3.6/dist-packages (from protobuf>=3.6.1->tf-nightly-2.0-preview) (40.8.0)\n",
            "Requirement already satisfied: h5py in /usr/local/lib/python3.6/dist-packages (from keras-applications>=1.0.6->tf-nightly-2.0-preview) (2.8.0)\n",
            "Requirement already satisfied: markdown>=2.6.8 in /usr/local/lib/python3.6/dist-packages (from tb-nightly<1.14.0a0,>=1.13.0a0->tf-nightly-2.0-preview) (3.0.1)\n",
            "Requirement already satisfied: werkzeug>=0.11.15 in /usr/local/lib/python3.6/dist-packages (from tb-nightly<1.14.0a0,>=1.13.0a0->tf-nightly-2.0-preview) (0.14.1)\n"
          ],
          "name": "stdout"
        }
      ]
    },
    {
      "metadata": {
        "id": "-0AuL7JOBxi_",
        "colab_type": "code",
        "colab": {}
      },
      "cell_type": "code",
      "source": [
        "import tensorflow as tf\n",
        "from tensorflow import keras\n",
        "import numpy as np\n",
        "import pandas as pd"
      ],
      "execution_count": 0,
      "outputs": []
    },
    {
      "metadata": {
        "id": "QmPyqtMXB4gn",
        "colab_type": "code",
        "colab": {}
      },
      "cell_type": "code",
      "source": [
        "file_path = keras.utils.get_file(\"iris.data\", \"https://archive.ics.uci.edu/ml/machine-learning-databases/iris/iris.data\")"
      ],
      "execution_count": 0,
      "outputs": []
    },
    {
      "metadata": {
        "id": "gxcJH72dB-NA",
        "colab_type": "code",
        "outputId": "1db88497-9ffa-4c21-bfd4-4b56abc3e6c1",
        "colab": {
          "base_uri": "https://localhost:8080/",
          "height": 192
        }
      },
      "cell_type": "code",
      "source": [
        "column_names = ['sepal_length', 'sepal_width', 'petal_length', 'petal_width', 'class']\n",
        "df = pd.read_csv(file_path, names=column_names)\n",
        "df.info()"
      ],
      "execution_count": 0,
      "outputs": [
        {
          "output_type": "stream",
          "text": [
            "<class 'pandas.core.frame.DataFrame'>\n",
            "RangeIndex: 150 entries, 0 to 149\n",
            "Data columns (total 5 columns):\n",
            "sepal_length    150 non-null float64\n",
            "sepal_width     150 non-null float64\n",
            "petal_length    150 non-null float64\n",
            "petal_width     150 non-null float64\n",
            "class           150 non-null object\n",
            "dtypes: float64(4), object(1)\n",
            "memory usage: 5.9+ KB\n"
          ],
          "name": "stdout"
        }
      ]
    },
    {
      "metadata": {
        "id": "uFIyO6y0KAnx",
        "colab_type": "code",
        "outputId": "6835c7d9-cddb-4098-fbbf-683e4a6836b6",
        "colab": {
          "base_uri": "https://localhost:8080/",
          "height": 204
        }
      },
      "cell_type": "code",
      "source": [
        "df.head()"
      ],
      "execution_count": 0,
      "outputs": [
        {
          "output_type": "execute_result",
          "data": {
            "text/html": [
              "<div>\n",
              "<style scoped>\n",
              "    .dataframe tbody tr th:only-of-type {\n",
              "        vertical-align: middle;\n",
              "    }\n",
              "\n",
              "    .dataframe tbody tr th {\n",
              "        vertical-align: top;\n",
              "    }\n",
              "\n",
              "    .dataframe thead th {\n",
              "        text-align: right;\n",
              "    }\n",
              "</style>\n",
              "<table border=\"1\" class=\"dataframe\">\n",
              "  <thead>\n",
              "    <tr style=\"text-align: right;\">\n",
              "      <th></th>\n",
              "      <th>sepal_length</th>\n",
              "      <th>sepal_width</th>\n",
              "      <th>petal_length</th>\n",
              "      <th>petal_width</th>\n",
              "      <th>class</th>\n",
              "    </tr>\n",
              "  </thead>\n",
              "  <tbody>\n",
              "    <tr>\n",
              "      <th>0</th>\n",
              "      <td>5.1</td>\n",
              "      <td>3.5</td>\n",
              "      <td>1.4</td>\n",
              "      <td>0.2</td>\n",
              "      <td>Iris-setosa</td>\n",
              "    </tr>\n",
              "    <tr>\n",
              "      <th>1</th>\n",
              "      <td>4.9</td>\n",
              "      <td>3.0</td>\n",
              "      <td>1.4</td>\n",
              "      <td>0.2</td>\n",
              "      <td>Iris-setosa</td>\n",
              "    </tr>\n",
              "    <tr>\n",
              "      <th>2</th>\n",
              "      <td>4.7</td>\n",
              "      <td>3.2</td>\n",
              "      <td>1.3</td>\n",
              "      <td>0.2</td>\n",
              "      <td>Iris-setosa</td>\n",
              "    </tr>\n",
              "    <tr>\n",
              "      <th>3</th>\n",
              "      <td>4.6</td>\n",
              "      <td>3.1</td>\n",
              "      <td>1.5</td>\n",
              "      <td>0.2</td>\n",
              "      <td>Iris-setosa</td>\n",
              "    </tr>\n",
              "    <tr>\n",
              "      <th>4</th>\n",
              "      <td>5.0</td>\n",
              "      <td>3.6</td>\n",
              "      <td>1.4</td>\n",
              "      <td>0.2</td>\n",
              "      <td>Iris-setosa</td>\n",
              "    </tr>\n",
              "  </tbody>\n",
              "</table>\n",
              "</div>"
            ],
            "text/plain": [
              "   sepal_length  sepal_width  petal_length  petal_width        class\n",
              "0           5.1          3.5           1.4          0.2  Iris-setosa\n",
              "1           4.9          3.0           1.4          0.2  Iris-setosa\n",
              "2           4.7          3.2           1.3          0.2  Iris-setosa\n",
              "3           4.6          3.1           1.5          0.2  Iris-setosa\n",
              "4           5.0          3.6           1.4          0.2  Iris-setosa"
            ]
          },
          "metadata": {
            "tags": []
          },
          "execution_count": 5
        }
      ]
    },
    {
      "metadata": {
        "id": "htP-rUnvKEuY",
        "colab_type": "text"
      },
      "cell_type": "markdown",
      "source": [
        "### Convert categorical values to Integers"
      ]
    },
    {
      "metadata": {
        "id": "m9m6A2WAFseq",
        "colab_type": "code",
        "colab": {}
      },
      "cell_type": "code",
      "source": [
        "df['class'] = df['class'].astype('category')\n",
        "df['class'] = df[['class']].apply(lambda x: x.cat.codes)"
      ],
      "execution_count": 0,
      "outputs": []
    },
    {
      "metadata": {
        "id": "6lyibd_DKQ8H",
        "colab_type": "text"
      },
      "cell_type": "markdown",
      "source": [
        "### Split our data into features and labels"
      ]
    },
    {
      "metadata": {
        "id": "FKbZaGIUCGRU",
        "colab_type": "code",
        "colab": {}
      },
      "cell_type": "code",
      "source": [
        "features = df.drop('class', axis=1).as_matrix()\n",
        "labels = df['class'].as_matrix()"
      ],
      "execution_count": 0,
      "outputs": []
    },
    {
      "metadata": {
        "id": "0azHifUsKZtF",
        "colab_type": "text"
      },
      "cell_type": "markdown",
      "source": [
        "### Create Training and Test Sets"
      ]
    },
    {
      "metadata": {
        "id": "T4pnVRm0DFwR",
        "colab_type": "code",
        "colab": {}
      },
      "cell_type": "code",
      "source": [
        "train_features = features[:-1, :]\n",
        "test_features = features[-1:]"
      ],
      "execution_count": 0,
      "outputs": []
    },
    {
      "metadata": {
        "id": "g_n7BE96D6HX",
        "colab_type": "code",
        "outputId": "6a409e58-4b65-4264-a0c3-8cf99c9c302a",
        "colab": {
          "base_uri": "https://localhost:8080/",
          "height": 34
        }
      },
      "cell_type": "code",
      "source": [
        "print(test_features)"
      ],
      "execution_count": 0,
      "outputs": [
        {
          "output_type": "stream",
          "text": [
            "[[5.9 3.  5.1 1.8]]\n"
          ],
          "name": "stdout"
        }
      ]
    },
    {
      "metadata": {
        "id": "vgtq1GkCD8SQ",
        "colab_type": "code",
        "colab": {}
      },
      "cell_type": "code",
      "source": [
        "train_labels = labels[:-1]\n",
        "test_labels = labels[-1:]"
      ],
      "execution_count": 0,
      "outputs": []
    },
    {
      "metadata": {
        "id": "7bcGvNp7EFhp",
        "colab_type": "code",
        "outputId": "0c22621f-2822-446d-a0e7-729b482f3a4e",
        "colab": {
          "base_uri": "https://localhost:8080/",
          "height": 34
        }
      },
      "cell_type": "code",
      "source": [
        "print(test_labels)"
      ],
      "execution_count": 0,
      "outputs": [
        {
          "output_type": "stream",
          "text": [
            "[2]\n"
          ],
          "name": "stdout"
        }
      ]
    },
    {
      "metadata": {
        "id": "QJb3HXMhKjb9",
        "colab_type": "text"
      },
      "cell_type": "markdown",
      "source": [
        "### Create Keras Sequential Model"
      ]
    },
    {
      "metadata": {
        "id": "Emk62X3FEKix",
        "colab_type": "code",
        "colab": {}
      },
      "cell_type": "code",
      "source": [
        "model = keras.Sequential([\n",
        "    keras.layers.Dense(256, activation='relu'),\n",
        "    keras.layers.Dense(3, activation='softmax')\n",
        "])"
      ],
      "execution_count": 0,
      "outputs": []
    },
    {
      "metadata": {
        "id": "E7xRrw9OKoND",
        "colab_type": "text"
      },
      "cell_type": "markdown",
      "source": [
        "### Compile Model"
      ]
    },
    {
      "metadata": {
        "id": "c9o7us9aEnTU",
        "colab_type": "code",
        "colab": {}
      },
      "cell_type": "code",
      "source": [
        "model.compile(\n",
        "    optimizer='adam',\n",
        "    loss='categorical_crossentropy',\n",
        "    metrics=['accuracy']\n",
        ")"
      ],
      "execution_count": 0,
      "outputs": []
    },
    {
      "metadata": {
        "id": "nXcKGfyyKsS2",
        "colab_type": "text"
      },
      "cell_type": "markdown",
      "source": [
        "### Train Model"
      ]
    },
    {
      "metadata": {
        "id": "x4IjNIc4E6ud",
        "colab_type": "code",
        "outputId": "b6d4f03a-f295-4e77-b192-ec30096ad248",
        "colab": {
          "base_uri": "https://localhost:8080/",
          "height": 597
        }
      },
      "cell_type": "code",
      "source": [
        "model.fit(train_features, train_labels, epochs=15, validation_split=0.3)"
      ],
      "execution_count": 0,
      "outputs": [
        {
          "output_type": "stream",
          "text": [
            "Train on 104 samples, validate on 45 samples\n",
            "Epoch 1/15\n",
            "104/104==============================] - 0s 202us/sample - loss: 1.8741 - acc: 0.4808 - val_loss: 6.8513 - val_acc: 0.0000e+00\n",
            "Epoch 2/15\n",
            "104/104==============================] - 0s 144us/sample - loss: 1.8738 - acc: 0.4808 - val_loss: 6.8488 - val_acc: 0.0000e+00\n",
            "Epoch 3/15\n",
            "104/104==============================] - 0s 141us/sample - loss: 1.8739 - acc: 0.4808 - val_loss: 6.8501 - val_acc: 0.0000e+00\n",
            "Epoch 4/15\n",
            "104/104==============================] - 0s 145us/sample - loss: 1.8743 - acc: 0.4808 - val_loss: 6.8512 - val_acc: 0.0000e+00\n",
            "Epoch 5/15\n",
            "104/104==============================] - 0s 143us/sample - loss: 1.8747 - acc: 0.4808 - val_loss: 6.8521 - val_acc: 0.0000e+00\n",
            "Epoch 6/15\n",
            "104/104==============================] - 0s 160us/sample - loss: 1.8748 - acc: 0.4808 - val_loss: 6.8532 - val_acc: 0.0000e+00\n",
            "Epoch 7/15\n",
            "104/104==============================] - 0s 153us/sample - loss: 1.8751 - acc: 0.4808 - val_loss: 6.8556 - val_acc: 0.0000e+00\n",
            "Epoch 8/15\n",
            "104/104==============================] - 0s 144us/sample - loss: 1.8759 - acc: 0.4808 - val_loss: 6.8605 - val_acc: 0.0000e+00\n",
            "Epoch 9/15\n",
            "104/104==============================] - 0s 149us/sample - loss: 1.8769 - acc: 0.4808 - val_loss: 6.8649 - val_acc: 0.0000e+00\n",
            "Epoch 10/15\n",
            "104/104==============================] - 0s 141us/sample - loss: 1.8777 - acc: 0.4808 - val_loss: 6.8680 - val_acc: 0.0000e+00\n",
            "Epoch 11/15\n",
            "104/104==============================] - 0s 148us/sample - loss: 1.8781 - acc: 0.4808 - val_loss: 6.8714 - val_acc: 0.0000e+00\n",
            "Epoch 12/15\n",
            "104/104==============================] - 0s 167us/sample - loss: 1.8789 - acc: 0.4808 - val_loss: 6.8793 - val_acc: 0.0000e+00\n",
            "Epoch 13/15\n",
            "104/104==============================] - 0s 241us/sample - loss: 1.8804 - acc: 0.4808 - val_loss: 6.8873 - val_acc: 0.0000e+00\n",
            "Epoch 14/15\n",
            "104/104==============================] - 0s 166us/sample - loss: 1.8825 - acc: 0.4808 - val_loss: 6.8948 - val_acc: 0.0000e+00\n",
            "Epoch 15/15\n",
            "104/104==============================] - 0s 176us/sample - loss: 1.8836 - acc: 0.4808 - val_loss: 6.8951 - val_acc: 0.0000e+00\n"
          ],
          "name": "stdout"
        },
        {
          "output_type": "execute_result",
          "data": {
            "text/plain": [
              "<tensorflow.python.keras.callbacks.History at 0x7f210d719c88>"
            ]
          },
          "metadata": {
            "tags": []
          },
          "execution_count": 16
        }
      ]
    },
    {
      "metadata": {
        "id": "_OhXhEVEKxwc",
        "colab_type": "text"
      },
      "cell_type": "markdown",
      "source": [
        "### Use Model for Prediction"
      ]
    },
    {
      "metadata": {
        "id": "bqiQNxzHFFT3",
        "colab_type": "code",
        "outputId": "41d2b83e-c12a-4666-a223-ef13d97c566e",
        "colab": {
          "base_uri": "https://localhost:8080/",
          "height": 34
        }
      },
      "cell_type": "code",
      "source": [
        "print(model.predict(test_features))"
      ],
      "execution_count": 0,
      "outputs": [
        {
          "output_type": "stream",
          "text": [
            "[[0.20587537 0.3931796  0.40094507]]\n"
          ],
          "name": "stdout"
        }
      ]
    },
    {
      "metadata": {
        "id": "wXVLk4asG1Xa",
        "colab_type": "code",
        "colab": {}
      },
      "cell_type": "code",
      "source": [
        ""
      ],
      "execution_count": 0,
      "outputs": []
    }
  ]
}