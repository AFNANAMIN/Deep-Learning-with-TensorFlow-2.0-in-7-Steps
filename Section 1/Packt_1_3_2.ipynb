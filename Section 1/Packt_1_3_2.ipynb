{
  "nbformat": 4,
  "nbformat_minor": 0,
  "metadata": {
    "colab": {
      "name": "Packt_1.3_2.ipynb",
      "version": "0.3.2",
      "provenance": []
    },
    "kernelspec": {
      "name": "python3",
      "display_name": "Python 3"
    }
  },
  "cells": [
    {
      "metadata": {
        "id": "1qc8qqb4x5uq",
        "colab_type": "text"
      },
      "cell_type": "markdown",
      "source": [
        "# Getting Started with TensorFlow 2.0 in 7 Days\n",
        "## 1.3 Getting Started"
      ]
    },
    {
      "metadata": {
        "id": "TXKaZeCTxtAx",
        "colab_type": "code",
        "colab": {
          "base_uri": "https://localhost:8080/",
          "height": 365
        },
        "outputId": "b83f3e8f-9c49-4c4e-a70e-0c391413b604"
      },
      "cell_type": "code",
      "source": [
        "# install tensorflow\n",
        "!pip install tf-nightly-2.0-preview"
      ],
      "execution_count": 1,
      "outputs": [
        {
          "output_type": "stream",
          "text": [
            "Requirement already satisfied: tf-nightly-2.0-preview in /usr/local/lib/python3.6/dist-packages (2.0.0.dev20190219)\n",
            "Requirement already satisfied: numpy<2.0,>=1.14.5 in /usr/local/lib/python3.6/dist-packages (from tf-nightly-2.0-preview) (1.14.6)\n",
            "Requirement already satisfied: termcolor>=1.1.0 in /usr/local/lib/python3.6/dist-packages (from tf-nightly-2.0-preview) (1.1.0)\n",
            "Requirement already satisfied: tb-nightly<1.14.0a0,>=1.13.0a0 in /usr/local/lib/python3.6/dist-packages (from tf-nightly-2.0-preview) (1.13.0a20190219)\n",
            "Requirement already satisfied: grpcio>=1.8.6 in /usr/local/lib/python3.6/dist-packages (from tf-nightly-2.0-preview) (1.15.0)\n",
            "Requirement already satisfied: keras-applications>=1.0.6 in /usr/local/lib/python3.6/dist-packages (from tf-nightly-2.0-preview) (1.0.7)\n",
            "Requirement already satisfied: absl-py>=0.1.6 in /usr/local/lib/python3.6/dist-packages (from tf-nightly-2.0-preview) (0.7.0)\n",
            "Requirement already satisfied: astor>=0.6.0 in /usr/local/lib/python3.6/dist-packages (from tf-nightly-2.0-preview) (0.7.1)\n",
            "Requirement already satisfied: tensorflow-estimator-2.0-preview in /usr/local/lib/python3.6/dist-packages (from tf-nightly-2.0-preview) (1.14.0.dev2019021900)\n",
            "Requirement already satisfied: wheel>=0.26 in /usr/local/lib/python3.6/dist-packages (from tf-nightly-2.0-preview) (0.33.0)\n",
            "Requirement already satisfied: protobuf>=3.6.1 in /usr/local/lib/python3.6/dist-packages (from tf-nightly-2.0-preview) (3.6.1)\n",
            "Requirement already satisfied: gast>=0.2.0 in /usr/local/lib/python3.6/dist-packages (from tf-nightly-2.0-preview) (0.2.2)\n",
            "Requirement already satisfied: six>=1.10.0 in /usr/local/lib/python3.6/dist-packages (from tf-nightly-2.0-preview) (1.11.0)\n",
            "Requirement already satisfied: google-pasta>=0.1.1 in /usr/local/lib/python3.6/dist-packages (from tf-nightly-2.0-preview) (0.1.4)\n",
            "Requirement already satisfied: keras-preprocessing>=1.0.5 in /usr/local/lib/python3.6/dist-packages (from tf-nightly-2.0-preview) (1.0.9)\n",
            "Requirement already satisfied: werkzeug>=0.11.15 in /usr/local/lib/python3.6/dist-packages (from tb-nightly<1.14.0a0,>=1.13.0a0->tf-nightly-2.0-preview) (0.14.1)\n",
            "Requirement already satisfied: markdown>=2.6.8 in /usr/local/lib/python3.6/dist-packages (from tb-nightly<1.14.0a0,>=1.13.0a0->tf-nightly-2.0-preview) (3.0.1)\n",
            "Requirement already satisfied: h5py in /usr/local/lib/python3.6/dist-packages (from keras-applications>=1.0.6->tf-nightly-2.0-preview) (2.8.0)\n",
            "Requirement already satisfied: setuptools in /usr/local/lib/python3.6/dist-packages (from protobuf>=3.6.1->tf-nightly-2.0-preview) (40.8.0)\n"
          ],
          "name": "stdout"
        }
      ]
    },
    {
      "metadata": {
        "id": "2K_vsnUE075z",
        "colab_type": "text"
      },
      "cell_type": "markdown",
      "source": [
        "Let's start by importing the libraries we need"
      ]
    },
    {
      "metadata": {
        "id": "kSeWGqf7yKV9",
        "colab_type": "code",
        "colab": {}
      },
      "cell_type": "code",
      "source": [
        "#import tensorflow\n",
        "import tensorflow as tf\n",
        "\n",
        "#import numpy\n",
        "import numpy as np"
      ],
      "execution_count": 0,
      "outputs": []
    },
    {
      "metadata": {
        "id": "gy1J54bQ1EJX",
        "colab_type": "text"
      },
      "cell_type": "markdown",
      "source": [
        "### Functions\n",
        "we will declare a function to carry out the computation we need. This function is decorated by an annotation.\n",
        "\n",
        "We randomly generate our weights and bias from random normal distributions.\n",
        "\n",
        "We then proceed to multiply and add, just as in the equation. One thing to note is the flag `transpose_b`, which lets the equation transpose our vector into the right shape."
      ]
    },
    {
      "metadata": {
        "id": "muPI1a9lyWGK",
        "colab_type": "code",
        "colab": {}
      },
      "cell_type": "code",
      "source": [
        "@tf.function\n",
        "def predict(x):\n",
        "  # declare our weights to have the same number of columns as our input\n",
        "  w = np.random.randn(1, x.shape[1])\n",
        "  # declare our bias to have the same number of rows but only one column\n",
        "  b = np.random.randn(x.shape[0], 1)\n",
        "  #carry out the operation\n",
        "  return tf.matmul(x, w, transpose_b=True) + b"
      ],
      "execution_count": 0,
      "outputs": []
    },
    {
      "metadata": {
        "id": "JnoMJGqu1kcL",
        "colab_type": "text"
      },
      "cell_type": "markdown",
      "source": [
        "Let's generate a random set of data, which has 10 rows and 3 columns"
      ]
    },
    {
      "metadata": {
        "id": "0R2h5zRqzXD_",
        "colab_type": "code",
        "colab": {
          "base_uri": "https://localhost:8080/",
          "height": 191
        },
        "outputId": "2e8d41a6-c641-4dc7-dd6d-8afaa15a1a6d"
      },
      "cell_type": "code",
      "source": [
        "x = np.random.rand(10, 3)\n",
        "print(x)"
      ],
      "execution_count": 14,
      "outputs": [
        {
          "output_type": "stream",
          "text": [
            "[[0.66322266 0.35256683 0.26426778]\n",
            " [0.52108183 0.47724509 0.56452502]\n",
            " [0.68509892 0.11966289 0.38327889]\n",
            " [0.23499144 0.50968752 0.27155386]\n",
            " [0.44639997 0.27361989 0.80719302]\n",
            " [0.48268021 0.74419858 0.92127753]\n",
            " [0.54879081 0.46002128 0.52280334]\n",
            " [0.56170337 0.75136644 0.13554934]\n",
            " [0.58974474 0.17722376 0.81464616]\n",
            " [0.19290627 0.07268191 0.05249897]]\n"
          ],
          "name": "stdout"
        }
      ]
    },
    {
      "metadata": {
        "id": "6H2fRseh1r-A",
        "colab_type": "text"
      },
      "cell_type": "markdown",
      "source": [
        "Let's proceed to make a prediction. Our output should have only one value for each row."
      ]
    },
    {
      "metadata": {
        "id": "PIF9rMNdzed4",
        "colab_type": "code",
        "colab": {
          "base_uri": "https://localhost:8080/",
          "height": 208
        },
        "outputId": "fdcfc13b-fc65-493e-bded-d28c886a7b50"
      },
      "cell_type": "code",
      "source": [
        "y_hat = predict(x)\n",
        "print(y_hat)"
      ],
      "execution_count": 19,
      "outputs": [
        {
          "output_type": "stream",
          "text": [
            "tf.Tensor(\n",
            "[[-0.31897785]\n",
            " [ 0.38253447]\n",
            " [ 0.46481247]\n",
            " [ 0.71954757]\n",
            " [-0.90465683]\n",
            " [ 1.07475217]\n",
            " [ 0.34797819]\n",
            " [ 0.26235735]\n",
            " [ 1.21413641]\n",
            " [ 0.91522712]], shape=(10, 1), dtype=float64)\n"
          ],
          "name": "stdout"
        }
      ]
    },
    {
      "metadata": {
        "id": "2-7WWjuHzlU1",
        "colab_type": "code",
        "colab": {}
      },
      "cell_type": "code",
      "source": [
        ""
      ],
      "execution_count": 0,
      "outputs": []
    }
  ]
}